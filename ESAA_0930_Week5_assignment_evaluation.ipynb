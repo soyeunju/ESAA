{
  "cells": [
    {
      "cell_type": "markdown",
      "metadata": {
        "id": "view-in-github",
        "colab_type": "text"
      },
      "source": [
        "<a href=\"https://colab.research.google.com/github/soyeunju/ESAA/blob/main/ESAA_0930_Week5_assignment_evaluation.ipynb\" target=\"_parent\"><img src=\"https://colab.research.google.com/assets/colab-badge.svg\" alt=\"Open In Colab\"/></a>"
      ]
    },
    {
      "cell_type": "markdown",
      "id": "51740b31-fb66-4a46-91dc-443c91ae0c2e",
      "metadata": {
        "id": "51740b31-fb66-4a46-91dc-443c91ae0c2e"
      },
      "source": [
        "# 평가\n",
        "성능 평가 지표는 모델이 분류냐 회귀냐에 따라 갈림\n",
        "\n",
        "회귀: 실제값과 예측값의 평균 오차값에 기반\n",
        "\n",
        "분류: 실제 결과 데이터와 예측 결과 데이터가 얼마나 정확하고 오류가 적게 발생하는가에 기반. 이진 분류의 성능 평가 지표"
      ]
    },
    {
      "cell_type": "markdown",
      "id": "1bfb0852-2f0b-4f14-895b-360183f2cea5",
      "metadata": {
        "id": "1bfb0852-2f0b-4f14-895b-360183f2cea5"
      },
      "source": [
        "분류의 성능 평가 지표 - 이진분류, 멀티분류\n",
        "* 정확도(Accuracy)\n",
        "* 오차행렬(Confusion Matrix)\n",
        "* 정밀도(Precision)\n",
        "* 재현율(Recall)\n",
        "* F1 스코어\n",
        "* ROC AUC"
      ]
    },
    {
      "cell_type": "markdown",
      "id": "c956eab8-97b0-4050-b065-3e414ff3d554",
      "metadata": {
        "id": "c956eab8-97b0-4050-b065-3e414ff3d554"
      },
      "source": [
        "## 정확도(Accuracy)\n",
        "실제 데이터에서 예측 데이터가 얼마나 같은지를 판단하는 지표\n",
        "\n",
        "정확도 = 예측 결과가 동일한 데이터 건수/전체 예측 데이터 건수\n"
      ]
    },
    {
      "cell_type": "code",
      "execution_count": null,
      "id": "b438899f-fe2c-44c0-af16-44380cfe15bd",
      "metadata": {
        "id": "b438899f-fe2c-44c0-af16-44380cfe15bd"
      },
      "outputs": [],
      "source": [
        "from sklearn.base import BaseEstimator\n",
        "import numpy as np\n",
        "\n",
        "class MyDummyClassifier(BaseEstimator):\n",
        "  def fit(self, X, y = None):\n",
        "    pass\n",
        "\n",
        "  def predict(self, X):\n",
        "    pred = np.zeros((X.shape[0], 1))\n",
        "    for i in range(X.shape[0]):\n",
        "      if X['Sex'].iloc[i] == 1:\n",
        "        pred[i] = 0\n",
        "      else:\n",
        "        pred[i] = 1\n",
        "    return pred"
      ]
    },
    {
      "cell_type": "code",
      "execution_count": null,
      "id": "bac78403-3eb8-41be-b5d2-3aec5b2373ef",
      "metadata": {
        "id": "bac78403-3eb8-41be-b5d2-3aec5b2373ef"
      },
      "outputs": [],
      "source": [
        "from sklearn.preprocessing import LabelEncoder\n",
        "\n",
        "def fillna(df):\n",
        "  df['Age'].fillna(df['Age'].mean(), inplace = True)\n",
        "  df['Cabin'].fillna('N', inplace = True)\n",
        "  df['Embarked'].fillna('N', inplace = True)\n",
        "  df['Fare'].fillna(0, inplace = True)\n",
        "  return df\n",
        "\n",
        "def drop_features(df):\n",
        "  df.drop(['PassengerId', 'Name', 'Ticket'], axis = 1, inplace = True)\n",
        "  return df\n",
        "\n",
        "def format_features(df):\n",
        "  df['Cabin'] = df['Cabin'].str[:1]\n",
        "  features = ['Cabin', 'Sex', 'Embarked']\n",
        "  for feature in features:\n",
        "    le = LabelEncoder()\n",
        "    le = le.fit(df[feature])\n",
        "    df[feature] = le.transform(df[feature])\n",
        "  return df\n",
        "\n",
        "def transform_features(df):\n",
        "  df = fillna(df)\n",
        "  df = drop_features(df)\n",
        "  df = format_features(df)\n",
        "  return df"
      ]
    },
    {
      "cell_type": "code",
      "execution_count": null,
      "id": "fd324a8f-5716-4621-bade-d3704f981bde",
      "metadata": {
        "id": "fd324a8f-5716-4621-bade-d3704f981bde",
        "outputId": "8f4206e3-5b3f-43ad-e92c-1d234023885f"
      },
      "outputs": [
        {
          "name": "stdout",
          "output_type": "stream",
          "text": [
            "Dummy Classifier의 정확도: 0.7877\n"
          ]
        },
        {
          "name": "stderr",
          "output_type": "stream",
          "text": [
            "/var/folders/_k/vj01ydns1g7_x8fmtnd7yq8m0000gn/T/ipykernel_52740/27557807.py:4: FutureWarning: A value is trying to be set on a copy of a DataFrame or Series through chained assignment using an inplace method.\n",
            "The behavior will change in pandas 3.0. This inplace method will never work because the intermediate object on which we are setting values always behaves as a copy.\n",
            "\n",
            "For example, when doing 'df[col].method(value, inplace=True)', try using 'df.method({col: value}, inplace=True)' or df[col] = df[col].method(value) instead, to perform the operation inplace on the original object.\n",
            "\n",
            "\n",
            "  df['Age'].fillna(df['Age'].mean(), inplace = True)\n",
            "/var/folders/_k/vj01ydns1g7_x8fmtnd7yq8m0000gn/T/ipykernel_52740/27557807.py:5: FutureWarning: A value is trying to be set on a copy of a DataFrame or Series through chained assignment using an inplace method.\n",
            "The behavior will change in pandas 3.0. This inplace method will never work because the intermediate object on which we are setting values always behaves as a copy.\n",
            "\n",
            "For example, when doing 'df[col].method(value, inplace=True)', try using 'df.method({col: value}, inplace=True)' or df[col] = df[col].method(value) instead, to perform the operation inplace on the original object.\n",
            "\n",
            "\n",
            "  df['Cabin'].fillna('N', inplace = True)\n",
            "/var/folders/_k/vj01ydns1g7_x8fmtnd7yq8m0000gn/T/ipykernel_52740/27557807.py:6: FutureWarning: A value is trying to be set on a copy of a DataFrame or Series through chained assignment using an inplace method.\n",
            "The behavior will change in pandas 3.0. This inplace method will never work because the intermediate object on which we are setting values always behaves as a copy.\n",
            "\n",
            "For example, when doing 'df[col].method(value, inplace=True)', try using 'df.method({col: value}, inplace=True)' or df[col] = df[col].method(value) instead, to perform the operation inplace on the original object.\n",
            "\n",
            "\n",
            "  df['Embarked'].fillna('N', inplace = True)\n",
            "/var/folders/_k/vj01ydns1g7_x8fmtnd7yq8m0000gn/T/ipykernel_52740/27557807.py:7: FutureWarning: A value is trying to be set on a copy of a DataFrame or Series through chained assignment using an inplace method.\n",
            "The behavior will change in pandas 3.0. This inplace method will never work because the intermediate object on which we are setting values always behaves as a copy.\n",
            "\n",
            "For example, when doing 'df[col].method(value, inplace=True)', try using 'df.method({col: value}, inplace=True)' or df[col] = df[col].method(value) instead, to perform the operation inplace on the original object.\n",
            "\n",
            "\n",
            "  df['Fare'].fillna(0, inplace = True)\n"
          ]
        }
      ],
      "source": [
        "import pandas as pd\n",
        "from sklearn.model_selection import train_test_split\n",
        "from sklearn.metrics import accuracy_score\n",
        "\n",
        "# 원본 데이터를 재로딩, 데이터 가공, 학습 데이터/테스트 데이터 분할\n",
        "titanic_df = pd.read_csv('/Users/kileylee/Desktop/ESAA/assignment/titanic_train.csv')\n",
        "y_titanic_df = titanic_df['Survived']\n",
        "X_titanic_df = titanic_df.drop('Survived', axis = 1)\n",
        "X_titanic_df = transform_features(X_titanic_df)\n",
        "X_train, X_test, y_train, y_test = train_test_split(X_titanic_df, y_titanic_df, test_size = 0.2, random_state = 0)\n",
        "\n",
        "# 위에서 생성한 Dummy Classifier를 이용해 학습/예측/평가 수행.\n",
        "myclf = MyDummyClassifier()\n",
        "myclf.fit(X_train, y_train)\n",
        "\n",
        "mypredictions = myclf.predict(X_test)\n",
        "print('Dummy Classifier의 정확도: {0:.4f}'.format(accuracy_score(y_test, mypredictions)))\n",
        "\n",
        "## 정확도를 평가 지표로 사용할 때 매우 조심해야 함. 불균형한 레이블 값 분포에서 ML 모델의 성능을 판단할 경우, 적합한 평가 지표가 아닐 수 있음."
      ]
    },
    {
      "cell_type": "markdown",
      "id": "97a63f85-beb9-4a9f-9cb4-7900f6f4c345",
      "metadata": {
        "id": "97a63f85-beb9-4a9f-9cb4-7900f6f4c345"
      },
      "source": [
        "MNIST 데이터 세트를 변환해 불균형한 데이터 세트로 만든 뒤에 정확도 지표 적용 시 어떤 문 제가 발생할 수 있는지 분석\n",
        "\n",
        "MNIST 데이터 세트는 0부터 9까지의 숫자 이미지의 픽셀 정보를 가지고 있으며, 이를 기반으로 숫자 Digit를 예측하는데 사용.\n",
        "\n",
        "load_digits().\n",
        "\n",
        "원래 MINST 데이터 세트는 멀티 레이블 분류를 위해 사용되지만, 예제에서는 7만 True 나머지는 False로 변환해 이진 분류 문제로 변형. (10%만 True)\n",
        "\n",
        "이런 불균형한 데이터 세트에서 모든 데이터를 False, 즉 0으로 예측하는 classifier를 이용해 정확도를 측정하면 약 90%에 가까운 예측 정확도가 나타냄."
      ]
    },
    {
      "cell_type": "code",
      "execution_count": null,
      "id": "1e51025c-2c19-4f53-927b-528017ef435b",
      "metadata": {
        "id": "1e51025c-2c19-4f53-927b-528017ef435b"
      },
      "outputs": [],
      "source": [
        "from sklearn.datasets import load_digits\n",
        "from sklearn.model_selection import train_test_split\n",
        "from sklearn.base import BaseEstimator\n",
        "from sklearn.metrics import accuracy_score\n",
        "import numpy as np\n",
        "import pandas as pd\n",
        "\n",
        "class MyFakeClassifier(BaseEstimator):\n",
        "    def fit(self,X,y):\n",
        "        pass\n",
        "\n",
        "    # 입력값으로 들어오는 X 데이터 세트의 크기만큼 모두 0값으로 만들어서 반환\n",
        "    def predict(self,X):\n",
        "        return np.zeros((len(X),1),dtype=bool)\n",
        "\n",
        "# 사이킷런의 내장 데이터 세트인 load_digits( )를 이용해 MNIST 데이터 로딩\n",
        "digits = load_digits()\n",
        "\n",
        "y = (digits.target==7).astype(int)\n",
        "X_train,X_test,y_train,y_test = train_test_split(digits.data,y,random_state=11)"
      ]
    },
    {
      "cell_type": "code",
      "execution_count": null,
      "id": "84d4eb2c-23c7-4912-a398-a131b6cf4eaf",
      "metadata": {
        "id": "84d4eb2c-23c7-4912-a398-a131b6cf4eaf",
        "outputId": "9a847a2f-5ce8-480e-f54f-0fb43c477051"
      },
      "outputs": [
        {
          "name": "stdout",
          "output_type": "stream",
          "text": [
            "레이블 테스트 세트 크기: (450,)\n",
            "테스트 세트 레이블 0 과 1의 분포도\n",
            "0    405\n",
            "1     45\n",
            "Name: count, dtype: int64\n",
            "모든 예측을 0으로 하여도 정확도는:0.900\n"
          ]
        }
      ],
      "source": [
        "print('레이블 테스트 세트 크기:',y_test.shape)\n",
        "print('테스트 세트 레이블 0 과 1의 분포도')\n",
        "print(pd.Series(y_test).value_counts())\n",
        "\n",
        "# Dummy Classifier로 학습/예측/정확도 평가\n",
        "fakeclf = MyFakeClassifier()\n",
        "fakeclf.fit(X_train,y_train)\n",
        "fakepred = fakeclf.predict(X_test)\n",
        "print('모든 예측을 0으로 하여도 정확도는:{0:.3f}'.format(accuracy_score(y_test,fakepred)))"
      ]
    },
    {
      "cell_type": "markdown",
      "id": "84445447-fa75-4444-90f4-c2aa79f98486",
      "metadata": {
        "id": "84445447-fa75-4444-90f4-c2aa79f98486"
      },
      "source": [
        "이처럼 정확도 평가 지표는 불균형한 레이블 데이터 세트에서는 성능 수치로 사용돼서는 안됨.\n",
        "\n",
        "정확도가 가지는 분류 평가 지표로서 이러한 한계점을 극복하기 위해 여러 가지 분류 지표와 함께 적용하여 ML 모델 성능을 평가해야 함."
      ]
    },
    {
      "cell_type": "markdown",
      "id": "234b524a-498e-46de-a243-87adab935bc9",
      "metadata": {
        "id": "234b524a-498e-46de-a243-87adab935bc9"
      },
      "source": [
        "## 오차행렬(Confusion Matrix)\n",
        "\n",
        "학습된 분류 모델 이 예측을 수행하면서 얼마나 헷갈리고(confused) 있는지도 함께 보여주는 지표\n",
        "\n",
        "오차 행렬은 4분면 행렬에서 실제 레이블 클래스 값과 예측 레이블 클래스 값이 어떠한 유형을 가지고 매핑되는지를 나타냄.\n",
        "\n",
        "Negative(0), Positive(1), T: 예측 레이블 및 실제 레이블 일치 F: 예측 레이블 및 실제 레이블 일치 x. 뒤에 오는 N, P는 예측 레이블 값 의미\n",
        "\n",
        "* TN는 예측값을 Negative 값 0으로 예측했고 실제 값 역시 Negative 값 0\n",
        "* FP는 예측값을 Positive 값 1로 예측했는데 실제 값은 Negative 값 0\n",
        "* FN은 예측값을 Negative값 0으로 예측했는데 실제 값은 Positive 값 1\n",
        "* TP는 예측값을 Positive값 1로 예측했는데 실제 값 역시 Positive 값 1\n",
        "\n",
        "앞 문자 True/False는 예측값과 실제값이 ‘같은가/틀린가’를 의미, 뒤 문자 Negative/Positive는 예측 결과 값이 부정(0)/긍정(1)을 의미.\n",
        "\n",
        "confusion_matrix()"
      ]
    },
    {
      "cell_type": "code",
      "execution_count": null,
      "id": "3c2afd0a-ae4c-4350-b814-7571dba73d44",
      "metadata": {
        "id": "3c2afd0a-ae4c-4350-b814-7571dba73d44",
        "outputId": "d186f0b6-25b0-44b7-96dc-e28a0c2e83e4"
      },
      "outputs": [
        {
          "data": {
            "text/plain": [
              "array([[405,   0],\n",
              "       [ 45,   0]])"
            ]
          },
          "execution_count": 214,
          "metadata": {},
          "output_type": "execute_result"
        }
      ],
      "source": [
        "from sklearn.metrics import confusion_matrix\n",
        "\n",
        "confusion_matrix(y_test,fakepred)"
      ]
    },
    {
      "cell_type": "markdown",
      "id": "a2dfb722-0f66-41b8-97b6-2e79dcdb19eb",
      "metadata": {
        "id": "a2dfb722-0f66-41b8-97b6-2e79dcdb19eb"
      },
      "source": [
        "TP, TN, FP, TN 값은 Classifier 성능의 여러 면모를 판단할 수 있는 기반 정보를 제공함.\n",
        "\n",
        "이 값을 조합해 Classifier의 성능을 측정할 수 있는 주요 지표인 정확도(Accuracy), 정밀도(Precision), 재현율(Recall) 값을 알 수 있음.\n",
        "\n",
        "정확도는 오차행렬상에서 다음과 같이 정의될 수 있음.\n",
        "\n",
        "정확도 = 예측 결과와 실제 값이 동일한 건수 / 전체 데이터 건수 = (TN+TP)/(TN+FP+FN+TP)\n",
        "\n",
        "일반적으로 이러한 불균형한 레이블 클래스를 가지는 이진 분류 모델에서는 많은 데이터 중에서 중점 적으로 찾아야 하는 매우 적은 수의 결괏값에 Positive를 설정해 1값을 부여하고, 그렇지 않은 경우는 Negative로 0 값을 부여하는 경우가 많음.\n",
        "\n",
        "불균형한 이진 분류 데이터 세트에서는 Positive 데이터 건수가 매우 작기 때문에 데이터에 기반한 ML 알고리즘은 Positive보다는 Negative로 예측 정확도가 높아지는 경향이 발생함. 10,000건의 데이터 세트에서 9,900건이 Negative이고 100건이 Positive라면 Negative로 예측하는 경향이 더 강해져 서 TN은 매우 커지고 TP는 매우 작아지게 됨.\n",
        "\n",
        "또한 Negative로 예측할 때 정확도가 높기 때문에 FN(Negative로 예측할 때 틀린 데이터 수)이 매우 작고, Positive로 예측하는 경우가 작기 때문에 FP 역시 매우 작아짐. 결과적으로 정확도 지표는 비대칭한 데이터 세트에서 Positive에 대한 예측 정확도를 판단하지 못한 채 Negative에 대한 예측 정확도만으로도 분류의 정확도가 매우 높게 나타나는 수치적인 판단 오류를 일으키게 됨."
      ]
    },
    {
      "cell_type": "markdown",
      "id": "802e28e9-deba-441f-8fff-fdc01b2502ad",
      "metadata": {
        "id": "802e28e9-deba-441f-8fff-fdc01b2502ad"
      },
      "source": [
        "## 정밀도와 재현율\n",
        "\n",
        "정밀도와 재현율은 Positive 데이터 세트의 예측 성능에 좀 더 초점을 맞춘 평가 지표\n",
        "\n",
        "정밀도: TP/(FP+TP) 예측을 Positive로 한 대상 중에 예측과 실제 값이 Positive로 일치한 데이터의 비율 (예측 양성도)\n",
        "\n",
        "재현율: TP/(FN+TP) 실제 값이 Positive인 모든 데이터 건수 중 예측과 실제 값이 Positive로 일치한 데이터 건수 ( 민감도(Sensitivity) 또는 TPR(True Positive Rate) )\n",
        "\n",
        "재현율의 경우 실제 Positive 양성 데이터를 Negative로 잘못 판단하게 되면 업무상 큰 영향이 발생하는 경우에 활용. ex) 암환자 진단, 사기 진단\n",
        "\n",
        "정밀도가 상대적으로 더 중요한 지표인 경우는 실제 Negative 음성인 데이터 예측을 Positive 양성으로 잘못 판단하게 되면 업무상 큰 영향이 발생하는 경우\n",
        "\n",
        "재현율과 정밀도 모두 TP를 높이는 데 동일하게 초점을 맞추지만, 재현율은 FN(실제 Positive, 예측 Negative)를 낮추는데, 정밀도는 FP를 낮추는 데 초점을 맞춤. 이 같은 특성 때문에 재현율과 정밀도는 서로 보완적인 지표로 분류의 성능을 평가하는 데 적용됨.\n",
        "\n",
        "precision_score(), recall_score( )"
      ]
    },
    {
      "cell_type": "code",
      "execution_count": null,
      "id": "93f7882f-3f2e-4196-aeaa-b50d33e2991a",
      "metadata": {
        "id": "93f7882f-3f2e-4196-aeaa-b50d33e2991a"
      },
      "outputs": [],
      "source": [
        "from sklearn.metrics import accuracy_score, precision_score, recall_score, confusion_matrix\n",
        "\n",
        "def get_clf_eval(y_test,pred):\n",
        "    confusion = confusion_matrix(y_test,pred)\n",
        "    accuracy = accuracy_score(y_test,pred)\n",
        "    precision = precision_score(y_test,pred)\n",
        "    recall = recall_score(y_test,pred)\n",
        "    print('오차행렬')\n",
        "    print(confusion)\n",
        "    print('정확도:{0:.4f}, 정밀도:{1:.4f}, 재현율:{2:.4f}'.format(accuracy,precision,recall))"
      ]
    },
    {
      "cell_type": "code",
      "execution_count": null,
      "id": "41303e63-e2e5-4d99-a83d-6c79045e4bb6",
      "metadata": {
        "id": "41303e63-e2e5-4d99-a83d-6c79045e4bb6",
        "outputId": "98994cd9-932f-4186-faae-8707295196de"
      },
      "outputs": [
        {
          "name": "stdout",
          "output_type": "stream",
          "text": [
            "오차행렬\n",
            "[[108  10]\n",
            " [ 14  47]]\n",
            "정확도:0.8659, 정밀도:0.8246, 재현율:0.7705\n"
          ]
        },
        {
          "name": "stderr",
          "output_type": "stream",
          "text": [
            "/var/folders/_k/vj01ydns1g7_x8fmtnd7yq8m0000gn/T/ipykernel_52740/27557807.py:4: FutureWarning: A value is trying to be set on a copy of a DataFrame or Series through chained assignment using an inplace method.\n",
            "The behavior will change in pandas 3.0. This inplace method will never work because the intermediate object on which we are setting values always behaves as a copy.\n",
            "\n",
            "For example, when doing 'df[col].method(value, inplace=True)', try using 'df.method({col: value}, inplace=True)' or df[col] = df[col].method(value) instead, to perform the operation inplace on the original object.\n",
            "\n",
            "\n",
            "  df['Age'].fillna(df['Age'].mean(), inplace = True)\n",
            "/var/folders/_k/vj01ydns1g7_x8fmtnd7yq8m0000gn/T/ipykernel_52740/27557807.py:5: FutureWarning: A value is trying to be set on a copy of a DataFrame or Series through chained assignment using an inplace method.\n",
            "The behavior will change in pandas 3.0. This inplace method will never work because the intermediate object on which we are setting values always behaves as a copy.\n",
            "\n",
            "For example, when doing 'df[col].method(value, inplace=True)', try using 'df.method({col: value}, inplace=True)' or df[col] = df[col].method(value) instead, to perform the operation inplace on the original object.\n",
            "\n",
            "\n",
            "  df['Cabin'].fillna('N', inplace = True)\n",
            "/var/folders/_k/vj01ydns1g7_x8fmtnd7yq8m0000gn/T/ipykernel_52740/27557807.py:6: FutureWarning: A value is trying to be set on a copy of a DataFrame or Series through chained assignment using an inplace method.\n",
            "The behavior will change in pandas 3.0. This inplace method will never work because the intermediate object on which we are setting values always behaves as a copy.\n",
            "\n",
            "For example, when doing 'df[col].method(value, inplace=True)', try using 'df.method({col: value}, inplace=True)' or df[col] = df[col].method(value) instead, to perform the operation inplace on the original object.\n",
            "\n",
            "\n",
            "  df['Embarked'].fillna('N', inplace = True)\n",
            "/var/folders/_k/vj01ydns1g7_x8fmtnd7yq8m0000gn/T/ipykernel_52740/27557807.py:7: FutureWarning: A value is trying to be set on a copy of a DataFrame or Series through chained assignment using an inplace method.\n",
            "The behavior will change in pandas 3.0. This inplace method will never work because the intermediate object on which we are setting values always behaves as a copy.\n",
            "\n",
            "For example, when doing 'df[col].method(value, inplace=True)', try using 'df.method({col: value}, inplace=True)' or df[col] = df[col].method(value) instead, to perform the operation inplace on the original object.\n",
            "\n",
            "\n",
            "  df['Fare'].fillna(0, inplace = True)\n"
          ]
        }
      ],
      "source": [
        "import pandas as pd\n",
        "from sklearn.model_selection import train_test_split\n",
        "from sklearn.linear_model import LogisticRegression\n",
        "\n",
        "titanic_df = pd.read_csv('/Users/kileylee/Desktop/ESAA/assignment/titanic_train.csv')\n",
        "y_titanic_df = titanic_df['Survived']\n",
        "X_titanic_df = titanic_df.drop('Survived',axis = 1)\n",
        "X_titanic_df = transform_features(X_titanic_df)\n",
        "\n",
        "X_train,X_test,y_train,y_test = train_test_split(X_titanic_df,y_titanic_df,test_size=0.2,random_state = 11)\n",
        "\n",
        "lr_clf = LogisticRegression(solver = 'liblinear') # solver—iblinear는 로지스틱 회귀의 최적화 알고리즘을 liblinear로 설정하는 것\n",
        "\n",
        "lr_clf.fit(X_train,y_train)\n",
        "\n",
        "pred = lr_clf.predict(X_test)\n",
        "get_clf_eval(y_test,pred)"
      ]
    },
    {
      "cell_type": "markdown",
      "id": "360005c4-9b47-4aa3-a848-bc659b5f6bd6",
      "metadata": {
        "id": "360005c4-9b47-4aa3-a848-bc659b5f6bd6"
      },
      "source": [
        "## 정밀도/재현율 트레이드오프\n",
        "분류하려는 업무의 특성상 정밀도 또는 재현율이 특별히 강조돼야 할 경우 분류의 결정 임곗값 (Threshold)을 조정해 정밀도 또는 재현율의 수치를 높일 수 있음\n",
        "하지만 정밀도와 재현율은 상호 보완적인 평가 지표이기 때문에 어느 한 쪽을 강제로 높이면 다른 하나의 수치는 떨어지기 쉬움. 이를 정밀도/재현율의 트레이드오프(Trade-off)라고 부름.\n",
        "\n",
        "가령 이진 분류 모델에서 특정 데이터가 0이 될 확률이 10%, 1이 될 확률이 90%로 예측됐다면 최종 예측은 더 큰 확률을 가진, 즉 90%확률을 가진 1로 예측함. 일반적으로 이진 분류에서는 이 임곗값을 0.5, 즉 50%로 정하고 이 기준 값보다 확률이 크면 Positive, 작으면 Negative로 결정함.\n",
        "\n",
        "사이킷런은 개별 데이터별로 예측 확률을 반환하는 메서드인 predict_proba( )를 제공. 테스트 피처 데이터 세트를 파라미터로 입력해주면 테스트 피처 레코드의 개별 클래스 예측 확률을 반환.\n",
        "\n",
        "ex) 입력 테스트 데이터 세트의 표본 개수가 100개이고 예측 클래스 값 유형이 2개(이진 분류)라면 반환 값은 100 x 2 ndarray임. 각 열은 개별 클래스의 예측 확률. 이진 분류에서 첫 번째 칼럼은 0 Negative의 확률, 두 번째 칼럼은 1 Positive의 확률."
      ]
    },
    {
      "cell_type": "code",
      "execution_count": null,
      "id": "54e81aa2-da27-468c-aae0-fb73a9cb03b8",
      "metadata": {
        "id": "54e81aa2-da27-468c-aae0-fb73a9cb03b8",
        "outputId": "3c2b8bdf-7913-4416-8610-12ce5bd8cfa8"
      },
      "outputs": [
        {
          "name": "stdout",
          "output_type": "stream",
          "text": [
            "predict_proba() 결과 Shape:(179, 2)\n",
            "predict_proba array에서 앞 세개만 샘플로 추출 \n",
            ": [[0.44935225 0.55064775]\n",
            " [0.86335511 0.13664489]\n",
            " [0.86429643 0.13570357]]\n",
            "두 개의 class 중에서 더 큰 확률을 클래스 값으로 예측 \n",
            " [[0.44935225 0.55064775 1.        ]\n",
            " [0.86335511 0.13664489 0.        ]\n",
            " [0.86429643 0.13570357 0.        ]]\n"
          ]
        }
      ],
      "source": [
        "pred_proba = lr_clf.predict_proba(X_test)\n",
        "pred = lr_clf.predict(X_test)\n",
        "print('predict_proba() 결과 Shape:{0}'.format(pred_proba.shape))\n",
        "print('predict_proba array에서 앞 세개만 샘플로 추출 \\n:',pred_proba[:3])\n",
        "\n",
        "# 예측 확률 array와 예측 결괏값 array를 병합(concatenate)해 예측 확률과 결괏값을 한눈에 확인\n",
        "pred_proba_result = np.concatenate([pred_proba,pred.reshape([-1,1])],axis = 1)\n",
        "print('두 개의 class 중에서 더 큰 확률을 클래스 값으로 예측 \\n',pred_proba_result[:3])"
      ]
    },
    {
      "cell_type": "code",
      "execution_count": null,
      "id": "ab24a7e3-8cc9-43f6-a877-c93b39b19f06",
      "metadata": {
        "id": "ab24a7e3-8cc9-43f6-a877-c93b39b19f06",
        "outputId": "baab3892-e10f-4988-832a-b538144d6b0f"
      },
      "outputs": [
        {
          "name": "stdout",
          "output_type": "stream",
          "text": [
            "[[0. 0. 1.]\n",
            " [1. 0. 0.]\n",
            " [0. 0. 1.]]\n"
          ]
        }
      ],
      "source": [
        "# 사이킷런의 정밀도/재현율 트레이드오프 방식을 이해\n",
        "from sklearn.preprocessing import Binarizer\n",
        "# Binarizer 클래스는 fit_transform() 메서드를 이용해 넘파이 ndarray를 입력하면 입력된 ndarray 의 값을 지정된 threshold보다 같거나 작으면 0값으로, 크면 1값으로 변환해 반환\n",
        "\n",
        "X=[[1,-1,2],\n",
        "   [2,0,0],\n",
        "   [0,1.1,1.2]]\n",
        "\n",
        "binarizer = Binarizer(threshold=1.1)\n",
        "print(binarizer.fit_transform(X))"
      ]
    },
    {
      "cell_type": "code",
      "execution_count": null,
      "id": "1b2f1a60-316c-4769-a246-23725c2647d2",
      "metadata": {
        "id": "1b2f1a60-316c-4769-a246-23725c2647d2",
        "outputId": "ce6a56fc-2a4a-4574-ac63-f344c3285cc9"
      },
      "outputs": [
        {
          "name": "stdout",
          "output_type": "stream",
          "text": [
            "오차행렬\n",
            "[[108  10]\n",
            " [ 14  47]]\n",
            "정확도:0.8659, 정밀도:0.8246, 재현율:0.7705\n"
          ]
        }
      ],
      "source": [
        "from sklearn.preprocessing import Binarizer\n",
        "\n",
        "custom_threshold = 0.5\n",
        "\n",
        "# predict_proba( ) 반환값의 두 번째 칼럼, 즉 Positive 클래스 칼럼 하나만 추출해 Binarizer를 적용\n",
        "pred_proba_1 = pred_proba[:,1].reshape(-1,1)\n",
        "\n",
        "binarizer = Binarizer(threshold = custom_threshold).fit(pred_proba_1)\n",
        "custom_predict = binarizer.transform(pred_proba_1)\n",
        "\n",
        "get_clf_eval(y_test, custom_predict)"
      ]
    },
    {
      "cell_type": "code",
      "execution_count": null,
      "id": "108fae2e-6155-4582-915a-0010a424b186",
      "metadata": {
        "id": "108fae2e-6155-4582-915a-0010a424b186",
        "outputId": "7c7d8254-a5ba-478a-be93-87629cc45c03"
      },
      "outputs": [
        {
          "name": "stdout",
          "output_type": "stream",
          "text": [
            "오차행렬\n",
            "[[97 21]\n",
            " [11 50]]\n",
            "정확도:0.8212, 정밀도:0.7042, 재현율:0.8197\n"
          ]
        }
      ],
      "source": [
        "# Binarizer의 threshold 설정값을 0.4로 설정. 즉 분류 결정 임곗값을 0.5에서 0.4로 낮\n",
        "custom_threshold = 0.4\n",
        "\n",
        "# predict_proba( ) 반환값의 두 번째 칼럼, 즉 Positive 클래스 칼럼 하나만 추출해 Binarizer를 적용\n",
        "pred_proba_1 = pred_proba[:,1].reshape(-1,1)\n",
        "\n",
        "binarizer = Binarizer(threshold = custom_threshold).fit(pred_proba_1)\n",
        "custom_predict = binarizer.transform(pred_proba_1)\n",
        "\n",
        "get_clf_eval(y_test, custom_predict)\n",
        "\n",
        "# 임곗값을 낮추니 정밀도가 떨어지고 재현율이 올라감"
      ]
    },
    {
      "cell_type": "code",
      "execution_count": null,
      "id": "7ffa701e-dea5-40a6-8161-4830d378b01d",
      "metadata": {
        "id": "7ffa701e-dea5-40a6-8161-4830d378b01d",
        "outputId": "3a12ff0b-bf5b-4be1-e4fe-d5d7e22dec8f"
      },
      "outputs": [
        {
          "name": "stdout",
          "output_type": "stream",
          "text": [
            "임곗값: 0.4\n",
            "오차행렬\n",
            "[[97 21]\n",
            " [11 50]]\n",
            "정확도:0.8212, 정밀도:0.7042, 재현율:0.8197\n",
            "임곗값: 0.45\n",
            "오차행렬\n",
            "[[105  13]\n",
            " [ 13  48]]\n",
            "정확도:0.8547, 정밀도:0.7869, 재현율:0.7869\n",
            "임곗값: 0.5\n",
            "오차행렬\n",
            "[[108  10]\n",
            " [ 14  47]]\n",
            "정확도:0.8659, 정밀도:0.8246, 재현율:0.7705\n",
            "임곗값: 0.55\n",
            "오차행렬\n",
            "[[111   7]\n",
            " [ 16  45]]\n",
            "정확도:0.8715, 정밀도:0.8654, 재현율:0.7377\n",
            "임곗값: 0.6\n",
            "오차행렬\n",
            "[[113   5]\n",
            " [ 17  44]]\n",
            "정확도:0.8771, 정밀도:0.8980, 재현율:0.7213\n"
          ]
        }
      ],
      "source": [
        "# 테스트를 수행할 모든 임곗값을 리스트 객체로 저장.\n",
        "thresholds = [0.4, 0.45, 0.50, 0.55, 0.60]\n",
        "\n",
        "def get_eval_by_threshold(y_test, pred_proba_c1, thresholds):\n",
        "    # thresholds list객체 내의 값을 차례로 iteration하면서 Evaluation 수행.\n",
        "    for custom_threshold in thresholds:\n",
        "        binarizer = Binarizer(threshold = custom_threshold).fit(pred_proba_1)\n",
        "        custom_predict = binarizer.transform(pred_proba_1)\n",
        "        print('임곗값:', custom_threshold)\n",
        "        get_clf_eval(y_test, custom_predict)\n",
        "\n",
        "get_eval_by_threshold(y_test, pred_proba[:, 1 ].reshape(-1, 1), thresholds )"
      ]
    },
    {
      "cell_type": "markdown",
      "id": "9cebe021-b7dd-4f98-9951-6f070c8dfe3f",
      "metadata": {
        "id": "9cebe021-b7dd-4f98-9951-6f070c8dfe3f"
      },
      "source": [
        "precision_recall_curve()\n",
        "\n",
        "precision_recall_curve( )의 인자로 실제 값 데이터 세트와 레이블 값이 1일 때의 예측 확 률 값을 입력. 이 임곗값 별 정밀도 및 재현율 값을 담은 넘파이 ndarray를 반환."
      ]
    },
    {
      "cell_type": "code",
      "execution_count": null,
      "id": "fee27627-8111-47ad-af6e-25b32be64d8d",
      "metadata": {
        "id": "fee27627-8111-47ad-af6e-25b32be64d8d",
        "outputId": "1f7fc1a0-c023-46ad-ecbe-b4236083bdc2"
      },
      "outputs": [
        {
          "name": "stdout",
          "output_type": "stream",
          "text": [
            "반환된 분류 결정 임곗값 배열의 Shape: (165,)\n",
            "샘플 추출을 위한 임곗값 배열의 index 10개: [  0  15  30  45  60  75  90 105 120 135 150]\n",
            "샘플용 10개의 임곗값: [0.02 0.11 0.13 0.14 0.16 0.24 0.32 0.45 0.62 0.73 0.87]\n",
            "샘플 임계값별 정밀도:  [0.341 0.372 0.401 0.44  0.505 0.598 0.688 0.774 0.915 0.968 0.938]\n",
            "샘플 임계값별 재현율: [1.    1.    0.967 0.902 0.902 0.902 0.869 0.787 0.705 0.492 0.246]\n"
          ]
        }
      ],
      "source": [
        "from sklearn.metrics import precision_recall_curve\n",
        "# 레이블값이 1일때의 예측 확률을 추출\n",
        "pred_proba_class1 = lr_clf.predict_proba(X_test)[:, 1 ]\n",
        "\n",
        "# 실제값 데이터 세트와 레이블 값이 1일 때의 예측 확률을 precision_recall_curve 인자로 입력\n",
        "precisions, recalls, thresholds = precision_recall_curve(y_test, pred_proba_class1 )\n",
        "print('반환된 분류 결정 임곗값 배열의 Shape:', thresholds.shape)\n",
        "\n",
        "# 반환된 임계값 배열 로우가 147건이므로 샘플로 10건만 추출하되, 임곗값을 15 Step으로 추출.\n",
        "thr_index = np.arange(0,thresholds.shape[0],15)\n",
        "print('샘플 추출을 위한 임곗값 배열의 index 10개:',thr_index)\n",
        "print('샘플용 10개의 임곗값:',np.round(thresholds[thr_index],2))\n",
        "\n",
        "# 15 step 단위로 추출된 임계값에 따른 정밀도와 재현율 값\n",
        "print('샘플 임계값별 정밀도: ', np.round(precisions[thr_index], 3))\n",
        "print('샘플 임계값별 재현율:', np.round(recalls[thr_index], 3))\n",
        "\n",
        "# 임곗값이 증가할수록 정밀도 값은 높아지나 재현율 값은 낮아짐을 알 수 있음"
      ]
    },
    {
      "cell_type": "code",
      "execution_count": null,
      "id": "fb364d0c-df4c-4351-9e95-1d0a58c8da29",
      "metadata": {
        "id": "fb364d0c-df4c-4351-9e95-1d0a58c8da29",
        "outputId": "37aac90a-bb76-49c4-f557-c21e50e4df1c"
      },
      "outputs": [
        {
          "data": {
            "image/png": "[encoded data removed]",
            "text/plain": [
              "<Figure size 800x600 with 1 Axes>"
            ]
          },
          "metadata": {},
          "output_type": "display_data"
        }
      ],
      "source": [
        "import matplotlib.pyplot as plt\n",
        "import matplotlib.ticker as ticker\n",
        "%matplotlib inline\n",
        "\n",
        "def precision_recall_curve_plot(y_test, pred_proba_c1):\n",
        "  precisions, recalls, thresholds = precision_recall_curve(y_test, pred_proba_c1)\n",
        "\n",
        "  plt.figure(figsize = (8, 6))\n",
        "  threshold_boundary = thresholds.shape[0]\n",
        "  plt.plot(thresholds, precisions[0:threshold_boundary], linestyle = '--', label = 'precision')\n",
        "  plt.plot(thresholds, recalls[0:threshold_boundary], label = 'recall')\n",
        "\n",
        "  start, end = plt.xlim()\n",
        "  plt.xticks(np.round(np.arange(start, end, 0.1), 2))\n",
        "\n",
        "  plt.xlabel('Threshold value')\n",
        "  plt.ylabel('Precision and Recall value')\n",
        "  plt.legend()\n",
        "  plt.grid()\n",
        "  plt.show()\n",
        "\n",
        "precision_recall_curve_plot(y_test, lr_clf.predict_proba(X_test)[:, 1])\n",
        "\n",
        "# 약 0.45 지점에서 재현율과 정 밀도가 비슷해지는 모습을 보임."
      ]
    },
    {
      "cell_type": "markdown",
      "id": "93ee8ab6-8a2d-4357-83c1-c7e67e18f430",
      "metadata": {
        "id": "93ee8ab6-8a2d-4357-83c1-c7e67e18f430"
      },
      "source": [
        "## 정밀도와 재현율의 쟁점\n",
        "\n",
        "임곗값의 변경은 업무 환경에 맞게 두 개의 수치를 상호 보완할 수 있는 수준에서 적용\n",
        "\n",
        "* 정밀도가 100%가 되는 방법 : 확실한 기준이 되는 경우만 Positive로 예측하고 나머지는 모두 Negative로 예측\n",
        "* 재현율이 100%가 되는 방법 : 모든 환자를 Positive로 예측하면 됨.\n"
      ]
    },
    {
      "cell_type": "markdown",
      "id": "051a0d71-0623-4f84-b99a-b684ba087098",
      "metadata": {
        "id": "051a0d71-0623-4f84-b99a-b684ba087098"
      },
      "source": [
        "## F1 스코어\n",
        "\n",
        "F1 스코어(Score)는 정밀도와 재현율을 결합한 지표. F1 스코어는 정밀도와 재현율이 어느 한 쪽으로 치우치지 않는 수치를 나타낼 때 상대적으로 높은 값을 가짐.\n",
        "\n",
        "F1 = 2/{{1/recall}+(1/precision)}\n",
        "\n",
        "f1_score()"
      ]
    },
    {
      "cell_type": "code",
      "execution_count": null,
      "id": "f156ab20-4220-481f-9836-30d17bea3907",
      "metadata": {
        "id": "f156ab20-4220-481f-9836-30d17bea3907",
        "outputId": "61a8f6a6-795c-41b2-a4e0-e492452695fb"
      },
      "outputs": [
        {
          "name": "stdout",
          "output_type": "stream",
          "text": [
            "f1 스코어:0.7966\n"
          ]
        }
      ],
      "source": [
        "from sklearn.metrics import f1_score\n",
        "f1 = f1_score(y_test,pred)\n",
        "print('f1 스코어:{0:.4f}'.format(f1))"
      ]
    },
    {
      "cell_type": "code",
      "execution_count": null,
      "id": "29808297-0760-4e25-8104-668b14a31f4a",
      "metadata": {
        "id": "29808297-0760-4e25-8104-668b14a31f4a"
      },
      "outputs": [],
      "source": [
        "def get_clf_eval(y_test,pred):\n",
        "    confusion = confusion_matrix(y_test,pred)\n",
        "    accuracy = accuracy_score(y_test,pred)\n",
        "    precision = precision_score(y_test,pred)\n",
        "    recall = recall_score(y_test,pred)\n",
        "\n",
        "    f1 = f1_score(y_test,pred)\n",
        "    print('오차행렬')\n",
        "    print(confusion)\n",
        "\n",
        "    print('정확도:{0:.4f}, 정밀도:{1:.4f}, 재현율:{2:.4f}, F1:{3:.4f}'.format(accuracy,precision,recall,f1))"
      ]
    },
    {
      "cell_type": "code",
      "execution_count": null,
      "id": "dd89e78e-f632-4cd6-b291-8c33046a12d7",
      "metadata": {
        "id": "dd89e78e-f632-4cd6-b291-8c33046a12d7",
        "outputId": "d31fdd3d-e3ec-4943-b57b-c4282742ea7b"
      },
      "outputs": [
        {
          "name": "stdout",
          "output_type": "stream",
          "text": [
            "임곗값: 0.45\n",
            "오차행렬\n",
            "[[105  13]\n",
            " [ 13  48]]\n",
            "정확도:0.8547, 정밀도:0.7869, 재현율:0.7869, F1:0.7869\n",
            "임곗값: 0.5\n",
            "오차행렬\n",
            "[[108  10]\n",
            " [ 14  47]]\n",
            "정확도:0.8659, 정밀도:0.8246, 재현율:0.7705, F1:0.7966\n",
            "임곗값: 0.55\n",
            "오차행렬\n",
            "[[111   7]\n",
            " [ 16  45]]\n",
            "정확도:0.8715, 정밀도:0.8654, 재현율:0.7377, F1:0.7965\n",
            "임곗값: 0.6\n",
            "오차행렬\n",
            "[[113   5]\n",
            " [ 17  44]]\n",
            "정확도:0.8771, 정밀도:0.8980, 재현율:0.7213, F1:0.8000\n"
          ]
        }
      ],
      "source": [
        "thresholds = [0.45,0.5,0.55,0.6]\n",
        "pred_proba = lr_clf.predict_proba(X_test)\n",
        "get_eval_by_threshold(y_test, pred_proba[:, 1].reshape(-1, 1), thresholds)"
      ]
    },
    {
      "cell_type": "markdown",
      "id": "5b68cf2d-5907-4d37-8682-1e27b0652980",
      "metadata": {
        "id": "5b68cf2d-5907-4d37-8682-1e27b0652980"
      },
      "source": [
        "## ROC 곡선과 AUC\n",
        "이진 분류의 예측 성능 측정에서 중요하게 사용되는 지표.\n",
        "\n",
        "ROC 곡선(Receiver Operation Characteristic Curve)은 우리말로 수신자 판단 곡선\n",
        "\n",
        "ROC 곡선은 FPR(False Positive Rate)이 변할 때 TPR(True Positive Rate)이 어떻게 변하는지를 나타내는 곡선\n",
        "\n",
        "FPR을 X 축으로, TPR을 Y 축으로 잡으면 FPR의 변화에 따른 TPR의 변화가 곡선 형태로 나타냄.\n",
        "\n",
        "TPR(True Positive Rate)는 TP/(TP+FN) 민감성.\n",
        "TNR(True Negative Rate)는 TN/(TN+FP) 특이성.\n",
        "\n",
        "FPR(False Posive Rate)는 FP/(TN+FP) = 1 - TNR\n",
        "\n",
        "ROC 곡선이 가운데 직선에 가까울수록 성능이 떨어지는 것이며, 멀어질수록 성능이 뛰어난 것\n",
        "\n",
        "ROC 곡선은 FPR을 0부터 1까지 변경하면서 TPR의 변 화 값을 구함. -> by 임곗값 조정\n",
        "\n",
        "roc_curve(). 입력 파라미터: y_true , y_score 반환값: fpr,tpr,thresholds"
      ]
    },
    {
      "cell_type": "code",
      "execution_count": null,
      "id": "71d0f5f7-f1a6-4bb9-810b-b744d0898a46",
      "metadata": {
        "id": "71d0f5f7-f1a6-4bb9-810b-b744d0898a46",
        "outputId": "64b287f5-f6cb-4b50-dbcd-368062cb9b2b"
      },
      "outputs": [
        {
          "name": "stdout",
          "output_type": "stream",
          "text": [
            "샘플 추출을 위한 임곗값 배열의 index: [ 1  6 11 16 21 26 31 36 41 46]\n",
            "샘플 index로 추출한 임곗값: [0.94 0.73 0.62 0.52 0.44 0.28 0.15 0.14 0.13 0.12]\n",
            "샘플 임계값별 FPR: [0.    0.008 0.025 0.076 0.127 0.254 0.576 0.61  0.746 0.847]\n",
            "샘플 임계값별 TPR: [0.016 0.492 0.705 0.738 0.803 0.885 0.902 0.951 0.967 1.   ]\n"
          ]
        }
      ],
      "source": [
        "from sklearn.metrics import roc_curve\n",
        "\n",
        "pred_proba_class1 = lr_clf.predict_proba(X_test)[:,1]\n",
        "\n",
        "fprs, tprs, thresholds = roc_curve(y_test,pred_proba_class1)\n",
        "\n",
        "# 반환된 임곗값 배열에서 샘플로 데이터를 추출하되, 임곗값을 5 step으로 설정\n",
        "thr_index = np.arange(1,thresholds.shape[0],5)\n",
        "print('샘플 추출을 위한 임곗값 배열의 index:',thr_index)\n",
        "print('샘플 index로 추출한 임곗값:',np.round(thresholds[thr_index],2))\n",
        "\n",
        "# 5 step 단위로 추출된 임계값에 따른 FPR,TPR 값\n",
        "print('샘플 임계값별 FPR:',np.round(fprs[thr_index],3))\n",
        "print('샘플 임계값별 TPR:',np.round(tprs[thr_index],3))\n",
        "\n",
        "# 임계값이 점점 작아지면서 FPR은 점점 커지고, TPR은 가파르게 커짐을 알 수 있음"
      ]
    },
    {
      "cell_type": "code",
      "execution_count": null,
      "id": "b338dbbe-ac54-49c9-9b0a-95e819e409e9",
      "metadata": {
        "id": "b338dbbe-ac54-49c9-9b0a-95e819e409e9",
        "outputId": "ea7b93f2-1fa3-4570-c6dc-f7d2f9409118"
      },
      "outputs": [
        {
          "data": {
            "image/png": "[encoded data removed]",
            "text/plain": [
              "<Figure size 640x480 with 1 Axes>"
            ]
          },
          "metadata": {},
          "output_type": "display_data"
        }
      ],
      "source": [
        "def roc_curve_plot(y_test,pred_proba_c1):\n",
        "    # 임계값에 따른 FPR,TPR 값을 반환받음\n",
        "    fprs, tprs, thresholds = roc_curve(y_test,pred_proba_c1)\n",
        "    # ROC 곡선을 그래프 곡선으로 그림\n",
        "    plt.plot(fprs,tprs,label='ROC')\n",
        "    # 가운데 대각선 직선을 그림\n",
        "    plt.plot([0,1],[0,1],'k--',label = 'Random')\n",
        "\n",
        "    # FPR X 축의 Scale을 0.1 단위로 변경, X,Y축 명 설정 등\n",
        "    start,end = plt.xlim()\n",
        "    plt.xticks(np.round(np.arange(start,end,0.1),2))\n",
        "    plt.xlim(0,1);plt.ylim(0,1)\n",
        "    plt.xlabel('FPS(1-Specificity)');plt.ylabel('TPR(Recall)')\n",
        "    plt.legend()\n",
        "    plt.show()\n",
        "\n",
        "roc_curve_plot(y_test,pred_proba[:,1])"
      ]
    },
    {
      "cell_type": "markdown",
      "id": "ff7f2f0c-c362-4cdd-aba0-49369611207a",
      "metadata": {
        "id": "ff7f2f0c-c362-4cdd-aba0-49369611207a"
      },
      "source": [
        "일반적으로 ROC 곡선 자체는 FPR과 TPR의 변화 값을 보는 데 이용하며 분류의 성능 지표로 사용되 는 것은 ROC 곡선 면적에 기반한 AUC 값으로 결정\n",
        "\n",
        "AUC(Area Under Curve) 값은 ROC 곡선 밑의 면적을 구한 것으로서 일반적으로 1에 가까울수록 좋은 수치\n",
        "\n",
        "AUC 수치가 커지려면 FPR이 작은 상태에서 얼마나 큰 TPR을 얻을 수 있느냐가 관건"
      ]
    },
    {
      "cell_type": "code",
      "execution_count": null,
      "id": "25e8789c-4138-4f63-8fc5-7145027ffe13",
      "metadata": {
        "id": "25e8789c-4138-4f63-8fc5-7145027ffe13",
        "outputId": "3314f2d1-640d-4f89-d950-0f4a77469abe"
      },
      "outputs": [
        {
          "name": "stdout",
          "output_type": "stream",
          "text": [
            "ROC AUC 값: 0.8987\n"
          ]
        }
      ],
      "source": [
        "from sklearn.metrics import roc_auc_score\n",
        "\n",
        "pred_proba = lr_clf.predict_proba(X_test)[:,1]\n",
        "roc_score = roc_auc_score(y_test,pred_proba)\n",
        "print('ROC AUC 값: {0:.4f}'.format(roc_score))"
      ]
    },
    {
      "cell_type": "code",
      "execution_count": null,
      "id": "151ab013-1126-4324-b7ba-0acd10401166",
      "metadata": {
        "id": "151ab013-1126-4324-b7ba-0acd10401166",
        "outputId": "22d30b3f-b793-45b3-b898-9d403ec3e950"
      },
      "outputs": [
        {
          "name": "stdout",
          "output_type": "stream",
          "text": [
            "임곗값: 0.4\n",
            "오차행렬\n",
            "[[97 21]\n",
            " [11 50]]\n",
            "정확도: 0.8212, 정밀도: 0.7042, 재현율: 0.8197, F10.7576, AUC: 0.8209\n",
            "임곗값: 0.45\n",
            "오차행렬\n",
            "[[105  13]\n",
            " [ 13  48]]\n",
            "정확도: 0.8547, 정밀도: 0.7869, 재현율: 0.7869, F10.7869, AUC: 0.8384\n",
            "임곗값: 0.5\n",
            "오차행렬\n",
            "[[108  10]\n",
            " [ 14  47]]\n",
            "정확도: 0.8659, 정밀도: 0.8246, 재현율: 0.7705, F10.7966, AUC: 0.8429\n",
            "임곗값: 0.55\n",
            "오차행렬\n",
            "[[111   7]\n",
            " [ 16  45]]\n",
            "정확도: 0.8715, 정밀도: 0.8654, 재현율: 0.7377, F10.7965, AUC: 0.8392\n",
            "임곗값: 0.6\n",
            "오차행렬\n",
            "[[113   5]\n",
            " [ 17  44]]\n",
            "정확도: 0.8771, 정밀도: 0.8980, 재현율: 0.7213, F10.8000, AUC: 0.8395\n"
          ]
        }
      ],
      "source": [
        "def get_clf_eval(y_test, pred = None, pred_proba = None):\n",
        "    confusion = confusion_matrix(y_test, pred)\n",
        "    accuracy = accuracy_score(y_test, pred)\n",
        "    precision = precision_score(y_test, pred)\n",
        "    recall = recall_score(y_test, pred)\n",
        "    f1 = f1_score(y_test, pred)\n",
        "    roc_auc = roc_auc_score(y_test, pred)\n",
        "    print('오차행렬')\n",
        "    print(confusion)\n",
        "    print('정확도: {0:.4f}, 정밀도: {1:.4f}, 재현율: {2:.4f}, F1{3:.4f}, AUC: {4:.4f}'.format(accuracy, precision, recall, f1, roc_auc))\n",
        "\n",
        "thresholds = [0.4, 0.45, 0.5, 0.55, 0.6]\n",
        "pred_proba = lr_clf.predict_proba(X_test)\n",
        "get_eval_by_threshold(y_test, pred_proba[:, 1].reshape(-1, 1), thresholds)"
      ]
    },
    {
      "cell_type": "markdown",
      "id": "517d0371-3d97-4c00-96c2-8eb396f35020",
      "metadata": {
        "id": "517d0371-3d97-4c00-96c2-8eb396f35020"
      },
      "source": [
        "## 피마 인디언 당뇨병 예측\n",
        "\n",
        "피마 인디언 당뇨병\n",
        "데이터 세트는 북아메리카 피마 지역 원주민의 Type-2 당뇨병 결과 데이터."
      ]
    },
    {
      "cell_type": "code",
      "execution_count": null,
      "id": "7d614a37-4111-4bc3-aac1-4713b07ba990",
      "metadata": {
        "id": "7d614a37-4111-4bc3-aac1-4713b07ba990",
        "outputId": "806f5975-203c-42b8-962b-41144d990b8e"
      },
      "outputs": [
        {
          "name": "stdout",
          "output_type": "stream",
          "text": [
            "Outcome\n",
            "0    500\n",
            "1    268\n",
            "Name: count, dtype: int64\n"
          ]
        },
        {
          "data": {
            "text/html": [
              "<div>\n",
              "<style scoped>\n",
              "    .dataframe tbody tr th:only-of-type {\n",
              "        vertical-align: middle;\n",
              "    }\n",
              "\n",
              "    .dataframe tbody tr th {\n",
              "        vertical-align: top;\n",
              "    }\n",
              "\n",
              "    .dataframe thead th {\n",
              "        text-align: right;\n",
              "    }\n",
              "</style>\n",
              "<table border=\"1\" class=\"dataframe\">\n",
              "  <thead>\n",
              "    <tr style=\"text-align: right;\">\n",
              "      <th></th>\n",
              "      <th>Pregnancies</th>\n",
              "      <th>Glucose</th>\n",
              "      <th>BloodPressure</th>\n",
              "      <th>SkinThickness</th>\n",
              "      <th>Insulin</th>\n",
              "      <th>BMI</th>\n",
              "      <th>DiabetesPedigreeFunction</th>\n",
              "      <th>Age</th>\n",
              "      <th>Outcome</th>\n",
              "    </tr>\n",
              "  </thead>\n",
              "  <tbody>\n",
              "    <tr>\n",
              "      <th>0</th>\n",
              "      <td>6</td>\n",
              "      <td>148</td>\n",
              "      <td>72</td>\n",
              "      <td>35</td>\n",
              "      <td>0</td>\n",
              "      <td>33.6</td>\n",
              "      <td>0.627</td>\n",
              "      <td>50</td>\n",
              "      <td>1</td>\n",
              "    </tr>\n",
              "    <tr>\n",
              "      <th>1</th>\n",
              "      <td>1</td>\n",
              "      <td>85</td>\n",
              "      <td>66</td>\n",
              "      <td>29</td>\n",
              "      <td>0</td>\n",
              "      <td>26.6</td>\n",
              "      <td>0.351</td>\n",
              "      <td>31</td>\n",
              "      <td>0</td>\n",
              "    </tr>\n",
              "    <tr>\n",
              "      <th>2</th>\n",
              "      <td>8</td>\n",
              "      <td>183</td>\n",
              "      <td>64</td>\n",
              "      <td>0</td>\n",
              "      <td>0</td>\n",
              "      <td>23.3</td>\n",
              "      <td>0.672</td>\n",
              "      <td>32</td>\n",
              "      <td>1</td>\n",
              "    </tr>\n",
              "  </tbody>\n",
              "</table>\n",
              "</div>"
            ],
            "text/plain": [
              "   Pregnancies  Glucose  BloodPressure  SkinThickness  Insulin   BMI  \\\n",
              "0            6      148             72             35        0  33.6   \n",
              "1            1       85             66             29        0  26.6   \n",
              "2            8      183             64              0        0  23.3   \n",
              "\n",
              "   DiabetesPedigreeFunction  Age  Outcome  \n",
              "0                     0.627   50        1  \n",
              "1                     0.351   31        0  \n",
              "2                     0.672   32        1  "
            ]
          },
          "execution_count": 231,
          "metadata": {},
          "output_type": "execute_result"
        }
      ],
      "source": [
        "import numpy as np\n",
        "import pandas as pd\n",
        "import matplotlib.pyplot as plt\n",
        "%matplotlib inline\n",
        "\n",
        "from sklearn.model_selection import train_test_split\n",
        "from sklearn.metrics import accuracy_score,precision_score,recall_score,roc_auc_score\n",
        "from sklearn.metrics import f1_score,confusion_matrix,precision_recall_curve,roc_curve\n",
        "from sklearn.preprocessing import StandardScaler\n",
        "from sklearn.linear_model import LogisticRegression\n",
        "\n",
        "diabetes_data = pd.read_csv('/Users/kileylee/Desktop/ESAA/assignment/diabetes.csv')\n",
        "print(diabetes_data['Outcome'].value_counts())\n",
        "diabetes_data.head(3)"
      ]
    },
    {
      "cell_type": "code",
      "execution_count": null,
      "id": "8c590234-4e41-4205-8b18-8b2cf3138893",
      "metadata": {
        "id": "8c590234-4e41-4205-8b18-8b2cf3138893",
        "outputId": "d8a875fe-6710-4359-c713-6f974a8fd272"
      },
      "outputs": [
        {
          "name": "stdout",
          "output_type": "stream",
          "text": [
            "<class 'pandas.core.frame.DataFrame'>\n",
            "RangeIndex: 768 entries, 0 to 767\n",
            "Data columns (total 9 columns):\n",
            " #   Column                    Non-Null Count  Dtype  \n",
            "---  ------                    --------------  -----  \n",
            " 0   Pregnancies               768 non-null    int64  \n",
            " 1   Glucose                   768 non-null    int64  \n",
            " 2   BloodPressure             768 non-null    int64  \n",
            " 3   SkinThickness             768 non-null    int64  \n",
            " 4   Insulin                   768 non-null    int64  \n",
            " 5   BMI                       768 non-null    float64\n",
            " 6   DiabetesPedigreeFunction  768 non-null    float64\n",
            " 7   Age                       768 non-null    int64  \n",
            " 8   Outcome                   768 non-null    int64  \n",
            "dtypes: float64(2), int64(7)\n",
            "memory usage: 54.1 KB\n"
          ]
        }
      ],
      "source": [
        "diabetes_data.info() # Null 값은 없으며, 피처타입 모두 숫자형"
      ]
    },
    {
      "cell_type": "code",
      "execution_count": null,
      "id": "8db616da-488d-49f4-b449-2558a752b018",
      "metadata": {
        "id": "8db616da-488d-49f4-b449-2558a752b018",
        "outputId": "e2e883f9-1c37-48e1-81dd-785d7a37a9eb"
      },
      "outputs": [
        {
          "name": "stdout",
          "output_type": "stream",
          "text": [
            "오차행렬\n",
            "[[87 13]\n",
            " [22 32]]\n",
            "정확도: 0.7727, 정밀도: 0.7111, 재현율: 0.5926, F10.6465, AUC: 0.7313\n"
          ]
        }
      ],
      "source": [
        "X = diabetes_data.iloc[:,:-1]\n",
        "y = diabetes_data.iloc[:,-1]\n",
        "\n",
        "X_train,X_test,y_train,y_test = train_test_split(X,y,test_size = 0.2, random_state = 156,stratify=y)\n",
        "lr_clf = LogisticRegression(solver='liblinear')\n",
        "lr_clf.fit(X_train,y_train)\n",
        "pred = lr_clf.predict(X_test)\n",
        "pred_proba = lr_clf.predict_proba(X_test)[:,1]\n",
        "\n",
        "get_clf_eval(y_test,pred,pred_proba)"
      ]
    },
    {
      "cell_type": "code",
      "execution_count": null,
      "id": "138d129f-58ea-4ca3-972b-45e5a5806e95",
      "metadata": {
        "id": "138d129f-58ea-4ca3-972b-45e5a5806e95",
        "outputId": "b12c01a0-18e7-425d-e208-d7cdfbddab6a"
      },
      "outputs": [
        {
          "data": {
            "image/png": "[encoded data removed]",
            "text/plain": [
              "<Figure size 800x600 with 1 Axes>"
            ]
          },
          "metadata": {},
          "output_type": "display_data"
        }
      ],
      "source": [
        "pred_proba_c1 = lr_clf.predict_proba(X_test)[:,1]\n",
        "precision_recall_curve_plot(y_test,pred_proba_c1)"
      ]
    },
    {
      "cell_type": "code",
      "execution_count": null,
      "id": "35ed4981-e0c5-4936-96dd-e021a8543bcd",
      "metadata": {
        "id": "35ed4981-e0c5-4936-96dd-e021a8543bcd",
        "outputId": "45910c1c-6300-494a-b72f-35b57feb64fe"
      },
      "outputs": [
        {
          "data": {
            "text/html": [
              "<div>\n",
              "<style scoped>\n",
              "    .dataframe tbody tr th:only-of-type {\n",
              "        vertical-align: middle;\n",
              "    }\n",
              "\n",
              "    .dataframe tbody tr th {\n",
              "        vertical-align: top;\n",
              "    }\n",
              "\n",
              "    .dataframe thead th {\n",
              "        text-align: right;\n",
              "    }\n",
              "</style>\n",
              "<table border=\"1\" class=\"dataframe\">\n",
              "  <thead>\n",
              "    <tr style=\"text-align: right;\">\n",
              "      <th></th>\n",
              "      <th>Pregnancies</th>\n",
              "      <th>Glucose</th>\n",
              "      <th>BloodPressure</th>\n",
              "      <th>SkinThickness</th>\n",
              "      <th>Insulin</th>\n",
              "      <th>BMI</th>\n",
              "      <th>DiabetesPedigreeFunction</th>\n",
              "      <th>Age</th>\n",
              "      <th>Outcome</th>\n",
              "    </tr>\n",
              "  </thead>\n",
              "  <tbody>\n",
              "    <tr>\n",
              "      <th>count</th>\n",
              "      <td>768.000000</td>\n",
              "      <td>768.000000</td>\n",
              "      <td>768.000000</td>\n",
              "      <td>768.000000</td>\n",
              "      <td>768.000000</td>\n",
              "      <td>768.000000</td>\n",
              "      <td>768.000000</td>\n",
              "      <td>768.000000</td>\n",
              "      <td>768.000000</td>\n",
              "    </tr>\n",
              "    <tr>\n",
              "      <th>mean</th>\n",
              "      <td>3.845052</td>\n",
              "      <td>120.894531</td>\n",
              "      <td>69.105469</td>\n",
              "      <td>20.536458</td>\n",
              "      <td>79.799479</td>\n",
              "      <td>31.992578</td>\n",
              "      <td>0.471876</td>\n",
              "      <td>33.240885</td>\n",
              "      <td>0.348958</td>\n",
              "    </tr>\n",
              "    <tr>\n",
              "      <th>std</th>\n",
              "      <td>3.369578</td>\n",
              "      <td>31.972618</td>\n",
              "      <td>19.355807</td>\n",
              "      <td>15.952218</td>\n",
              "      <td>115.244002</td>\n",
              "      <td>7.884160</td>\n",
              "      <td>0.331329</td>\n",
              "      <td>11.760232</td>\n",
              "      <td>0.476951</td>\n",
              "    </tr>\n",
              "    <tr>\n",
              "      <th>min</th>\n",
              "      <td>0.000000</td>\n",
              "      <td>0.000000</td>\n",
              "      <td>0.000000</td>\n",
              "      <td>0.000000</td>\n",
              "      <td>0.000000</td>\n",
              "      <td>0.000000</td>\n",
              "      <td>0.078000</td>\n",
              "      <td>21.000000</td>\n",
              "      <td>0.000000</td>\n",
              "    </tr>\n",
              "    <tr>\n",
              "      <th>25%</th>\n",
              "      <td>1.000000</td>\n",
              "      <td>99.000000</td>\n",
              "      <td>62.000000</td>\n",
              "      <td>0.000000</td>\n",
              "      <td>0.000000</td>\n",
              "      <td>27.300000</td>\n",
              "      <td>0.243750</td>\n",
              "      <td>24.000000</td>\n",
              "      <td>0.000000</td>\n",
              "    </tr>\n",
              "    <tr>\n",
              "      <th>50%</th>\n",
              "      <td>3.000000</td>\n",
              "      <td>117.000000</td>\n",
              "      <td>72.000000</td>\n",
              "      <td>23.000000</td>\n",
              "      <td>30.500000</td>\n",
              "      <td>32.000000</td>\n",
              "      <td>0.372500</td>\n",
              "      <td>29.000000</td>\n",
              "      <td>0.000000</td>\n",
              "    </tr>\n",
              "    <tr>\n",
              "      <th>75%</th>\n",
              "      <td>6.000000</td>\n",
              "      <td>140.250000</td>\n",
              "      <td>80.000000</td>\n",
              "      <td>32.000000</td>\n",
              "      <td>127.250000</td>\n",
              "      <td>36.600000</td>\n",
              "      <td>0.626250</td>\n",
              "      <td>41.000000</td>\n",
              "      <td>1.000000</td>\n",
              "    </tr>\n",
              "    <tr>\n",
              "      <th>max</th>\n",
              "      <td>17.000000</td>\n",
              "      <td>199.000000</td>\n",
              "      <td>122.000000</td>\n",
              "      <td>99.000000</td>\n",
              "      <td>846.000000</td>\n",
              "      <td>67.100000</td>\n",
              "      <td>2.420000</td>\n",
              "      <td>81.000000</td>\n",
              "      <td>1.000000</td>\n",
              "    </tr>\n",
              "  </tbody>\n",
              "</table>\n",
              "</div>"
            ],
            "text/plain": [
              "       Pregnancies     Glucose  BloodPressure  SkinThickness     Insulin  \\\n",
              "count   768.000000  768.000000     768.000000     768.000000  768.000000   \n",
              "mean      3.845052  120.894531      69.105469      20.536458   79.799479   \n",
              "std       3.369578   31.972618      19.355807      15.952218  115.244002   \n",
              "min       0.000000    0.000000       0.000000       0.000000    0.000000   \n",
              "25%       1.000000   99.000000      62.000000       0.000000    0.000000   \n",
              "50%       3.000000  117.000000      72.000000      23.000000   30.500000   \n",
              "75%       6.000000  140.250000      80.000000      32.000000  127.250000   \n",
              "max      17.000000  199.000000     122.000000      99.000000  846.000000   \n",
              "\n",
              "              BMI  DiabetesPedigreeFunction         Age     Outcome  \n",
              "count  768.000000                768.000000  768.000000  768.000000  \n",
              "mean    31.992578                  0.471876   33.240885    0.348958  \n",
              "std      7.884160                  0.331329   11.760232    0.476951  \n",
              "min      0.000000                  0.078000   21.000000    0.000000  \n",
              "25%     27.300000                  0.243750   24.000000    0.000000  \n",
              "50%     32.000000                  0.372500   29.000000    0.000000  \n",
              "75%     36.600000                  0.626250   41.000000    1.000000  \n",
              "max     67.100000                  2.420000   81.000000    1.000000  "
            ]
          },
          "execution_count": 235,
          "metadata": {},
          "output_type": "execute_result"
        }
      ],
      "source": [
        "diabetes_data.describe()"
      ]
    },
    {
      "cell_type": "code",
      "execution_count": null,
      "id": "90a9f8b5-1ccc-479a-ab61-ea9557752e51",
      "metadata": {
        "id": "90a9f8b5-1ccc-479a-ab61-ea9557752e51",
        "outputId": "4d333e15-5d26-4f94-88eb-290abfa74c84"
      },
      "outputs": [
        {
          "data": {
            "image/png": "[encoded data removed]",
            "text/plain": [
              "<Figure size 640x480 with 1 Axes>"
            ]
          },
          "metadata": {},
          "output_type": "display_data"
        }
      ],
      "source": [
        "plt.hist(diabetes_data['Glucose'],bins = 100)\n",
        "plt.show()"
      ]
    },
    {
      "cell_type": "code",
      "execution_count": null,
      "id": "4a438120-ec51-476e-aa64-0d16c12a4bda",
      "metadata": {
        "id": "4a438120-ec51-476e-aa64-0d16c12a4bda",
        "outputId": "e0d81a7b-5e0e-48ac-e1ee-2bb3568b26b4"
      },
      "outputs": [
        {
          "name": "stdout",
          "output_type": "stream",
          "text": [
            "Glucose 0 건수는 5, 퍼센트는 0.65%\n",
            "BloodPressure 0 건수는 35, 퍼센트는 4.56%\n",
            "SkinThickness 0 건수는 227, 퍼센트는 29.56%\n",
            "Insulin 0 건수는 374, 퍼센트는 48.70%\n",
            "BMI 0 건수는 11, 퍼센트는 1.43%\n"
          ]
        }
      ],
      "source": [
        "# 0값을 검사할 피처명 리스트\n",
        "zero_features = ['Glucose','BloodPressure','SkinThickness','Insulin','BMI']\n",
        "\n",
        "# 전체 데이터 개수\n",
        "total_count = diabetes_data['Glucose'].count()\n",
        "\n",
        "# 피처별로 반복하면서 데이터 값이 0인 데이터 건수를 추출하고, 퍼센트 계산\n",
        "for feature in zero_features:\n",
        "    zero_count = diabetes_data[diabetes_data[feature]==0][feature].count()\n",
        "    print('{0} 0 건수는 {1}, 퍼센트는 {2:.2f}%'.format(feature,zero_count,100*(zero_count/total_count)))\n"
      ]
    },
    {
      "cell_type": "code",
      "execution_count": null,
      "id": "ac10bf13-d49b-4214-a195-8d9868c8d56a",
      "metadata": {
        "id": "ac10bf13-d49b-4214-a195-8d9868c8d56a"
      },
      "outputs": [],
      "source": [
        "mean_zero_features = diabetes_data[zero_features].mean()\n",
        "diabetes_data[zero_features]=diabetes_data[zero_features].replace(0,mean_zero_features)"
      ]
    },
    {
      "cell_type": "code",
      "execution_count": null,
      "id": "7bb4cc05-bc79-44a2-a296-b77a129ef801",
      "metadata": {
        "id": "7bb4cc05-bc79-44a2-a296-b77a129ef801",
        "outputId": "c461dd68-2cd2-47e8-cdc1-68a17f3aa85a"
      },
      "outputs": [
        {
          "name": "stderr",
          "output_type": "stream",
          "text": [
            "/Users/kileylee/anaconda3/lib/python3.11/site-packages/sklearn/linear_model/_logistic.py:469: ConvergenceWarning: lbfgs failed to converge (status=1):\n",
            "STOP: TOTAL NO. of ITERATIONS REACHED LIMIT.\n",
            "\n",
            "Increase the number of iterations (max_iter) or scale the data as shown in:\n",
            "    https://scikit-learn.org/stable/modules/preprocessing.html\n",
            "Please also refer to the documentation for alternative solver options:\n",
            "    https://scikit-learn.org/stable/modules/linear_model.html#logistic-regression\n",
            "  n_iter_i = _check_optimize_result(\n"
          ]
        }
      ],
      "source": [
        "X = diabetes_data.iloc[:,:-1]\n",
        "y = diabetes_data.iloc[:,-1]\n",
        "\n",
        "scaler = StandardScaler()\n",
        "X_scaled = scaler.fit_transform(X)\n",
        "\n",
        "X_train,X_test,y_train,y_test = train_test_split(X,y,test_size = 0.2, random_state = 156, stratify = y)\n",
        "\n",
        "lr_clf = LogisticRegression()\n",
        "lr_clf.fit(X_train,y_train)\n",
        "pred = lr_clf.predict(X_test)\n",
        "pred_proba = lr_clf.predict_proba(X_test)[:,1]"
      ]
    },
    {
      "cell_type": "code",
      "execution_count": null,
      "id": "0f2d001d-b3c3-47d8-846d-94030f0b31ec",
      "metadata": {
        "id": "0f2d001d-b3c3-47d8-846d-94030f0b31ec"
      },
      "outputs": [],
      "source": [
        "def get_eval_by_threshold(y_test, pred_proba_c1, thresholds):\n",
        "    # thresholds list 내의 값을 차례로 iteration 하면서 evaluation 수행\n",
        "    for custom_threshold in thresholds:\n",
        "        binarizer = Binarizer(threshold=custom_threshold).fit(pred_proba_c1)\n",
        "        custom_predict = binarizer.transform(pred_proba_c1)\n",
        "        print('임계값:', custom_threshold)\n",
        "        get_clf_eval(y_test, custom_predict, pred_proba_c1)"
      ]
    },
    {
      "cell_type": "code",
      "execution_count": null,
      "id": "609fd1ef-6757-49a2-938b-d7cfeebe2ac8",
      "metadata": {
        "id": "609fd1ef-6757-49a2-938b-d7cfeebe2ac8",
        "outputId": "0b5401c1-aeca-46f7-c16d-975f018ac547"
      },
      "outputs": [
        {
          "name": "stdout",
          "output_type": "stream",
          "text": [
            "임계값: 0.3\n",
            "오차행렬\n",
            "[[67 33]\n",
            " [11 43]]\n",
            "정확도: 0.7143, 정밀도: 0.5658, 재현율: 0.7963, F10.6615, AUC: 0.7331\n",
            "임계값: 0.33\n",
            "오차행렬\n",
            "[[75 25]\n",
            " [12 42]]\n",
            "정확도: 0.7597, 정밀도: 0.6269, 재현율: 0.7778, F10.6942, AUC: 0.7639\n",
            "임계값: 0.36\n",
            "오차행렬\n",
            "[[76 24]\n",
            " [14 40]]\n",
            "정확도: 0.7532, 정밀도: 0.6250, 재현율: 0.7407, F10.6780, AUC: 0.7504\n",
            "임계값: 0.39\n",
            "오차행렬\n",
            "[[79 21]\n",
            " [16 38]]\n",
            "정확도: 0.7597, 정밀도: 0.6441, 재현율: 0.7037, F10.6726, AUC: 0.7469\n",
            "임계값: 0.42\n",
            "오차행렬\n",
            "[[80 20]\n",
            " [16 38]]\n",
            "정확도: 0.7662, 정밀도: 0.6552, 재현율: 0.7037, F10.6786, AUC: 0.7519\n",
            "임계값: 0.45\n",
            "오차행렬\n",
            "[[84 16]\n",
            " [19 35]]\n",
            "정확도: 0.7727, 정밀도: 0.6863, 재현율: 0.6481, F10.6667, AUC: 0.7441\n",
            "임계값: 0.48\n",
            "오차행렬\n",
            "[[89 11]\n",
            " [19 35]]\n",
            "정확도: 0.8052, 정밀도: 0.7609, 재현율: 0.6481, F10.7000, AUC: 0.7691\n",
            "임계값: 0.5\n",
            "오차행렬\n",
            "[[90 10]\n",
            " [20 34]]\n",
            "정확도: 0.8052, 정밀도: 0.7727, 재현율: 0.6296, F10.6939, AUC: 0.7648\n"
          ]
        }
      ],
      "source": [
        "thresholds = [0.3, 0.33, 0.36, 0.39, 0.42, 0.45, 0.48, 0.50]\n",
        "pred_proba = lr_clf.predict_proba(X_test)\n",
        "get_eval_by_threshold(y_test,pred_proba[:, 1].reshape(-1, 1), thresholds)"
      ]
    },
    {
      "cell_type": "code",
      "execution_count": null,
      "id": "5abd49f2-31ed-46d0-a2e4-f8fc9bb2e364",
      "metadata": {
        "id": "5abd49f2-31ed-46d0-a2e4-f8fc9bb2e364",
        "outputId": "c4151fbb-5a47-48bb-f5f8-af3eb5144e4f"
      },
      "outputs": [
        {
          "name": "stdout",
          "output_type": "stream",
          "text": [
            "오차행렬\n",
            "[[89 11]\n",
            " [19 35]]\n",
            "정확도: 0.8052, 정밀도: 0.7609, 재현율: 0.6481, F10.7000, AUC: 0.7691\n"
          ]
        }
      ],
      "source": [
        "# 임곗값을 0.48로 설정한 Binarizer 생성\n",
        "binarizer = Binarizer(threshold=0.48)\n",
        "# 위에서 구한 lr_clf의 predict_proba() 예측 확률 array에서 1에 해당하는 칼럼값을 Binarizer 변환.\n",
        "pred_th_048 = binarizer.fit_transform(pred_proba[:, 1 ].reshape(-1, 1))\n",
        "get_clf_eval(y_test, pred_th_048, pred_proba[:, 1 ])"
      ]
    },
    {
      "cell_type": "code",
      "execution_count": null,
      "id": "7b8dcefe-b0b2-4a6b-b318-d61de01f32a6",
      "metadata": {
        "id": "7b8dcefe-b0b2-4a6b-b318-d61de01f32a6"
      },
      "outputs": [],
      "source": []
    }
  ],
  "metadata": {
    "kernelspec": {
      "display_name": "Python 3 (ipykernel)",
      "language": "python",
      "name": "python3"
    },
    "language_info": {
      "codemirror_mode": {
        "name": "ipython",
        "version": 3
      },
      "file_extension": ".py",
      "mimetype": "text/x-python",
      "name": "python",
      "nbconvert_exporter": "python",
      "pygments_lexer": "ipython3",
      "version": "3.11.5"
    },
    "colab": {
      "provenance": [],
      "include_colab_link": true
    }
  },
  "nbformat": 4,
  "nbformat_minor": 5
}