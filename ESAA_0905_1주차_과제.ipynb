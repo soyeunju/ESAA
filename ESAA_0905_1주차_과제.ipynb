{
  "nbformat": 4,
  "nbformat_minor": 0,
  "metadata": {
    "colab": {
      "provenance": [],
      "toc_visible": true,
      "authorship_tag": "ABX9TyMWC7RwhIzd/njp3ivU5ik3",
      "include_colab_link": true
    },
    "kernelspec": {
      "name": "python3",
      "display_name": "Python 3"
    },
    "language_info": {
      "name": "python"
    }
  },
  "cells": [
    {
      "cell_type": "markdown",
      "metadata": {
        "id": "view-in-github",
        "colab_type": "text"
      },
      "source": [
        "<a href=\"https://colab.research.google.com/github/soyeunju/ESAA/blob/main/ESAA_0905_1%EC%A3%BC%EC%B0%A8_%EA%B3%BC%EC%A0%9C.ipynb\" target=\"_parent\"><img src=\"https://colab.research.google.com/assets/colab-badge.svg\" alt=\"Open In Colab\"/></a>"
      ]
    },
    {
      "cell_type": "markdown",
      "source": [
        "#1-3. 넘파이\n",
        "###개념:\n",
        "- Numerical Python을 의미하는 넘파이 (NumPy)는 파이썬에서 선형대수 기반의 프로그램을 쉽게 만들 수 있도록 지원하는 대표적인 패키지.\n",
        "- 대량 데이터의 배열 연산을 가능하게 하므로 빠른 배열 연산 속도를 보장\n",
        "- 배열 기반의 연산, 다양한 데이터 핸들링 가능"
      ],
      "metadata": {
        "id": "mJbkJdIfD0CV"
      }
    },
    {
      "cell_type": "markdown",
      "source": [],
      "metadata": {
        "id": "5cGtBpmTUWIv"
      }
    },
    {
      "cell_type": "markdown",
      "source": [
        "## 넘파이 ndarray"
      ],
      "metadata": {
        "id": "2MbGB_U3E0DB"
      }
    },
    {
      "cell_type": "code",
      "source": [
        "import numpy as np"
      ],
      "metadata": {
        "id": "0q27447LE7yl"
      },
      "execution_count": 1,
      "outputs": []
    },
    {
      "cell_type": "markdown",
      "source": [
        "- .array(): 리스트와 같은 다양한 인자를 입력받아서 ndarray로 변환하는 기능\n",
        "\n",
        "- .shape(): ndarray의 차원과 크기를 튜플(tuple)\n",
        "- .ndim(): array의 차원\n",
        "- .dtype(): 데이터 속성\n",
        "- .astype(): ndarray 내 데이터값의 타입 변경. 메모리 절약을 위해 활용\n",
        "- .arange(): 연속값. 0부터 인자 값 -1까지. start, stop 인자로 줄 수 있음\n",
        "- .ones(): 함수 인자로 튜플 형태의 shape 값을 입력하면 모든 값을 0으로 채운 ndarray를 반환\n",
        "- .zeros():함수 인자로 튜플 형태의 shape 값을 입력하면 모든 값을 1으로 채운 ndarray를 반환\n",
        "- .reshape():ndarray를 특정 차원 및 크기로 변환"
      ],
      "metadata": {
        "id": "94sqK2sgFIPe"
      }
    },
    {
      "cell_type": "code",
      "source": [
        "#.array()\n",
        "#.shape()\n",
        "array1 = np.array([1,2,3])\n",
        "print('array1 type:',type(array1))\n",
        "print('array1 array 형태',array1.shape)\n",
        "\n",
        "\n",
        "array2 = np.array([[1,2,3],\n",
        "                   [4,5,6]])\n",
        "print('array2 type:',type(array2))\n",
        "print('array2 array 형태',array2.shape)\n",
        "\n",
        "array3 = np.array([[1,2,3]])\n",
        "print('array3 type:',type(array3))\n",
        "print('array3 array 형태',array3.shape)"
      ],
      "metadata": {
        "colab": {
          "base_uri": "https://localhost:8080/"
        },
        "id": "vPblkLFGGJgs",
        "outputId": "1d22282a-a0a8-4115-dcb5-4adf7e1f0cd5"
      },
      "execution_count": 2,
      "outputs": [
        {
          "output_type": "stream",
          "name": "stdout",
          "text": [
            "array1 type: <class 'numpy.ndarray'>\n",
            "array1 array 형태 (3,)\n",
            "array2 type: <class 'numpy.ndarray'>\n",
            "array2 array 형태 (2, 3)\n",
            "array3 type: <class 'numpy.ndarray'>\n",
            "array3 array 형태 (1, 3)\n"
          ]
        }
      ]
    },
    {
      "cell_type": "code",
      "source": [
        "#.ndim()\n",
        "print('array1:{0}차원, array2:{1}차원, array3:{2}차원'.format(array1.ndim,array2.ndim,array3.ndim))"
      ],
      "metadata": {
        "colab": {
          "base_uri": "https://localhost:8080/"
        },
        "id": "TwwocFhnG-2Q",
        "outputId": "bf756fcb-94cd-4e9e-a8d2-dcefb1eef1c5"
      },
      "execution_count": 3,
      "outputs": [
        {
          "output_type": "stream",
          "name": "stdout",
          "text": [
            "array1:1차원, array2:2차원, array3:2차원\n"
          ]
        }
      ]
    },
    {
      "cell_type": "code",
      "source": [
        "#.dtype()\n",
        "list1=[1,2,3]\n",
        "print(type(list1))\n",
        "array1=np.array(list1)\n",
        "print(type(array1))\n",
        "print(array1,array1.dtype)"
      ],
      "metadata": {
        "colab": {
          "base_uri": "https://localhost:8080/"
        },
        "id": "D97mDXx1INtf",
        "outputId": "59c5401d-3fe4-4191-e88c-debf59b50906"
      },
      "execution_count": 4,
      "outputs": [
        {
          "output_type": "stream",
          "name": "stdout",
          "text": [
            "<class 'list'>\n",
            "<class 'numpy.ndarray'>\n",
            "[1 2 3] int64\n"
          ]
        }
      ]
    },
    {
      "cell_type": "code",
      "source": [
        "list2 = [1,2,'test']\n",
        "array2 = np.array(list2)\n",
        "print(array2,array2.dtype)\n",
        "\n",
        "list3=[1,2,3.0]\n",
        "array3=np.array(list3)\n",
        "print(array3,array3.dtype)"
      ],
      "metadata": {
        "colab": {
          "base_uri": "https://localhost:8080/"
        },
        "id": "nsnD5mBbIaCo",
        "outputId": "eb5f468a-14e0-433a-8cdf-e409980eb1db"
      },
      "execution_count": 5,
      "outputs": [
        {
          "output_type": "stream",
          "name": "stdout",
          "text": [
            "['1' '2' 'test'] <U21\n",
            "[1. 2. 3.] float64\n"
          ]
        }
      ]
    },
    {
      "cell_type": "code",
      "source": [
        "#.astype()\n",
        "array_int=np.array([1,2,3])\n",
        "array_float=array_int.astype('float64')\n",
        "print(array_float,array_float.dtype)\n",
        "\n",
        "array_int1=array_float.astype('int32')\n",
        "print(array_int1,array_int1.dtype)"
      ],
      "metadata": {
        "colab": {
          "base_uri": "https://localhost:8080/"
        },
        "id": "yOzVN1B2KOPu",
        "outputId": "6709ee90-bd30-44df-911f-166cfb9bd668"
      },
      "execution_count": 7,
      "outputs": [
        {
          "output_type": "stream",
          "name": "stdout",
          "text": [
            "[1. 2. 3.] float64\n",
            "[1 2 3] int32\n"
          ]
        }
      ]
    },
    {
      "cell_type": "code",
      "source": [
        "#.arange()\n",
        "sequence_array=np.arange(10)\n",
        "print(sequence_array)\n",
        "print(sequence_array.dtype,sequence_array.shape)"
      ],
      "metadata": {
        "colab": {
          "base_uri": "https://localhost:8080/"
        },
        "id": "FMIsdeCDKxe1",
        "outputId": "dbacdefe-2808-452a-8914-c46a961adb67"
      },
      "execution_count": 8,
      "outputs": [
        {
          "output_type": "stream",
          "name": "stdout",
          "text": [
            "[0 1 2 3 4 5 6 7 8 9]\n",
            "int64 (10,)\n"
          ]
        }
      ]
    },
    {
      "cell_type": "code",
      "source": [
        "#.zeros()\n",
        "#.ones()\n",
        "zero_array=np.zeros((3,2),dtype='int32')\n",
        "print(zero_array)\n",
        "print(zero_array.dtype, zero_array.shape)\n",
        "\n",
        "one_array=np.ones((3,2),dtype='int32')\n",
        "print(one_array)\n",
        "print(one_array.dtype,one_array.shape)"
      ],
      "metadata": {
        "colab": {
          "base_uri": "https://localhost:8080/"
        },
        "id": "4YRlPcMPN7F6",
        "outputId": "10e6f947-d546-4b99-97a0-8ce808000ac9"
      },
      "execution_count": 9,
      "outputs": [
        {
          "output_type": "stream",
          "name": "stdout",
          "text": [
            "[[0 0]\n",
            " [0 0]\n",
            " [0 0]]\n",
            "int32 (3, 2)\n",
            "[[1 1]\n",
            " [1 1]\n",
            " [1 1]]\n",
            "int32 (3, 2)\n"
          ]
        }
      ]
    },
    {
      "cell_type": "code",
      "source": [
        "#.reshape()\n",
        "array1=np.arange(10)\n",
        "print('array1:\\n',array1)\n",
        "\n",
        "array2=array1.reshape(2,5)\n",
        "print('array2:\\n',array2)\n",
        "\n",
        "array3=array1.reshape(5,2)\n",
        "print('array3:\\n',array3)"
      ],
      "metadata": {
        "colab": {
          "base_uri": "https://localhost:8080/"
        },
        "id": "4Rrhyf54OeyP",
        "outputId": "2df0cd7c-2fef-4954-cbdb-d950a8aa2662"
      },
      "execution_count": 13,
      "outputs": [
        {
          "output_type": "stream",
          "name": "stdout",
          "text": [
            "array1:\n",
            " [0 1 2 3 4 5 6 7 8 9]\n",
            "array2:\n",
            " [[0 1 2 3 4]\n",
            " [5 6 7 8 9]]\n",
            "array3:\n",
            " [[0 1]\n",
            " [2 3]\n",
            " [4 5]\n",
            " [6 7]\n",
            " [8 9]]\n"
          ]
        }
      ]
    },
    {
      "cell_type": "code",
      "source": [
        "array1.reshape(4,3) # 지정된 사이즈로 변경이 불가능하면 오류를 발생"
      ],
      "metadata": {
        "colab": {
          "base_uri": "https://localhost:8080/",
          "height": 144
        },
        "id": "TOuIehbzPDLE",
        "outputId": "9b576100-1998-4dac-bc26-647bba8e249d"
      },
      "execution_count": 14,
      "outputs": [
        {
          "output_type": "error",
          "ename": "ValueError",
          "evalue": "cannot reshape array of size 10 into shape (4,3)",
          "traceback": [
            "\u001b[0;31m---------------------------------------------------------------------------\u001b[0m",
            "\u001b[0;31mValueError\u001b[0m                                Traceback (most recent call last)",
            "\u001b[0;32m<ipython-input-14-756b9362fdd6>\u001b[0m in \u001b[0;36m<cell line: 1>\u001b[0;34m()\u001b[0m\n\u001b[0;32m----> 1\u001b[0;31m \u001b[0marray1\u001b[0m\u001b[0;34m.\u001b[0m\u001b[0mreshape\u001b[0m\u001b[0;34m(\u001b[0m\u001b[0;36m4\u001b[0m\u001b[0;34m,\u001b[0m\u001b[0;36m3\u001b[0m\u001b[0;34m)\u001b[0m \u001b[0;31m# 지정된 사이즈로 변경이 불가능하면 오류를 발생\u001b[0m\u001b[0;34m\u001b[0m\u001b[0;34m\u001b[0m\u001b[0m\n\u001b[0m",
            "\u001b[0;31mValueError\u001b[0m: cannot reshape array of size 10 into shape (4,3)"
          ]
        }
      ]
    },
    {
      "cell_type": "code",
      "source": [
        "#.reshape()\n",
        "array1=np.arange(10)\n",
        "print(array1)\n",
        "\n",
        "array2=array1.reshape(-1,5) # -1을 인자로 사용하면 원래 ndarray와 호환되는 새로운 shape로 변환\n",
        "print('array2 shape:',array2.shape)\n",
        "\n",
        "array3=array1.reshape(5,-1) # -1을 인자로 사용하면 원래 ndarray와 호환되는 새로운 shape로 변환\n",
        "print('array3 shape:',array3.shape)"
      ],
      "metadata": {
        "colab": {
          "base_uri": "https://localhost:8080/"
        },
        "id": "wARqHr66Pn4C",
        "outputId": "011cb90e-a80a-4758-c658-182160c7eb5b"
      },
      "execution_count": 15,
      "outputs": [
        {
          "output_type": "stream",
          "name": "stdout",
          "text": [
            "[0 1 2 3 4 5 6 7 8 9]\n",
            "array2 shape: (2, 5)\n",
            "array3 shape: (5, 2)\n"
          ]
        }
      ]
    },
    {
      "cell_type": "code",
      "source": [
        "array1 = np.arange(10)\n",
        "array4 = array1.reshape(-1, 4) # 물론 -1을 사용하더라도 호환 될 수 없는 형태는 변환할 수 없음"
      ],
      "metadata": {
        "colab": {
          "base_uri": "https://localhost:8080/",
          "height": 162
        },
        "id": "V_TRyyPVQMFq",
        "outputId": "8f57c233-4799-4ca8-de2a-8d061b845097"
      },
      "execution_count": 16,
      "outputs": [
        {
          "output_type": "error",
          "ename": "ValueError",
          "evalue": "cannot reshape array of size 10 into shape (4)",
          "traceback": [
            "\u001b[0;31m---------------------------------------------------------------------------\u001b[0m",
            "\u001b[0;31mValueError\u001b[0m                                Traceback (most recent call last)",
            "\u001b[0;32m<ipython-input-16-443f4d3225a3>\u001b[0m in \u001b[0;36m<cell line: 2>\u001b[0;34m()\u001b[0m\n\u001b[1;32m      1\u001b[0m \u001b[0marray1\u001b[0m \u001b[0;34m=\u001b[0m \u001b[0mnp\u001b[0m\u001b[0;34m.\u001b[0m\u001b[0marange\u001b[0m\u001b[0;34m(\u001b[0m\u001b[0;36m10\u001b[0m\u001b[0;34m)\u001b[0m\u001b[0;34m\u001b[0m\u001b[0;34m\u001b[0m\u001b[0m\n\u001b[0;32m----> 2\u001b[0;31m \u001b[0marray4\u001b[0m \u001b[0;34m=\u001b[0m \u001b[0marray1\u001b[0m\u001b[0;34m.\u001b[0m\u001b[0mreshape\u001b[0m\u001b[0;34m(\u001b[0m\u001b[0;34m-\u001b[0m\u001b[0;36m1\u001b[0m\u001b[0;34m,\u001b[0m \u001b[0;36m4\u001b[0m\u001b[0;34m)\u001b[0m \u001b[0;31m# 물론 -1을 사용하더라도 호환 될 수 없는 형태는 변환할 수 없음\u001b[0m\u001b[0;34m\u001b[0m\u001b[0;34m\u001b[0m\u001b[0m\n\u001b[0m",
            "\u001b[0;31mValueError\u001b[0m: cannot reshape array of size 10 into shape (4)"
          ]
        }
      ]
    },
    {
      "cell_type": "code",
      "source": [
        "#.reshape()\n",
        "array1=np.arange(8)\n",
        "array3d=array1.reshape((2,2,2))\n",
        "print('array3d:\\n',array3d.tolist())\n",
        "\n",
        "# 3차원 ndarray를 2차원 ndarray로 변환\n",
        "array5=array3d.reshape(-1,1) # -1 인자는 reshape(—1,1)와 같은 형태로 자주 사용됨. reshape(—1,1)은 원본 ndarray가 어떤 형태라도 2차원으로 변환\n",
        "print('array5:\\n',array5.tolist())\n",
        "print('array5:\\n',array5.shape)\n",
        "\n",
        "# 1차원 ndarray를 2차원 ndarray로 변환\n",
        "array6=array1.reshape(-1,1)\n",
        "print('array6:\\n',array6.tolist())\n",
        "print('array6:\\n',array6.shape)"
      ],
      "metadata": {
        "colab": {
          "base_uri": "https://localhost:8080/"
        },
        "id": "TrdybzPTQb8-",
        "outputId": "f89bd4b8-ecd7-41dd-91fd-647c610aff84"
      },
      "execution_count": 19,
      "outputs": [
        {
          "output_type": "stream",
          "name": "stdout",
          "text": [
            "array3d:\n",
            " [[[0, 1], [2, 3]], [[4, 5], [6, 7]]]\n",
            "array5:\n",
            " [[0], [1], [2], [3], [4], [5], [6], [7]]\n",
            "array5:\n",
            " (8, 1)\n",
            "array6:\n",
            " [[0], [1], [2], [3], [4], [5], [6], [7]]\n",
            "array6:\n",
            " (8, 1)\n"
          ]
        }
      ]
    },
    {
      "cell_type": "markdown",
      "source": [
        "##인덱싱(Indexing)\n",
        "###개념:\n",
        "- 특정한 데이터만 추출: 원하는 위치의 인덱스 값을 지정하면 해당 위치의 데이터가 반환\n",
        "- 슬라이싱: 연속된 인덱스상의 ndarray를 추출하는 방식. \" : \" 기호 활용\n",
        "- 팬시 인덱싱(Fancy Indexing): 일정한 인덱싱 집합을 리스트 또는 ndarray 형태로 지정\n",
        "- 불린 인덱싱(Boolean Indexing): 특정 조건에 해당하는지 여부인 True/False 값 인덱싱 집합을 기반으로 True 에 해당하는 인덱스 위치에 있는 데이터의 ndarray 반환"
      ],
      "metadata": {
        "id": "0kOYAt_3Sv3z"
      }
    },
    {
      "cell_type": "markdown",
      "source": [
        "### 단일 값 추출"
      ],
      "metadata": {
        "id": "pOb-rX5Wbvmu"
      }
    },
    {
      "cell_type": "code",
      "source": [
        "\n",
        "# 1부터 9까지의 1차원 ndarray 생성\n",
        "array1=np.arange(start=1,stop=10)\n",
        "print('array1:',array1)\n",
        "\n",
        "value=array1[2]\n",
        "print('value:',value)\n",
        "print(type(value))"
      ],
      "metadata": {
        "colab": {
          "base_uri": "https://localhost:8080/"
        },
        "id": "oiHX3w6eUIHD",
        "outputId": "0f234cc4-d6b1-4090-e9d9-8439888abdb0"
      },
      "execution_count": 20,
      "outputs": [
        {
          "output_type": "stream",
          "name": "stdout",
          "text": [
            "array1: [1 2 3 4 5 6 7 8 9]\n",
            "value: 3\n",
            "<class 'numpy.int64'>\n"
          ]
        }
      ]
    },
    {
      "cell_type": "code",
      "source": [
        "print('맨 뒤의 값:',array1[-1],'맨 뒤에서 두 번째 값:',array1[-2]) # 인덱스 -1은 맨 뒤 의 데이터값을 의미"
      ],
      "metadata": {
        "colab": {
          "base_uri": "https://localhost:8080/"
        },
        "id": "xpbMfpz5VA5H",
        "outputId": "5ca73c61-edf7-41a6-ff34-b18f0e8c85c8"
      },
      "execution_count": 21,
      "outputs": [
        {
          "output_type": "stream",
          "name": "stdout",
          "text": [
            "맨 뒤의 값: 9 맨 뒤에서 두 번째 값: 8\n"
          ]
        }
      ]
    },
    {
      "cell_type": "code",
      "source": [
        "# 단일 인덱스를 이용해 ndarray 내의 데이터값도 간단히 수정 가능\n",
        "array1[0]=9\n",
        "array1[8]=0\n",
        "print('array1:',array1)"
      ],
      "metadata": {
        "colab": {
          "base_uri": "https://localhost:8080/"
        },
        "id": "I7mQjR66VWdt",
        "outputId": "fd8aba08-75e9-49ae-aa80-c6778c96001b"
      },
      "execution_count": 22,
      "outputs": [
        {
          "output_type": "stream",
          "name": "stdout",
          "text": [
            "array1: [9 2 3 4 5 6 7 8 0]\n"
          ]
        }
      ]
    },
    {
      "cell_type": "code",
      "source": [
        "# 다차원 ndarray에서 단일 값을 추출\n",
        "array1d=np.arange(start=1,stop=10)\n",
        "array2d=array1d.reshape(3,3)\n",
        "print(array2d)\n",
        "\n",
        "print('(row=0, col=0) index 가리키는 값:',array2d[0,0])\n",
        "print('(row=0, col=1) index 가리키는 값:',array2d[0,1])\n",
        "print('(row=1, col=0) index 가리키는 값:',array2d[1,0])\n",
        "print('(row=2, col=2) index 가리키는 값:',array2d[2,2])\n",
        "\n",
        "# axis 0은 로우 방향의 축을 의미, axis 1은 칼럼 방향의 축을 의미. 3차원은 여기에 axis 2 추가.\n",
        "# [row=0, col=1] 인덱싱은 [axis 0=0, axis 1=1]이 정확한 표현"
      ],
      "metadata": {
        "colab": {
          "base_uri": "https://localhost:8080/"
        },
        "id": "zWKl_xoBWcxA",
        "outputId": "c3d56115-1304-4c06-bc08-a7673f91bc64"
      },
      "execution_count": 26,
      "outputs": [
        {
          "output_type": "stream",
          "name": "stdout",
          "text": [
            "[[1 2 3]\n",
            " [4 5 6]\n",
            " [7 8 9]]\n",
            "(row=0, col=0) index 가리키는 값: 1\n",
            "(row=0, col=1) index 가리키는 값: 2\n",
            "(row=1, col=0) index 가리키는 값: 4\n",
            "(row=2, col=2) index 가리키는 값: 9\n"
          ]
        }
      ]
    },
    {
      "cell_type": "markdown",
      "source": [
        "###슬라이싱"
      ],
      "metadata": {
        "id": "mHRaoI4obyOJ"
      }
    },
    {
      "cell_type": "code",
      "source": [
        "array1=np.arange(start=1,stop=10)\n",
        "array3= array1[0:3]\n",
        "print(array3)\n",
        "print(type(array3))"
      ],
      "metadata": {
        "colab": {
          "base_uri": "https://localhost:8080/"
        },
        "id": "KGtYKFWbWusZ",
        "outputId": "776bab5c-0496-4c6e-8469-430a2b367e39"
      },
      "execution_count": 28,
      "outputs": [
        {
          "output_type": "stream",
          "name": "stdout",
          "text": [
            "[1 2 3]\n",
            "<class 'numpy.ndarray'>\n"
          ]
        }
      ]
    },
    {
      "cell_type": "code",
      "source": [
        "array1 = np.arange(start=1, stop=10)\n",
        "array4 = array1[:3] # : 앞에 아무 것도 적지 않으면 0으로 간주\n",
        "print(array4)\n",
        "array5 = array1[3:] # : 뒤에 아무 것도 적지 않으면 맨 마지막 인덱스로 간주\n",
        "print(array5)\n",
        "array6 = array1[:] # : : 앞/뒤로 아무 것도 적지 않으면 자동으로 맨 처음/ 맨 마지막 인덱스로 간주\n",
        "print(array6)"
      ],
      "metadata": {
        "colab": {
          "base_uri": "https://localhost:8080/"
        },
        "id": "SiT8fskzYwHH",
        "outputId": "fb035f49-4716-42fc-e9b1-8a60a0887880"
      },
      "execution_count": 31,
      "outputs": [
        {
          "output_type": "stream",
          "name": "stdout",
          "text": [
            "[1 2 3]\n",
            "[4 5 6 7 8 9]\n",
            "[1 2 3 4 5 6 7 8 9]\n"
          ]
        }
      ]
    },
    {
      "cell_type": "code",
      "source": [
        "# 2차원 ndarray에서 슬라이싱\n",
        "array1d=np.arange(start=1,stop=10)\n",
        "array2d=array1d.reshape(3,3)\n",
        "print('array2d:\\n',array2d)"
      ],
      "metadata": {
        "colab": {
          "base_uri": "https://localhost:8080/"
        },
        "id": "tSBjQ3ToZU7X",
        "outputId": "a57cd43c-7f39-42ec-d9a2-2f5f00c2531b"
      },
      "execution_count": 33,
      "outputs": [
        {
          "output_type": "stream",
          "name": "stdout",
          "text": [
            "array2d:\n",
            " [[1 2 3]\n",
            " [4 5 6]\n",
            " [7 8 9]]\n"
          ]
        }
      ]
    },
    {
      "cell_type": "code",
      "source": [
        "print('array2d[0:2,0:2]:\\n',array2d[0:2,0:2])\n",
        "print('array2d[1:3,0:3]:\\n',array2d[1:3,0:3])\n",
        "print('array2d[1:3,:]:\\n',array2d[1:3,:]) # : 앞/뒤로 아무 것도 적지 않으면 전체로 간주\n",
        "print('array2d[:,:]:\\n',array2d[:,:])\n",
        "print('array2d[:2,1:]:\\n',array2d[:2,1:])\n",
        "print('array2d[:2,0]:\\n',array2d[:2,0]) # 단일 값 추출"
      ],
      "metadata": {
        "colab": {
          "base_uri": "https://localhost:8080/"
        },
        "id": "ZyDYKVkhZ5X_",
        "outputId": "a5d639a3-1f97-42c3-bf98-68a876e9b2c9"
      },
      "execution_count": 40,
      "outputs": [
        {
          "output_type": "stream",
          "name": "stdout",
          "text": [
            "array2d[0:2,0:2]:\n",
            " [[1 2]\n",
            " [4 5]]\n",
            "array2d[1:3,0:3]:\n",
            " [[4 5 6]\n",
            " [7 8 9]]\n",
            "array2d[1:3,:]:\n",
            " [[4 5 6]\n",
            " [7 8 9]]\n",
            "array2d[:,:]:\n",
            " [[1 2 3]\n",
            " [4 5 6]\n",
            " [7 8 9]]\n",
            "array2d[:2,1:]:\n",
            " [[2 3]\n",
            " [5 6]]\n",
            "array2d[:2,0]:\n",
            " [1 4]\n"
          ]
        }
      ]
    },
    {
      "cell_type": "code",
      "source": [
        "# 2차원 ndarray에서 뒤에 오는 인덱스를 없애면 1차원 ndarray를 반환\n",
        "print(array2d[0])\n",
        "print(array2d[1])\n",
        "print('array2d[0] shape:',array2d[0].shape,'array2d[1] shape:,',array2d[1].shape)"
      ],
      "metadata": {
        "colab": {
          "base_uri": "https://localhost:8080/"
        },
        "id": "Q2GSMvhTaMi-",
        "outputId": "0609b50b-23df-4783-968f-772daceac615"
      },
      "execution_count": 41,
      "outputs": [
        {
          "output_type": "stream",
          "name": "stdout",
          "text": [
            "[1 2 3]\n",
            "[4 5 6]\n",
            "array2d[0] shape: (3,) array2d[1] shape:, (3,)\n"
          ]
        }
      ]
    },
    {
      "cell_type": "markdown",
      "source": [
        "###팬시 인덱싱(Fancy Indexing)\n",
        "#### 개념:\n",
        "- 리스트나 ndarray로 인덱스 집합을 지정하면 해당 위치의 인덱스에 해당하는 ndarray를 반환하는 인덱싱 방식"
      ],
      "metadata": {
        "id": "0PzqalMIboWH"
      }
    },
    {
      "cell_type": "code",
      "source": [
        "array1d=np.arange(start=1,stop=10)\n",
        "array2d=array1d.reshape(3,3)\n",
        "\n",
        "array3=array2d[[0,1],2]\n",
        "print('array2d[[0,1], 2] => ', array3.tolist())\n",
        "\n",
        "array4=array2d[[0,1],0:2]\n",
        "print('array2d[[0,1],0:2] => ', array4.tolist())\n",
        "\n",
        "array5 = array2d[[0,1]]\n",
        "print('array2d[[0,1]] => ' ,array5.tolist())"
      ],
      "metadata": {
        "colab": {
          "base_uri": "https://localhost:8080/"
        },
        "id": "6OveX9nwbfPv",
        "outputId": "6c69493b-f37f-4846-c87b-e96b00f9b828"
      },
      "execution_count": 49,
      "outputs": [
        {
          "output_type": "stream",
          "name": "stdout",
          "text": [
            "array2d[[0,1], 2] =>  [3, 6]\n",
            "array2d[[0,1],0:2] =>  [[1, 2], [4, 5]]\n",
            "array2d[[0,1]] =>  [[1, 2, 3], [4, 5, 6]]\n"
          ]
        }
      ]
    },
    {
      "cell_type": "markdown",
      "source": [
        "###불린 인덱싱(Boolean indexing)\n",
        "#### 개념:\n",
        "- 조건 필터링과 검색을 동시에 할 수 있기 때문에 매우 자주 사용되 는 인덱싱 방식\n",
        "\n",
        "- Step 1: array1d 〉 5와 같이 ndarray의 필터링 조건을 [ ] 안에 기재\n",
        "\n",
        "- Step 2: False 값은 무시하고 True 값에 해당하는 인덱스값만 저장(유의해야 할 사항은 True값 자체인 1을 저장하는 것이 아니라 True값을 가진 인덱스를 저장한다는 것)\n",
        "\n",
        "- Step 3: 저장된 인덱스 데이터 세트로 ndarray 조회\n"
      ],
      "metadata": {
        "id": "qUpau6Slf5DL"
      }
    },
    {
      "cell_type": "code",
      "source": [
        "array1d=np.arange(start=1,stop=10)\n",
        "# [ ] 안에 array1d > 5 Boolean indexing을 적용\n",
        "array3=array1d[array1d>5]\n",
        "print('array1d>5 불린 인덱싱 결과 값:',array3)\n",
        "array1d > 5"
      ],
      "metadata": {
        "colab": {
          "base_uri": "https://localhost:8080/"
        },
        "id": "ZWYh-Q1AgVHV",
        "outputId": "6775a5bc-b9f7-4dad-9946-c955eea5a2e3"
      },
      "execution_count": 51,
      "outputs": [
        {
          "output_type": "stream",
          "name": "stdout",
          "text": [
            "array1d>5 불린 인덱싱 결과 값: [6 7 8 9]\n"
          ]
        },
        {
          "output_type": "execute_result",
          "data": {
            "text/plain": [
              "array([False, False, False, False, False,  True,  True,  True,  True])"
            ]
          },
          "metadata": {},
          "execution_count": 51
        }
      ]
    },
    {
      "cell_type": "code",
      "source": [
        "boolean_indexes=np.array([False,False,False,False,False,True,True,True,True])\n",
        "array3=array1d[boolean_indexes]\n",
        "print('불린 인덱스로 필터링 한 결과:',array3)"
      ],
      "metadata": {
        "colab": {
          "base_uri": "https://localhost:8080/"
        },
        "id": "lWumSZwegsXf",
        "outputId": "c1126bae-558c-4825-a871-41ebbe4690e5"
      },
      "execution_count": 52,
      "outputs": [
        {
          "output_type": "stream",
          "name": "stdout",
          "text": [
            "불린 인덱스로 필터링 한 결과: [6 7 8 9]\n"
          ]
        }
      ]
    },
    {
      "cell_type": "code",
      "source": [
        "indexes=np.array([5,6,7,8])\n",
        "array4=array1d[indexes]\n",
        "print('일반 인덱스로 필터링 한 결과:',array4)"
      ],
      "metadata": {
        "colab": {
          "base_uri": "https://localhost:8080/"
        },
        "id": "zp5q7sfshMJd",
        "outputId": "19f3c9e2-3feb-43c8-9563-fb5f12770e6b"
      },
      "execution_count": 53,
      "outputs": [
        {
          "output_type": "stream",
          "name": "stdout",
          "text": [
            "일반 인덱스로 필터링 한 결과: [6 7 8 9]\n"
          ]
        }
      ]
    },
    {
      "cell_type": "markdown",
      "source": [
        "##행렬의 정렬\n",
        "\n",
        "### 개념:\n",
        "- .sort(): 넘파이에서 sort()를 호출하는 방식. 원 행렬은 그대로 유지한 채 원 행렬의 정렬된 행렬을 반환\n",
        "- ndarray.sort(): 행렬 자체에서 sort()를 호출하는 방식. 원 행렬 자체를 정렬한 형태로 변환하며 반환 값은 None\n",
        "- ndarray.sort()\n",
        "- .argsort(): 정렬된 행렬의 원본 행렬 인덱스 반환\n",
        "\n",
        "- 내림차순은 [::-1]을 적용"
      ],
      "metadata": {
        "id": "16udFgfRiShe"
      }
    },
    {
      "cell_type": "code",
      "source": [
        "#np.sort(),ndarray.sort()\n",
        "org_array=np.array([3,1,9,5])\n",
        "print('원본 행렬:',org_array)\n",
        "\n",
        "# np.sort()로 정렬\n",
        "sort_array1=np.sort(org_array)\n",
        "print('np.sort( ) 호출 후 반환된 정렬 행렬:', sort_array1)\n",
        "print('np.sort( ) 호출 후 원본 행렬:', org_array)\n",
        "\n",
        "# ndarray.sort( )로 정렬\n",
        "sort_array2=org_array.sort()\n",
        "print('org_array.sort( ) 호출 후 반환된 행렬:', sort_array2)\n",
        "print('org_array.sort( ) 호출 후 원본 행렬:', org_array)\n",
        "\n",
        "# 내림차순으로 정렬하는 방법: [::-1]을 적용. np.sort( )[::-1]과 같이 사용\n",
        "sort_array_desc=np.sort(org_array)[::-1]\n",
        "print('내림차순으로 정렬:',sort_array_desc)"
      ],
      "metadata": {
        "colab": {
          "base_uri": "https://localhost:8080/"
        },
        "id": "pBx_lUE2iV6y",
        "outputId": "cea5f6c8-fd6f-4f44-c8b4-0ae52c1e19e3"
      },
      "execution_count": 60,
      "outputs": [
        {
          "output_type": "stream",
          "name": "stdout",
          "text": [
            "원본 행렬: [3 1 9 5]\n",
            "np.sort( ) 호출 후 반환된 정렬 행렬: [1 3 5 9]\n",
            "np.sort( ) 호출 후 원본 행렬: [3 1 9 5]\n",
            "org_array.sort( ) 호출 후 반환된 행렬: None\n",
            "org_array.sort( ) 호출 후 원본 행렬: [1 3 5 9]\n",
            "내림차순으로 정렬: [9 5 3 1]\n"
          ]
        }
      ]
    },
    {
      "cell_type": "code",
      "source": [
        "# 행렬이 2차원 이상일 경우에 axis 축 값 설정을 통해 로우 방향, 또는 칼럼 방향으로 정렬을 수행\n",
        "array2d=np.array([[8,12],\n",
        "                  [7,1]])\n",
        "sort_array2d_axis0=np.sort(array2d,axis=0)\n",
        "print('로우 방향으로 정렬:\\n',sort_array2d_axis0)\n",
        "\n",
        "sort_array2d_axis1=np.sort(array2d, axis=1)\n",
        "print('칼럼 방향으로 정렬:\\n', sort_array2d_axis1)"
      ],
      "metadata": {
        "colab": {
          "base_uri": "https://localhost:8080/"
        },
        "id": "jA26b611jikH",
        "outputId": "092cbd1e-601c-4d8a-e5ec-86e465c22831"
      },
      "execution_count": 64,
      "outputs": [
        {
          "output_type": "stream",
          "name": "stdout",
          "text": [
            "로우 방향으로 정렬:\n",
            " [[ 7  1]\n",
            " [ 8 12]]\n",
            "칼럼 방향으로 정렬:\n",
            " [[ 8 12]\n",
            " [ 1  7]]\n"
          ]
        }
      ]
    },
    {
      "cell_type": "code",
      "source": [
        "#.argsort()\n",
        "org_sort=np.array([3,1,9,5])\n",
        "sort_indices=np.argsort(org_sort)\n",
        "print(type(sort_indicies))\n",
        "print('행렬 정렬 시 원본 행렬의 인덱스:', sort_indices)\n",
        "\n",
        "org_array = np.array([3,1,9,5])\n",
        "sort_indices_desc=np.argsort(org_array)[::-1] # 내림차순은 [::-1]으로 표시함.\n",
        "print('행렬 내림차순 정렬 시 원본 행렬의 인덱스:', sort_indices_desc)"
      ],
      "metadata": {
        "colab": {
          "base_uri": "https://localhost:8080/"
        },
        "id": "wUj8D3sild5v",
        "outputId": "fff068d6-4f6e-487f-84a0-514331f55f6f"
      },
      "execution_count": 67,
      "outputs": [
        {
          "output_type": "stream",
          "name": "stdout",
          "text": [
            "<class 'numpy.ndarray'>\n",
            "행렬 정렬 시 원본 행렬의 인덱스: [1 0 3 2]\n",
            "행렬 내림차순 정렬 시 원본 행렬의 인덱스: [2 3 0 1]\n"
          ]
        }
      ]
    },
    {
      "cell_type": "code",
      "source": [
        "import numpy as np\n",
        "\n",
        "name_array= np.array(['John','Mike','Sarah','Kate','Sammuel'])\n",
        "score_array=np.array([78,95,84,98,88])\n",
        "\n",
        "sort_indices_asc=np.argsort(score_array)\n",
        "print('성적 오름차순 정렬 시 score_array의 인덱스:',sort_indices_asc)\n",
        "print('성적 오름차순으로 name_array의 이름 출력:',name_array[sort_indices_asc])"
      ],
      "metadata": {
        "colab": {
          "base_uri": "https://localhost:8080/"
        },
        "id": "FMP07qyZnt8u",
        "outputId": "443162d1-de5f-4e99-d8d1-534b4d4eec4e"
      },
      "execution_count": 69,
      "outputs": [
        {
          "output_type": "stream",
          "name": "stdout",
          "text": [
            "성적 오름차순 정렬 시 score_array의 인덱스: [0 2 4 1 3]\n",
            "성적 오름차순으로 name_array의 이름 출력: ['John' 'Sarah' 'Sammuel' 'Mike' 'Kate']\n"
          ]
        }
      ]
    },
    {
      "cell_type": "markdown",
      "source": [
        "##선형대수 연산\n",
        "\n",
        "####행렬 내적(행렬 곱)\n",
        "-.dot(A,B)\n",
        "\n",
        "####전치 행렬\n",
        "-.transpose(A)\n"
      ],
      "metadata": {
        "id": "WCbiiVtRqQ6T"
      }
    },
    {
      "cell_type": "code",
      "source": [
        "#.dot()\n",
        "A=np.array([[1,2,3],\n",
        "            [4,5,6]])\n",
        "B=np.array([[7,8],\n",
        "            [9,10],\n",
        "            [11,12]])\n",
        "dot_product=np.dot(A,B)\n",
        "print('행렬 내적 결과:\\n', dot_product)"
      ],
      "metadata": {
        "colab": {
          "base_uri": "https://localhost:8080/"
        },
        "id": "IIqStElsrJvX",
        "outputId": "3b68c9e0-7a5a-49e9-ca8a-db4ceae95c04"
      },
      "execution_count": 73,
      "outputs": [
        {
          "output_type": "stream",
          "name": "stdout",
          "text": [
            "행렬 내적 결과:\n",
            " [[ 58  64]\n",
            " [139 154]]\n"
          ]
        }
      ]
    },
    {
      "cell_type": "code",
      "source": [
        "#.transpose()\n",
        "A=np.array([[1,2],\n",
        "           [3,4]])\n",
        "transpose_mat=np.transpose(A)\n",
        "print('A의 전치 행렬:\\n',transpose_mat)"
      ],
      "metadata": {
        "colab": {
          "base_uri": "https://localhost:8080/"
        },
        "id": "u67xjOpPrwcs",
        "outputId": "85647174-fb49-49ef-cf85-80660364d872"
      },
      "execution_count": 74,
      "outputs": [
        {
          "output_type": "stream",
          "name": "stdout",
          "text": [
            "A의 전치 행렬:\n",
            " [[1 3]\n",
            " [2 4]]\n"
          ]
        }
      ]
    }
  ]
}