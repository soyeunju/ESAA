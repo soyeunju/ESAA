{
  "cells": [
    {
      "cell_type": "markdown",
      "metadata": {
        "id": "view-in-github",
        "colab_type": "text"
      },
      "source": [
        "<a href=\"https://colab.research.google.com/github/soyeunju/ESAA/blob/main/25-1/Assignments/0519_Week12_HM_DLWP_CNN_2.ipynb\" target=\"_parent\"><img src=\"https://colab.research.google.com/assets/colab-badge.svg\" alt=\"Open In Colab\"/></a>"
      ]
    },
    {
      "cell_type": "markdown",
      "metadata": {
        "id": "5dGex_-ADq07"
      },
      "source": [
        "📊딥러닝 파이토치 교과서 ch 5.2\n",
        "\n",
        "p.179~200"
      ]
    },
    {
      "cell_type": "markdown",
      "metadata": {
        "id": "KEpLlsyADw_s"
      },
      "source": [
        "## 5.2 합성곱 신경망 맛보기"
      ]
    },
    {
      "cell_type": "markdown",
      "metadata": {
        "id": "JJ3n_-lND10h"
      },
      "source": [
        "* fashion_mnist 데이터셋을 사용하여 합성곱 신경망을 직접 구현해보기\n",
        "  * 데이터셋을 자세히 살펴보면 훈련 데이터(train_images)는 0에서 255 사이의 값을 갖는 28x28 크기의 넘파이 (Numpy) 배열이고, 레이블(정답) 데이터(train_labels)는 0에서 9까지 정수 값을 갖는 배열.\n",
        "  * 28 x 28 픽셀의 이미지 7만 개로 구성됨."
      ]
    },
    {
      "cell_type": "code",
      "execution_count": 2,
      "metadata": {
        "id": "kjkStx-hDnZp"
      },
      "outputs": [],
      "source": [
        "# 라이브러리 호출\n",
        "import numpy as np\n",
        "import matplotlib.pyplot as plt\n",
        "\n",
        "import torch\n",
        "import torch.nn as nn\n",
        "from torch.autograd import Variable\n",
        "import torch.nn.functional as F\n",
        "\n",
        "import torchvision\n",
        "import torchvision.transforms as transforms # 데이터 전처리를 위해 사용하는 라이브러리\n",
        "from torch.utils.data import Dataset, DataLoader"
      ]
    },
    {
      "cell_type": "code",
      "execution_count": 3,
      "metadata": {
        "id": "gLGRvmbwE7Zm"
      },
      "outputs": [],
      "source": [
        "# CPU 혹은 GPU 장치 확인\n",
        "device = torch.device('mps' if torch.mps.is_available() else 'cpu')"
      ]
    },
    {
      "cell_type": "code",
      "execution_count": 4,
      "metadata": {
        "id": "hHBOEUqGFPKO",
        "colab": {
          "base_uri": "https://localhost:8080/"
        },
        "outputId": "6096017e-b574-4a85-fe93-7cd0ca002fe2"
      },
      "outputs": [
        {
          "output_type": "execute_result",
          "data": {
            "text/plain": [
              "device(type='cpu')"
            ]
          },
          "metadata": {},
          "execution_count": 4
        }
      ],
      "source": [
        "device"
      ]
    },
    {
      "cell_type": "markdown",
      "metadata": {
        "id": "6DWsAhtui1py"
      },
      "source": [
        "**GPU 사용**\n",
        "* 일반적으로 하나의 GPU를 사용할 때 다음과 같은 코드 사용.\n",
        "\n",
        "    ```\n",
        "    import torch\n",
        "\n",
        "    device = torch.device(\"mps\" if torch.mps.is_available() else \"cpu\")\n",
        "\n",
        "    model = Net()\n",
        "    model.to(device)\n",
        "    ```\n",
        "* 다수의 GPU를 사용할 때 다음과 같은 코드 사용.\n",
        "    ```\n",
        "    device = torch.device(\"mps\" if torch.mps.is_available() else \"cpu\")\n",
        "\n",
        "    model = Net()\n",
        "    if torch.mps.device_count() > 1:\n",
        "        model = nn.DataParallel(net)\n",
        "    model.to(device)\n",
        "    ```\n",
        "    * 배치 크기(batch size)가 알아서 각 GPU로 분배되는 방식으로 작동되기 때문에 GPU 수만큼 배치 크기도 늘려주어야 함."
      ]
    },
    {
      "cell_type": "code",
      "execution_count": 5,
      "metadata": {
        "id": "Tl22IWeCi1py"
      },
      "outputs": [],
      "source": [
        "# fashion_mnist 데이터셋 내려받기\n",
        "train_dataset = torchvision.datasets.FashionMNIST(\"FashionMNIST/\", download=True, transform=transforms.Compose([transforms.ToTensor()]))\n",
        "test_dataset = torchvision.datasets.FashionMNIST(\"FashionMNIST/\", download=True, train=False, transform=transforms.Compose([transforms.ToTensor()]))"
      ]
    },
    {
      "cell_type": "markdown",
      "metadata": {
        "id": "mhf2zNBKi1pz"
      },
      "source": [
        "* transform : 이미지를 tensor(0~1)로 변경."
      ]
    },
    {
      "cell_type": "code",
      "execution_count": 6,
      "metadata": {
        "id": "YXZJaJppi1pz"
      },
      "outputs": [],
      "source": [
        "# fashion_mnist 데이터를 데이터로더에 전달\n",
        "train_loader = torch.utils.data.DataLoader(train_dataset, batch_size = 100)\n",
        "test_loader = torch.utils.data.DataLoader(test_dataset, batch_size = 100)"
      ]
    },
    {
      "cell_type": "markdown",
      "metadata": {
        "id": "86FLLnFgi1pz"
      },
      "source": [
        "* `torch.utils.data.DataLoader()` 를 사용하여 원하는 크기의 배치 단위로 불러오거나 / 무작위로 섞이도록 할 수 있음(`shuffle = True`)\n",
        "* `torch.utils.data.DataLoader(train_dataset, batch_size = 100)`\n",
        "    * 첫 번째 파라미터 : 불러올 데이터셋\n",
        "    * 두 번째 파라미터 : 배치 사이즈"
      ]
    },
    {
      "cell_type": "code",
      "execution_count": null,
      "metadata": {
        "id": "DKghc_dUi1pz",
        "outputId": "ef5e3605-abe1-4f70-ee1a-ebf85411e084"
      },
      "outputs": [
        {
          "data": {
            "image/png": "[encoded data removed]",
            "text/plain": [
              "<Figure size 800x800 with 20 Axes>"
            ]
          },
          "metadata": {},
          "output_type": "display_data"
        }
      ],
      "source": [
        "# 분류에 사용될 클래스 정의\n",
        "labels_map = {0: 'T-Shirt', 1: 'Trouser', 2: 'Pullover', 3: 'Dress', 4:'Coat',\n",
        "              5: 'Sandal', 6:'Shirt', 7:'Sneaker', 8:'Bag', 9:'Ankle Boot'} # 10개의 클래스\n",
        "\n",
        "fig = plt.figure(figsize = (8,8)) # 출력할 이미지의 가로세로 길이로 단위는 inch\n",
        "columns = 4;\n",
        "rows = 5;\n",
        "\n",
        "for i in range(1, columns*rows + 1):\n",
        "    img_xy = np.random.randint(len(train_dataset)); # 이산형 분포를 갖는 데이터에서 무작위 표본을 추출\n",
        "    img = train_dataset[img_xy][0][0,:,:] # img_xy 번째 사진의 첫 번째 채널 선택. 2차원 형태로 잘라낸 이미지. 텐서의 shape는 (1, 28, 28)\n",
        "    fig.add_subplot(rows, columns, i)\n",
        "    plt.title(labels_map[train_dataset[img_xy][1]])\n",
        "    plt.axis('off')\n",
        "    plt.imshow(img, cmap = 'gray')\n",
        "plt.show() # 20개의 이미지를 시각적으로 표현"
      ]
    },
    {
      "cell_type": "code",
      "execution_count": null,
      "metadata": {
        "id": "-7KI0y7Zi1p0",
        "outputId": "cf72a254-c07a-4563-b27c-cd0c5d594176"
      },
      "outputs": [
        {
          "data": {
            "text/plain": [
              "60000"
            ]
          },
          "execution_count": 15,
          "metadata": {},
          "output_type": "execute_result"
        }
      ],
      "source": [
        "len(train_dataset)"
      ]
    },
    {
      "cell_type": "markdown",
      "metadata": {
        "id": "nqYtSuxJi1p0"
      },
      "source": [
        "np.random : 무작위로 데이터를 생성할 때 사용\n",
        "* `np.random.randint()` : 이산형 분포를 갖는 데이터에서 무작위 표본을 추출할 때 사용\n",
        "* `np.random.rand()` : 0~1 사이의 정규표준분포 난수 추출\n",
        "* `np.random.randn()` : 평균 0, 표준편가 1인 가우시안 정규분포에서 난수 추출"
      ]
    },
    {
      "cell_type": "code",
      "execution_count": null,
      "metadata": {
        "id": "ELDEuamai1p0"
      },
      "outputs": [],
      "source": [
        "# 심층 신경망 모델 생성\n",
        "class FashionDNN(nn.Module): # 클래스 형태는 항상 nn.Module을 상속 받음\n",
        "    def __init__(self): # __init__은 객체가 갖는 속성 값 초기화하며 객체가 생성될 때 자동으로 호출\n",
        "        super(FashionDNN, self).__init__() # super~ 는 nn.Module 클래스를 상속받겠다.\n",
        "        self.fc1 = nn.Linear(in_features = 784, out_features = 256) # Linear는 단순 선형 회귀\n",
        "        self.drop = nn.Dropout(0.25) # torch.nn.Dropout(p)는 p만큼의 비율로 텐서의 값이 0이 되고, 0이 되지 않는 값들은 기존 값에 (1/(1-p))만큼 곱해져 커짐.\n",
        "        self.fc2 = nn.Linear(in_features = 256, out_features = 128)\n",
        "        self.fc3 = nn.Linear(in_features = 128, out_features = 10)\n",
        "\n",
        "    def forward(self, input_data): # forward(): 모델이 학습 데이터를 입력받아서 순전파 연산(x로부터 예측된 y를 얻는 것)을 진행하는 함수\n",
        "        out = input_data.view(-1,784) # .view : 넘파이의 reshape와 같음. 3차원 -> 2차원\n",
        "        out = F.relu(self.fc1(out)) ###\n",
        "        out = self.drop(out)\n",
        "        out = F.relu(self.fc2(out))\n",
        "        out = self.fc3(out)\n",
        "        return out"
      ]
    },
    {
      "cell_type": "markdown",
      "metadata": {
        "id": "un1ZTt3ii1p0"
      },
      "source": [
        "**클래스**\n",
        "* 클래스는 함수뿐만 아니라 관련된 변수까지도 한꺼번에 묶어서 관리하고 재사용할 수 있게 해 주는 것.\n",
        "  ```\n",
        "  class Calc:\n",
        "      def __init__(self): ------ 객체를 생성할 때 호출하면 실행되는 초기화 함수\n",
        "      self.result =0\n",
        "      def add(self, num1, num2):\n",
        "          self.result = num1 + num2\n",
        "          return self.result\n",
        "  obj1 =Calc()\n",
        "  obj2 =Calc()\n",
        "  \n",
        "  print(obj1.add( 1, 2))\n",
        "  print(obj1.add( 2, 3))\n",
        "```\n",
        "* 두 개의 객체는 독립적으로 연산. 코드가 간결해짐"
      ]
    },
    {
      "cell_type": "markdown",
      "metadata": {
        "id": "pxM8HRE4i1p0"
      },
      "source": [
        "**활성화 함수를 지정**\n",
        "* `F.relu()`: `forward()` 함수에서 정의\n",
        "* `nn.ReLU()`: `__init__()` 함수에서 정의\n",
        "\n",
        "| 구분        | nn.xx (객체지향 방식)                                                | nn.functional.xx (함수 기반)                                                        |\n",
        "|-------------|------------------------------------------------------|--------------------------------------------------------------------------|\n",
        "| 형태        | nn.Conv2d: 클래스<br>nn.Module 클래스를 상속받아 사용 | nn.functional.conv2d: 함수<br>def function(input)으로 정의된 순수한 함수 |\n",
        "| 호출 방법   | 먼저 하이퍼파라미터를 전달한 후 함수 호출을 통해 데이터 전달 | 함수를 호출할 때 하이퍼파라미터, 데이터를 함께 전달                     |\n",
        "| 위치        | nn.Sequential 내에 위치                               | nn.Sequential에 위치할 수 없음                                          |\n",
        "| 파라미터    | 파라미터를 새로 정의할 필요 없음. 내부적으로 가중치(W), 편향(b) 등의 파라미터를 알아서 관리                     | 가중치를 수동으로 전달해야 하며, 매번 자체 가중치를 정의                |\n"
      ]
    },
    {
      "cell_type": "markdown",
      "metadata": {
        "id": "_xnoV_Tyi1p1"
      },
      "source": [
        "* nn.xx\n",
        "```\n",
        "import torch\n",
        "import torch.nn as nn\n",
        "inputs = torch.randn(64, 3, 244, 244)\n",
        "conv = nn.Conv2d(in_channels=3, out_channels=64, kernel_size=3, padding=1)\n",
        "outputs = conv(inputs)\n",
        "layer = nn.Conv2d( 1, 1, 3)\n",
        "```\n",
        "* nn.functional.xx\n",
        "```\n",
        "import torch.nn.functional as F\n",
        "inputs = torch.randn(64, 3, 244, 244)\n",
        "weight = torch.randn(64, 3, 3, 3)\n",
        "bias = torch.randn(64)\n",
        "outputs = F.conv2d(inputs, weight, bias, padding=1)\n",
        "```"
      ]
    },
    {
      "cell_type": "code",
      "execution_count": null,
      "metadata": {
        "id": "b51uo0VWi1p1",
        "outputId": "db9b84f0-6d55-4e04-924c-e0b1783eb1c7"
      },
      "outputs": [
        {
          "name": "stdout",
          "output_type": "stream",
          "text": [
            "FashionDNN(\n",
            "  (fc1): Linear(in_features=784, out_features=256, bias=True)\n",
            "  (drop): Dropout(p=0.25, inplace=False)\n",
            "  (fc2): Linear(in_features=256, out_features=128, bias=True)\n",
            "  (fc3): Linear(in_features=128, out_features=10, bias=True)\n",
            ")\n"
          ]
        }
      ],
      "source": [
        "# 신경망에서 필요한 파라미터 정의\n",
        "learning_rate = 0.01\n",
        "model = FashionDNN()\n",
        "model.to(device)\n",
        "\n",
        "criterion = nn.CrossEntropyLoss() # 분류 문제에서 사용하는 손실 함수\n",
        "optimizer = torch.optim.Adam(model.parameters(), lr = learning_rate)\n",
        "print(model)"
      ]
    },
    {
      "cell_type": "code",
      "execution_count": null,
      "metadata": {
        "id": "wHRZGkXGi1p1",
        "outputId": "afbf52e8-f949-4cab-bb0d-7b7c7581f291"
      },
      "outputs": [
        {
          "name": "stdout",
          "output_type": "stream",
          "text": [
            "Iteration: 500, Loss: 0.6829047203063965, Accuracy: 80.94000244140625%\n",
            "Iteration: 1000, Loss: 0.6949700117111206, Accuracy: 82.23999786376953%\n",
            "Iteration: 1500, Loss: 0.47455844283103943, Accuracy: 80.77999877929688%\n",
            "Iteration: 2000, Loss: 0.434455007314682, Accuracy: 82.08999633789062%\n",
            "Iteration: 2500, Loss: 0.3246341347694397, Accuracy: 82.45999908447266%\n",
            "Iteration: 3000, Loss: 0.37684017419815063, Accuracy: 83.30000305175781%\n"
          ]
        }
      ],
      "source": [
        "# 심층 신경망을 이용한 모델 학습\n",
        "num_epochs = 5\n",
        "count = 0\n",
        "loss_list = []\n",
        "iteration_list = []\n",
        "accuracy_list = []\n",
        "\n",
        "predictions_list = []\n",
        "labels_list = []\n",
        "\n",
        "for epochs in range(num_epochs):\n",
        "    for images, labels in train_loader:\n",
        "        images, labels = images.to(device), labels.to(device) # 모델이 데이터를 처리하기 위해서는 모델과 데이터가 동일한 장치 (CPU 또는 GPU)에 있어야 함.\n",
        "\n",
        "        train = Variable(images.view(100,1,28,28)) # 최근 업데이트 버전에서는 Variable 활용 ❌. torch.tensor(.., requires_grad=True)로 자동 미분 가능\n",
        "        labels = Variable(labels)\n",
        "        outputs = model(train) # 학습 데이터를 모델에 적용\n",
        "        loss = criterion(outputs, labels)\n",
        "        optimizer.zero_grad()\n",
        "        loss.backward()\n",
        "        optimizer.step()\n",
        "        count += 1\n",
        "\n",
        "        if not (count%50): # count가 50으로 나누어 떨어지는 경우\n",
        "            total = 0\n",
        "            correct = 0\n",
        "            for images, labels in test_loader:\n",
        "                images, labels = images.to(device), labels.to(device)\n",
        "                labels_list.append(labels)\n",
        "                test = Variable(images.view(100,1,28,28))\n",
        "                outputs = model(test)\n",
        "                predictions = torch.max(outputs, 1)[1].to(device)\n",
        "                predictions_list.append(outputs)\n",
        "                correct += (predictions == labels).sum()\n",
        "                total += len(labels)\n",
        "\n",
        "            accuracy = correct * 100 / total\n",
        "            loss_list.append(loss.data)\n",
        "            iteration_list.append(count)\n",
        "            accuracy_list.append(accuracy)\n",
        "\n",
        "        if not (count%500):\n",
        "            print(\"Iteration: {}, Loss: {}, Accuracy: {}%\".format(count, loss.data,accuracy))"
      ]
    },
    {
      "cell_type": "code",
      "execution_count": null,
      "metadata": {
        "id": "Q1oEE_4li1p1",
        "outputId": "e6fbae9c-9fff-45e8-cc2c-846ad61d3975"
      },
      "outputs": [
        {
          "name": "stdout",
          "output_type": "stream",
          "text": [
            "<class 'list'>\n",
            "2\n",
            "torch.Size([100, 1, 28, 28])\n",
            "torch.Size([100])\n"
          ]
        }
      ],
      "source": [
        "# train_loader 데이터는 어떻게 생겼는지 살펴보자\n",
        "for batch in train_loader:\n",
        "    print(type(batch))\n",
        "    print(len(batch))   # 보통 (입력, 타깃)\n",
        "    print(batch[0].shape)  # 입력 데이터\n",
        "    print(batch[1].shape)  # 레이블\n",
        "    break"
      ]
    },
    {
      "cell_type": "markdown",
      "metadata": {
        "id": "Sb2bWzDmi1p1"
      },
      "source": [
        "* 정확도는 사실 분류 모델을 평가하는 데 좋은 성능 지표가 아님. 모든 클래스에 대한 예측력이 높은지 알 수 없기 때문"
      ]
    },
    {
      "cell_type": "code",
      "execution_count": 6,
      "metadata": {
        "id": "n1eyAwzui1p1"
      },
      "outputs": [],
      "source": [
        "# 합성곱 네트워크 생성\n",
        "class FashionCNN(nn.Module):\n",
        "    def __init__(self):\n",
        "        super(FashionCNN, self).__init__()\n",
        "        self.layer1 = nn.Sequential( # nn.Seqeuntial 사용하면 __ init __()에서 사용할 네트워크 모델을 정의.\n",
        "                                     # forward() 함수에서 구현될 순전파를 계층(layer) 형태로 좀 더 가독성이 뛰어난 코드로 작성\n",
        "        nn.Conv2d(in_channels = 1, out_channels = 32, kernel_size = 3, padding = 1),\n",
        "            # kernel_size: 커널 크기(필터). 입력 데이터를 스트라이드 간격으로 순회하면서 합성곱을 계산\n",
        "            # padding: 출력 크기를 조정하기 위해 입력 데이터 주위에 0을 채움\n",
        "        nn.BatchNorm2d(32),\n",
        "            # BatchNorm2d: 학습 과정에서 각 배치 단위별로 데이터가 다양한 분포를 가지더라도 평균과 분산을 이용하여 정규화하는 것을 의미\n",
        "        nn.ReLU(),\n",
        "        nn.MaxPool2d(kernel_size=2, stride=2)\n",
        "            # MaxPoo12d: 이미지 크기를 축소시키는 용도로 사용. 합성곱층의 출력 데이터를 입력으로 받아서 출력 데이터(activation map)의 크기를 줄이거나 데이터를 강조하는 용도\n",
        "            # max pooling / average pooling / min pooling\n",
        "            # nn.MaxPool2d(kernel_size = 2, stride = 2)\n",
        "                # kernel_size: mXn 행렬로 구성된 가중치\n",
        "                # stride: 입력 데이터에 커널(필터)을 적용할 때 이동할 간격을 의미하는데, 스트라이드 값이 커지면 출력 크기는 작아짐.\n",
        "        )\n",
        "\n",
        "        self.layer2 = nn.Sequential(\n",
        "        nn.Conv2d(in_channels = 32, out_channels = 64, kernel_size = 3),\n",
        "        nn.BatchNorm2d(64),\n",
        "        nn.ReLU(),\n",
        "        nn.MaxPool2d(2)\n",
        "        )\n",
        "\n",
        "        # CNN 구조에서 Conv2d, MaxPool2d→ Linear (완전 연결층)으로 넘어갈 때 차원이 다르기 때문에 주의. 1차원으로 변경\n",
        "        self.fc1 = nn.Linear(in_features = 64*6*6, out_features = 600)\n",
        "        self.drop = nn.Dropout(0.25)\n",
        "        self.fc2 = nn.Linear(in_features = 600, out_features = 120)\n",
        "        self.fc3 = nn.Linear(in_features = 120, out_features = 10) # 마지막 out_features는 클래스 개수를 의미\n",
        "\n",
        "    def forward(self, x):\n",
        "        out = self.layer1(x)\n",
        "        out = self.layer2(out)\n",
        "        out = out.view(out.size(0), -1) # out.size(0)은 배치 사이즈를 의미.\n",
        "        out = self.fc1(out)\n",
        "        out = self.drop(out)\n",
        "        out = self.fc2(out)\n",
        "        out = self.fc3(out)\n",
        "        return out"
      ]
    },
    {
      "cell_type": "markdown",
      "metadata": {
        "id": "L3B_NgS2i1p2"
      },
      "source": [
        "**Conv2d 계층에서 출력 크기 구하는 공식**\n",
        "\n",
        "* 출력 크기 = $(W-F+2P)/S+1$\n",
        "    * $W$: 입력 데이터의 크기(input_volume_size)\n",
        "    * $F$: 커널 크기(kernel_size)\n",
        "    * $P$: 패딩 크기(padding_size)\n",
        "    * $S$: 스트라이드(strides)\n",
        "* ex. nn.Conv2d(in_channels=1, out_channels=32, kernel_size=3, padding=1)\n",
        "    * 출력 크기 : (28 - 3 + (2*1))/1+1=28\n",
        "    * [32,28,28] : 이때 32는 out_channels.\n",
        "\n",
        "**MaxPool2d 계층에서의 출력 크기 구하는 공식**\n",
        "* 출력 크기 = $IF/F$\n",
        "    * $IF$: 입력 필터의 크기 (input_filter_size 또한 바로 앞의 Conv2d의 출력 크기)\n",
        "    * $F$: 커널 크기 (kernel_size)\n",
        "* ex. nn.MaxPoo12d( kernel_size=2, stride=2)\n",
        "    * 출력 크기 : 784/2 =392\n",
        "    * [32,392,392]"
      ]
    },
    {
      "cell_type": "code",
      "execution_count": 7,
      "metadata": {
        "colab": {
          "base_uri": "https://localhost:8080/"
        },
        "id": "DDt6vlzxi1p2",
        "outputId": "c4352fcd-de5a-4f06-9cc5-ba363a419dfa"
      },
      "outputs": [
        {
          "output_type": "stream",
          "name": "stdout",
          "text": [
            "FashionCNN(\n",
            "  (layer1): Sequential(\n",
            "    (0): Conv2d(1, 32, kernel_size=(3, 3), stride=(1, 1), padding=(1, 1))\n",
            "    (1): BatchNorm2d(32, eps=1e-05, momentum=0.1, affine=True, track_running_stats=True)\n",
            "    (2): ReLU()\n",
            "    (3): MaxPool2d(kernel_size=2, stride=2, padding=0, dilation=1, ceil_mode=False)\n",
            "  )\n",
            "  (layer2): Sequential(\n",
            "    (0): Conv2d(32, 64, kernel_size=(3, 3), stride=(1, 1))\n",
            "    (1): BatchNorm2d(64, eps=1e-05, momentum=0.1, affine=True, track_running_stats=True)\n",
            "    (2): ReLU()\n",
            "    (3): MaxPool2d(kernel_size=2, stride=2, padding=0, dilation=1, ceil_mode=False)\n",
            "  )\n",
            "  (fc1): Linear(in_features=2304, out_features=600, bias=True)\n",
            "  (drop): Dropout(p=0.25, inplace=False)\n",
            "  (fc2): Linear(in_features=600, out_features=120, bias=True)\n",
            "  (fc3): Linear(in_features=120, out_features=10, bias=True)\n",
            ")\n"
          ]
        }
      ],
      "source": [
        "# 합성곱 네트워크를 위한 파라미터 정의\n",
        "learning_rate = 0.001;\n",
        "model = FashionCNN();\n",
        "model.to(device)\n",
        "\n",
        "criterion = nn.CrossEntropyLoss();\n",
        "optimizer = torch.optim.Adam(model.parameters(), lr=learning_rate);\n",
        "print(model)"
      ]
    },
    {
      "cell_type": "code",
      "source": [
        "# 모델 학습 및 성능 평가\n",
        "num_epochs = 5\n",
        "count = 0\n",
        "loss_list = []\n",
        "iteration_list = []\n",
        "accuracy_list = []\n",
        "\n",
        "predictions_list = []\n",
        "labels_list = []\n",
        "\n",
        "for epoch in range(num_epochs):\n",
        "  for images, labels in train_loader:\n",
        "      images, labels = images.to(device), labels.to(device)\n",
        "\n",
        "      train = Variable(images.view(100, 1, 28, 28))\n",
        "      labels = Variable(labels)\n",
        "\n",
        "      outputs = model(train)\n",
        "      loss = critertion(outputs, labels)\n",
        "      optimizer.zero_grad()\n",
        "      loss.backward()\n",
        "      optimizer.step()\n",
        "      count += 1\n",
        "\n",
        "      if not (count % 50):\n",
        "        total = 0\n",
        "        correct = 0\n",
        "        for images, labels in test_loader:\n",
        "            images, labels = images.to(device), labels.to(device)\n",
        "            labels_list.append(labels)\n",
        "            test = Variable(images.view(100, 1, 28, 28))\n",
        "            outputs = model(test)\n",
        "            predictions = torch.max(outputs, 1)[1].to(device)\n",
        "            predictions_list.append(predictions)\n",
        "            correct += (predictions == labels).sum()\n",
        "            total += len(labels)\n",
        "\n",
        "        accuracy = correct * 100 / total\n",
        "        loss_list.append(loss.data)\n",
        "        iteration_list.append(count)\n",
        "        accuracy_list.append(accuracy)\n",
        "\n",
        "      if not (count % 500):\n",
        "        print(\"Iteration: {}, Loss: {}, Accuracy: {}%\".format(count, loss.data, accuracy))"
      ],
      "metadata": {
        "colab": {
          "base_uri": "https://localhost:8080/"
        },
        "id": "0i_PR3AVjrg4",
        "outputId": "50c34dc0-30e9-4c93-d068-8c862be7000a"
      },
      "execution_count": 9,
      "outputs": [
        {
          "output_type": "stream",
          "name": "stderr",
          "text": [
            "/usr/local/lib/python3.11/dist-packages/torch/nn/functional.py:1538: UserWarning: dropout2d: Received a 2-D input to dropout2d, which is deprecated and will result in an error in a future release. To retain the behavior and silence this warning, please use dropout instead. Note that dropout2d exists to provide channel-wise dropout on inputs with 2 spatial dimensions, a channel dimension, and an optional batch dimension (i.e. 3D or 4D inputs).\n",
            "  warnings.warn(warn_msg)\n"
          ]
        },
        {
          "output_type": "stream",
          "name": "stdout",
          "text": [
            "Iteration: 500, Loss: 0.4778556823730469, Accuracy: 87.69000244140625%\n",
            "Iteration: 1000, Loss: 0.35716721415519714, Accuracy: 88.2300033569336%\n",
            "Iteration: 1500, Loss: 0.3161049485206604, Accuracy: 89.08000183105469%\n",
            "Iteration: 2000, Loss: 0.269358366727829, Accuracy: 88.27999877929688%\n",
            "Iteration: 2500, Loss: 0.12255150824785233, Accuracy: 89.81999969482422%\n",
            "Iteration: 3000, Loss: 0.22730684280395508, Accuracy: 89.23999786376953%\n"
          ]
        }
      ]
    }
  ],
  "metadata": {
    "colab": {
      "provenance": [],
      "include_colab_link": true
    },
    "kernelspec": {
      "display_name": "Python [conda env:base] *",
      "language": "python",
      "name": "conda-base-py"
    },
    "language_info": {
      "codemirror_mode": {
        "name": "ipython",
        "version": 3
      },
      "file_extension": ".py",
      "mimetype": "text/x-python",
      "name": "python",
      "nbconvert_exporter": "python",
      "pygments_lexer": "ipython3",
      "version": "3.12.7"
    }
  },
  "nbformat": 4,
  "nbformat_minor": 0
}