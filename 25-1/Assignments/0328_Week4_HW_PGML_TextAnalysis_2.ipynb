{
  "nbformat": 4,
  "nbformat_minor": 0,
  "metadata": {
    "colab": {
      "provenance": [],
      "toc_visible": true,
      "authorship_tag": "ABX9TyOEKAxaD466CdysQMf+gKY3",
      "include_colab_link": true
    },
    "kernelspec": {
      "name": "python3",
      "display_name": "Python 3"
    },
    "language_info": {
      "name": "python"
    }
  },
  "cells": [
    {
      "cell_type": "markdown",
      "metadata": {
        "id": "view-in-github",
        "colab_type": "text"
      },
      "source": [
        "<a href=\"https://colab.research.google.com/github/soyeunju/ESAA/blob/main/25-1/Assignments/0328_Week4_HM_PGML_TextAnalysis_2.ipynb\" target=\"_parent\"><img src=\"https://colab.research.google.com/assets/colab-badge.svg\" alt=\"Open In Colab\"/></a>"
      ]
    },
    {
      "cell_type": "markdown",
      "source": [
        "📊 파머완 ch8. 4~5\n",
        "\n",
        "p.509-534"
      ],
      "metadata": {
        "id": "-Ct4o9lA4h_T"
      }
    },
    {
      "cell_type": "markdown",
      "source": [
        "## 텍스트 분류 실습 - 20 뉴스그룹 분류\n",
        "\n",
        "* 텍스트 분류 : 문서가 특정 분류 또는 카테고리에 속하는 것을 예측하는 기법. - ex. 특정 신문 기사 내용이 연예/정치/사회/문화 중 어떤 카테고리에 속하는지 자동으로 분류하거나 스팸 메일 검출 같은 프로그램이 이에 속함. 지도학습 적용\n",
        "  * 특정 문서의 분류를 학습 데이터를 통해 학습해 모델을 생성한 뒤 이 학습 모델을 이용해 다른 문서의 분류를 예측하는 것\n",
        "* BOW 모델 단점\n",
        "  * 희소 행렬 문제 : 대규모의 칼럼으로 구성된 행렬에서 대부분의 값이 0으로 채워지는 행렬을 희소 행렬. 희소 행렬은 일반적으로 ML 알고리즘의 수행 시간과 예측 성능을 떨어뜨리기 때문에 희소 행렬을 위한 특별한 기법이 마련됨.\n",
        "\n",
        "텍스트를 피처 벡터화로 변환하면 일반적으로 희소 행렬 형태가 된다. 이때 분류를 효과적으로 잘 처리할 수 있는 알고리즘은 로지스틱 회귀, 선형 서포트 벡터 머신, 나이브 베이즈 등. ➡️ 로지스틱 회귀 사용\n",
        "\n",
        "1. 텍스트 정규화\n",
        "2. 피처 벡터화 적용 : 카운트 기반 벡터화, TF-IDF 벡터화로 예측 성능 비교 - 피처 벡터화를 위한 파라미터\n",
        "3. 적합한 머신러닝 알고리즘으로 분류를 학습/예측/평가 - GridSearchCV 기반의 하이퍼 파라미터 튜닝\n",
        "➡️ Pipeline 객체로 피처 벡터화 파라미터와 GridSearchCV 기반의 하이퍼 파라미터 튜닝을 한꺼번에 수행"
      ],
      "metadata": {
        "id": "s4o95BoN4whf"
      }
    },
    {
      "cell_type": "markdown",
      "source": [
        "## 텍스트 정규화\n",
        "`fetch_20newsgroups()` API를 이용해 뉴스그룹의 분류를 수행해 볼 수 있는 예제 데이터를 제공"
      ],
      "metadata": {
        "id": "2iLb7VzX6CBm"
      }
    },
    {
      "cell_type": "code",
      "execution_count": 2,
      "metadata": {
        "id": "gJKfbXgf4aBk"
      },
      "outputs": [],
      "source": [
        "from sklearn.datasets import fetch_20newsgroups\n",
        "\n",
        "news_data = fetch_20newsgroups(subset = 'all', random_state = 156)"
      ]
    },
    {
      "cell_type": "code",
      "source": [
        "print(news_data.keys())"
      ],
      "metadata": {
        "colab": {
          "base_uri": "https://localhost:8080/"
        },
        "id": "Zs15QlLj6PLe",
        "outputId": "f096c40e-4993-40ab-cde2-de5f06a39056"
      },
      "execution_count": 3,
      "outputs": [
        {
          "output_type": "stream",
          "name": "stdout",
          "text": [
            "dict_keys(['data', 'filenames', 'target_names', 'target', 'DESCR'])\n"
          ]
        }
      ]
    },
    {
      "cell_type": "code",
      "source": [
        "import pandas as pd\n",
        "print('target 클래스의 값과 분포도 \\n', pd.Series(news_data.target).value_counts().sort_index()) # 0~19, 20개\n",
        "print('target 클래스의 이름들 \\n', news_data.target_names)"
      ],
      "metadata": {
        "colab": {
          "base_uri": "https://localhost:8080/"
        },
        "id": "yKFPopn06c7Z",
        "outputId": "9b0032cc-7229-4540-8959-791a7f77ac6b"
      },
      "execution_count": 4,
      "outputs": [
        {
          "output_type": "stream",
          "name": "stdout",
          "text": [
            "target 클래스의 값과 분포도 \n",
            " 0     799\n",
            "1     973\n",
            "2     985\n",
            "3     982\n",
            "4     963\n",
            "5     988\n",
            "6     975\n",
            "7     990\n",
            "8     996\n",
            "9     994\n",
            "10    999\n",
            "11    991\n",
            "12    984\n",
            "13    990\n",
            "14    987\n",
            "15    997\n",
            "16    910\n",
            "17    940\n",
            "18    775\n",
            "19    628\n",
            "Name: count, dtype: int64\n",
            "target 클래스의 이름들 \n",
            " ['alt.atheism', 'comp.graphics', 'comp.os.ms-windows.misc', 'comp.sys.ibm.pc.hardware', 'comp.sys.mac.hardware', 'comp.windows.x', 'misc.forsale', 'rec.autos', 'rec.motorcycles', 'rec.sport.baseball', 'rec.sport.hockey', 'sci.crypt', 'sci.electronics', 'sci.med', 'sci.space', 'soc.religion.christian', 'talk.politics.guns', 'talk.politics.mideast', 'talk.politics.misc', 'talk.religion.misc']\n"
          ]
        }
      ]
    },
    {
      "cell_type": "code",
      "source": [
        "print(news_data.data[0]) # 뉴스그룹 기사의 내용뿐만 아니라 뉴스그룹 제목, 작성자, 소속, 이메일 등의 다양한 정보 포함"
      ],
      "metadata": {
        "colab": {
          "base_uri": "https://localhost:8080/"
        },
        "id": "_xqBvDT169Rl",
        "outputId": "d4629249-603e-4a2e-daf9-ab8071e62a29"
      },
      "execution_count": 10,
      "outputs": [
        {
          "output_type": "stream",
          "name": "stdout",
          "text": [
            "From: egreen@east.sun.com (Ed Green - Pixel Cruncher)\n",
            "Subject: Re: Observation re: helmets\n",
            "Organization: Sun Microsystems, RTP, NC\n",
            "Lines: 21\n",
            "Distribution: world\n",
            "Reply-To: egreen@east.sun.com\n",
            "NNTP-Posting-Host: laser.east.sun.com\n",
            "\n",
            "In article 211353@mavenry.altcit.eskimo.com, maven@mavenry.altcit.eskimo.com (Norman Hamer) writes:\n",
            "> \n",
            "> The question for the day is re: passenger helmets, if you don't know for \n",
            ">certain who's gonna ride with you (like say you meet them at a .... church \n",
            ">meeting, yeah, that's the ticket)... What are some guidelines? Should I just \n",
            ">pick up another shoei in my size to have a backup helmet (XL), or should I \n",
            ">maybe get an inexpensive one of a smaller size to accomodate my likely \n",
            ">passenger? \n",
            "\n",
            "If your primary concern is protecting the passenger in the event of a\n",
            "crash, have him or her fitted for a helmet that is their size.  If your\n",
            "primary concern is complying with stupid helmet laws, carry a real big\n",
            "spare (you can put a big or small head in a big helmet, but not in a\n",
            "small one).\n",
            "\n",
            "---\n",
            "Ed Green, former Ninjaite |I was drinking last night with a biker,\n",
            "  Ed.Green@East.Sun.COM   |and I showed him a picture of you.  I said,\n",
            "DoD #0111  (919)460-8302  |\"Go on, get to know her, you'll like her!\"\n",
            " (The Grateful Dead) -->  |It seemed like the least I could do...\n",
            "\n",
            "\n"
          ]
        }
      ]
    },
    {
      "cell_type": "markdown",
      "source": [
        "`remove` 파라미터를 이용하여 뉴스그룹 기사의 헤더(header), 푸터(footer) 등을 제거.\n",
        "\n",
        "순수한 텍스트만으로 구성된 기사 내용으로 어떤 뉴스그룹에 속하는지 분류 시행."
      ],
      "metadata": {
        "id": "DJ5kBd7L7eqR"
      }
    },
    {
      "cell_type": "code",
      "source": [
        "from sklearn.datasets import fetch_20newsgroups\n",
        "# subset='train'으로 학습용 데이터만 추출, remove=('headers', 'footers', 'quotes')로 내용만 추출\n",
        "train_news = fetch_20newsgroups(subset = 'train', remove = ('headers','footers','quotes'),random_state = 156)\n",
        "\n",
        "X_train = train_news.data\n",
        "y_train = train_news.target\n",
        "\n",
        "# subset='test'으로 테스트 데이터만 추출, remove=('headers', 'footers', 'quotes')로 내용만 추출\n",
        "test_news= fetch_20newsgroups(subset = 'test', remove = ('headers','footers','quotes'), random_state = 156)\n",
        "\n",
        "X_test = test_news.data\n",
        "y_test = test_news.target\n",
        "\n",
        "print('학습 데이터 크기 {0}, 테스트 데이터 크기 {1}'.format(len(train_news.data),len(test_news.data)))"
      ],
      "metadata": {
        "colab": {
          "base_uri": "https://localhost:8080/"
        },
        "id": "mR5TQQEz7E6Y",
        "outputId": "680dc5f3-7ad4-4b2b-de80-f0b531b78f3f"
      },
      "execution_count": 11,
      "outputs": [
        {
          "output_type": "stream",
          "name": "stdout",
          "text": [
            "학습 데이터 크기 11314, 테스트 데이터 크기 7532\n"
          ]
        }
      ]
    },
    {
      "cell_type": "markdown",
      "source": [
        "### 피처 벡터화 변환과 머신러닝 모델 학습/예측/평가\n",
        "\n",
        "1) Count 기반\n",
        "\n",
        "`CountVectorizer`를 이용해 학습 데이터의 텍스트를 피처 벡터화. 테스트 데이터 역시 피처 벡터화를 수행하는데, 반드시 학습 데이터를 이용해 `fit()`이 수행된 `CountVectorizer` 객체를 이용해 테스트 데이터를 변환(`transform`)해야 함."
      ],
      "metadata": {
        "id": "lovsDBLF8nBN"
      }
    },
    {
      "cell_type": "code",
      "source": [
        "from sklearn.feature_extraction.text import CountVectorizer\n",
        "\n",
        "# Count Vectorization으로 피처 벡터화 변환 수행.\n",
        "cnt_vect = CountVectorizer()\n",
        "cnt_vect.fit(X_train)\n",
        "X_train_cnt_vect = cnt_vect.transform(X_train)\n",
        "\n",
        "# 학습 데이터로 fit( )된 CountVectorizer를 이용해 테스트 데이터를 피터 벡터화 변환 수행.\n",
        "X_test_cnt_vect = cnt_vect.transform(X_test) ## 다시 fit을 하거나 fit_transform()을 사용하면 xxxx\n",
        "\n",
        "print('학습 데이터 텍스트의 CountVectorizer Shape:', X_train_cnt_vect.shape)"
      ],
      "metadata": {
        "colab": {
          "base_uri": "https://localhost:8080/"
        },
        "id": "jzFgeGFA8j-v",
        "outputId": "b4ce09c4-6672-4ccc-b1ee-4ed6f337270b"
      },
      "execution_count": 14,
      "outputs": [
        {
          "output_type": "stream",
          "name": "stdout",
          "text": [
            "학습 데이터 텍스트의 CountVectorizer Shape: (11314, 101631)\n"
          ]
        }
      ]
    },
    {
      "cell_type": "markdown",
      "source": [
        "이제 `LogisticRegression`을 이용해 뉴스그룹에 대한 분류를 예측 수행"
      ],
      "metadata": {
        "id": "vGxUXawe_5zQ"
      }
    },
    {
      "cell_type": "code",
      "source": [
        "from sklearn.linear_model import LogisticRegression\n",
        "from sklearn.metrics import accuracy_score\n",
        "import warnings\n",
        "warnings.filterwarnings('ignore')\n",
        "\n",
        "# LogisticRegression을 이용하여 학습/예측/평가 수행.\n",
        "lr_clf = LogisticRegression(solver='liblinear')\n",
        "lr_clf.fit(X_train_cnt_vect,y_train)\n",
        "pred = lr_clf.predict(X_test_cnt_vect)\n",
        "print('CountVectorized Logistic Regression의 예측 정확도는 {0: .3f}',format(accuracy_score(y_test,pred)))"
      ],
      "metadata": {
        "colab": {
          "base_uri": "https://localhost:8080/"
        },
        "id": "vScak0JI_v37",
        "outputId": "7001c122-8e65-48ba-a476-b71a97fd0e7f"
      },
      "execution_count": 17,
      "outputs": [
        {
          "output_type": "stream",
          "name": "stdout",
          "text": [
            "CountVectorized Logistic Regression의 예측 정확도는 {0: .3f} 0.6168348380244291\n"
          ]
        }
      ]
    },
    {
      "cell_type": "markdown",
      "source": [
        "2) TF-IDF 기반"
      ],
      "metadata": {
        "id": "MITflYv5BJP-"
      }
    },
    {
      "cell_type": "code",
      "source": [
        "from sklearn.feature_extraction.text import TfidfVectorizer\n",
        "\n",
        "# TF-IDF 벡터화를 적용해 학습 데이터 세트와 테스트 데이터 세트 변환.\n",
        "tfidf_vect = TfidfVectorizer()\n",
        "tfidf_vect.fit(X_train)\n",
        "X_train_tfidf_vect = tfidf_vect.transform(X_train)\n",
        "X_test_tfidf_vect = tfidf_vect.transform(X_test)\n",
        "\n",
        "# LogisticRegression을 이용해 학습/예측/평가 수행.\n",
        "lr_clf = LogisticRegression(solver='liblinear')\n",
        "lr_clf.fit(X_train_tfidf_vect, y_train)\n",
        "pred = lr_clf.predict(X_test_tfidf_vect)\n",
        "print('TF-IDF Logistic Regression의 예측 정확도는 {0:.3f}'.format(accuracy_score(y_test, pred)))"
      ],
      "metadata": {
        "colab": {
          "base_uri": "https://localhost:8080/"
        },
        "id": "0lj2qtw8A-LR",
        "outputId": "f5676844-4240-4777-9a07-d514bd934404"
      },
      "execution_count": 19,
      "outputs": [
        {
          "output_type": "stream",
          "name": "stdout",
          "text": [
            "TF-IDF Logistic Regression의 예측 정확도는 0.678\n"
          ]
        }
      ]
    },
    {
      "cell_type": "markdown",
      "source": [
        "일반적으로 문서 내에 텍스트 가 많고 많은 문서를 가지는 텍스트 분석에서 카운트 벡터화보다는 `TF-IDF` 벡터화가 좋은 예측 결과를 도출\n",
        "\n",
        "텍스트 분석에서 머신러닝 모델의 성능을 향상시키는 중요한 2가지 방법은\n",
        "\n",
        "1) 최적의 ML 알고리즘을 선택\n",
        "\n",
        "2) 최상의 피처 전처리를 수행하는 것"
      ],
      "metadata": {
        "id": "MTSzbuLvFDfX"
      }
    },
    {
      "cell_type": "markdown",
      "source": [
        "1. `TfidfVectorizer` 클래스의 스톱 워드를 기존 `'None'`에서 `'english'`로 변경\n",
        "2. `ngram_range`는 기존 (1, 1)에서 (1, 2)로 변경\n",
        "3. `max_df=300`"
      ],
      "metadata": {
        "id": "rtzG-g4dpvnA"
      }
    },
    {
      "cell_type": "code",
      "source": [
        "# stop words 피처링을 추가하고 ngram을 기본 (1,1)에서 (1,2)로 변경해 피처 벡터화 적용.\n",
        "tfidf_vect = TfidfVectorizer(stop_words='english',ngram_range=(1,2),max_df = 300)\n",
        "tfidf_vect.fit(X_train)\n",
        "X_train_tfidf_vect = tfidf_vect.transform(X_train)\n",
        "X_test_tfidf_vect = tfidf_vect.transform(X_test)\n",
        "\n",
        "lf_clf = LogisticRegression(solver='liblinear')\n",
        "lf_clf.fit(X_train_tfidf_vect,y_train)\n",
        "lf_clf.predict(X_test_tfidf_vect)\n",
        "print('TF-IDF Vectorized Logistic Regression 의 예측 정확도는 {0:.3f}'.format(accuracy_score(y_test, pred)))"
      ],
      "metadata": {
        "colab": {
          "base_uri": "https://localhost:8080/"
        },
        "id": "Vdq3xUIqFAz3",
        "outputId": "f061341c-b942-4205-cdad-c443896cf38d"
      },
      "execution_count": 22,
      "outputs": [
        {
          "output_type": "stream",
          "name": "stdout",
          "text": [
            "TF-IDF Vectorized Logistic Regression 의 예측 정확도는 0.678\n"
          ]
        }
      ]
    },
    {
      "cell_type": "markdown",
      "source": [
        "`GridSearchCV`를 이용해 로지스틱 회귀의 하이퍼파라미터 최적화를 수행"
      ],
      "metadata": {
        "id": "1vAOro3BGI8q"
      }
    },
    {
      "cell_type": "code",
      "source": [
        "from sklearn.model_selection import GridSearchCV\n",
        "\n",
        "# 최적 C값 도출 튜닝 수행. CV는 3폴드 세트로 설정.\n",
        "params = {'C':[0.01,0.1,1,5,10]} # C: 규제(strength of regularization)의 강도를 조절하는 하이퍼파라미터\n",
        "grid_cv_lr = GridSearchCV(lf_clf, param_grid = params, cv = 3, scoring = 'accuracy', verbose = 1)\n",
        "grid_cv_lr.fit(X_train_tfidf_vect, y_train)\n",
        "print('Logistic Regression best C parameter :', grid_cv_lr.best_params_ )\n",
        "\n",
        "# 최적 C값으로 학습된 grid_cv로 예측 및 정확도 평가.\n",
        "pred = grid_cv_lr.predict(X_test_tfidf_vect)\n",
        "print('TF-IDF Vectorized Logistic Regression의 예측 정확도는 {0:.3f}'.format(accuracy_score(y_test, pred)))"
      ],
      "metadata": {
        "colab": {
          "base_uri": "https://localhost:8080/"
        },
        "id": "PDgj2wU0FwDB",
        "outputId": "94c69c1e-1f0d-495b-afae-20c72cc45b34"
      },
      "execution_count": 23,
      "outputs": [
        {
          "output_type": "stream",
          "name": "stdout",
          "text": [
            "Fitting 3 folds for each of 5 candidates, totalling 15 fits\n",
            "Logistic Regression best C parameter : {'C': 10}\n",
            "TF-IDF Vectorized Logistic Regression의 예측 정확도는 0.704\n"
          ]
        }
      ]
    },
    {
      "cell_type": "markdown",
      "source": [
        "### 사이킷런 파이프라인(Pipeline) 사용 및 GridSearchCV와의 결합\n",
        "\n",
        "사이킷런의 `Pipeline` 클래스를 이용하면 피처 벡터화와 ML 알고리즘 학습/예측을 위한 코드 작성을 한 번에 진행할 수 있음\n",
        "\n",
        "Pipeline : 데이터의 가공, 변환 등의 전처리와 알고리즘 적용을 마치 '수도관에서 물이 흐르듯' 한 번에 스트림 기반으로 처리한다는 의미\n",
        "\n",
        "일반적으로 사이킷런 파이프라인 텍스트 기반의 피처 벡터화뿐만 아니라 모든 데이터 전처리 작업과 Estimator를 결합할 수 있음. 예를 들어 스케일링 또는 벡터 정규화, PCA 등의 변환 작업과 분류, 회귀 등의 Estimator를 한 번에 결합할 수 있음."
      ],
      "metadata": {
        "id": "xjgYDZrCHraB"
      }
    },
    {
      "cell_type": "code",
      "source": [
        "from sklearn.pipeline import Pipeline\n",
        "\n",
        "pipeline = Pipeline([('tfidf_vect',TfidfVectorizer(stop_words = 'english')),\n",
        "                     ('lr_clf',LogisticRegression(random_state = 156))])"
      ],
      "metadata": {
        "id": "QN-4E6LgHpnY"
      },
      "execution_count": 25,
      "outputs": []
    },
    {
      "cell_type": "code",
      "source": [
        "from sklearn.pipeline import Pipeline\n",
        "\n",
        "# TfidfVectorizer 객체를 tfidf_vect로, LogisticRegression 객체를 lr_clf로 생성하는 Pipeline 생성\n",
        "pipeline = Pipeline([('tfidf_vect',TfidfVectorizer(stop_words = 'english',ngram_range=(1,2),max_df = 300)),\n",
        "                     ('lr_clf',LogisticRegression(solver = 'liblinear', C = 10))])\n",
        "\n",
        "# 별도의 TfidfVectorizer 객체의 fit( ), transform( )과 LogisticRegression의 fit(), predict( )가 필요 없음.\n",
        "# pipeline의 fit( )과 predict( )만으로 한꺼번에 피처 벡터화와 ML 학습/예측이 가능.\n",
        "pipeline.fit(X_train,y_train)\n",
        "pred = pipeline.predict(X_test)\n",
        "print('Pipeline을 통한 Logistic Regression의 예측 정확도는 {0:.3f}'.format(accuracy_score(y_test, pred)))"
      ],
      "metadata": {
        "colab": {
          "base_uri": "https://localhost:8080/"
        },
        "id": "MyRNxtQFI9d-",
        "outputId": "1a374e1d-4f01-4b3f-fdca-a9fb22eb7966"
      },
      "execution_count": 26,
      "outputs": [
        {
          "output_type": "stream",
          "name": "stdout",
          "text": [
            "Pipeline을 통한 Logistic Regression의 예측 정확도는 0.704\n"
          ]
        }
      ]
    },
    {
      "cell_type": "markdown",
      "source": [
        "사이킷런은 GridSearchCV 클래스의 생성 파라미터로 Pipeline을 입력해 Pipeline 기반에서도 하이퍼 파라미터 튜닝을 GridSearchCV 방식으로 진행할 수 있게 함.\n",
        "\n",
        "GridSearchCV에 Pipeline을 입력할 경우\n",
        "\n",
        "* param_grid의 입력값 설정은 딕셔너리 형태의 Key와 Value 값을 가짐.\n",
        "* Value를 리스트 형태로 입력한다.\n",
        "* Key 값으로 'tfidf_vect__ngram_range'와 같이 하이퍼 파라미터명이 객체 변수명과 결합돼 제공됨.(언더바 2개를 연달아 붙인 뒤 파라미터명 결합)"
      ],
      "metadata": {
        "id": "OH2xZfzqqiO5"
      }
    },
    {
      "cell_type": "code",
      "source": [
        "#from sklearn.pipeline import Pipeline\n",
        "\n",
        "#pipeline = Pipeline([\n",
        "    #('tfidf_vect', TfidfVectorizer(stop_words = 'english')),\n",
        "    #('lr_clf', LogisticRegression())\n",
        "#])\n",
        "\n",
        "# Pipeline에 기술된 각각의 객체 변수에 언더바(_) 2개를 연달아 붙여 GridSearchCV에 사용될\n",
        "# 파라미터/하이퍼 파라미터 이름과 값을 설정.\n",
        "#params = {'tfidf_vect__ngram_range':[(1,1),(1,2),(1,3)],\n",
        "          #'tfidf_vect__max_df':[100,300,700],\n",
        "          #'lr_clf__C': [1,5,10]\n",
        "\n",
        "#}\n",
        "\n",
        "# GridSearchCV의 생성자에 Estimator가 아닌 Pipeline 객체 입력\n",
        "#grid_cv_pipe = GridSearchCV(pipeline, param_grid = params, cv = 3, scoring = 'accuracy', verbose = 1)\n",
        "#grid_cv_pipe.fit(X_train,y_train)\n",
        "#print(grid_cv_pipe.best_params_, grid_cv_pipe.best_score_)\n",
        "\n",
        "#pred = grid_cv_pipe.predict(X_test)\n",
        "#print('Pipeline을 통한 Logistic Regression의 예측 정확도는 {0:.3f}'.format(accuracy_score(y_test, pred)))"
      ],
      "metadata": {
        "id": "XIlY4tWPJpgc"
      },
      "execution_count": 32,
      "outputs": []
    },
    {
      "cell_type": "markdown",
      "source": [
        "## 5. 감성 분석\n",
        "\n",
        "감성 분석(Sentiment Analysis)은 문서의 주관적인 감성/의견/감정/기분 등을 파악하기 위한 방법으로 소셜 미디어, 여론조사, 온라인 리뷰, 피드백 등 다양한 분야에서 활용\n",
        "\n",
        "이러한 감성 지수는 긍정 감성 지수와 부정 감성 지수로 구성되며, 지수를 합산해 긍정 감성 또는 부정 감성을 결정.\n",
        "\n",
        "감성 분석은 머신러닝 관점에서 지도학습과 비지도학습 방식으로 나눌 수 있음\n",
        "\n",
        "* 지도학습은 학습 데이터와 타깃 레이블 값을 기반으로 감성 분석 학습을 수행한 뒤 이를 기반으로 다른 데이터의 감성 분석을 예측하는 방법으로 일반적인 텍스트 기반의 분류와 거의 동일.\n",
        "\n",
        "* 비지도학습은 `Lexicon`이라는 일종의 감성 어휘 사전을 이용. `Lexicon`은 감성 분석을 위한 용어와 문맥에 대한 다양한 정보를 가지고 있으며, 이를 이용해 문서의 긍정적, 부정적 감성 여부를 판단."
      ],
      "metadata": {
        "id": "b0B_Iq4yNbL8"
      }
    },
    {
      "cell_type": "markdown",
      "source": [
        "### 지도학습 기반 감성 분석 실습- IMDB 영화평"
      ],
      "metadata": {
        "id": "a1OXWdT8O5N-"
      }
    },
    {
      "cell_type": "markdown",
      "source": [
        "지도학습 기반 감성 분석(텍스트 기반의 이진 분류) : 영화평의 텍스트를 분석해 감성 분석 결과가 긍정인지 부정인지 예측하는 모델을 만듦"
      ],
      "metadata": {
        "id": "OSi_bmglrOMK"
      }
    },
    {
      "cell_type": "code",
      "source": [
        "import pandas as pd\n",
        "\n",
        "review_df = pd.read_csv('/content/labeledTrainData.tsv', header = 0, sep = '\\t', quoting = 3)\n",
        "review_df.head(3)"
      ],
      "metadata": {
        "colab": {
          "base_uri": "https://localhost:8080/",
          "height": 143
        },
        "id": "qxzfHVdjMjk-",
        "outputId": "c8658ec0-ea4c-443b-b31c-b4e466138d62"
      },
      "execution_count": 33,
      "outputs": [
        {
          "output_type": "execute_result",
          "data": {
            "text/plain": [
              "         id  sentiment                                             review\n",
              "0  \"5814_8\"          1  \"With all this stuff going down at the moment ...\n",
              "1  \"2381_9\"          1  \"\\\"The Classic War of the Worlds\\\" by Timothy ...\n",
              "2  \"7759_3\"          0  \"The film starts with a manager (Nicholas Bell..."
            ],
            "text/html": [
              "\n",
              "  <div id=\"df-696e2a2a-d3b2-4b1c-8493-f3c2324f5b6e\" class=\"colab-df-container\">\n",
              "    <div>\n",
              "<style scoped>\n",
              "    .dataframe tbody tr th:only-of-type {\n",
              "        vertical-align: middle;\n",
              "    }\n",
              "\n",
              "    .dataframe tbody tr th {\n",
              "        vertical-align: top;\n",
              "    }\n",
              "\n",
              "    .dataframe thead th {\n",
              "        text-align: right;\n",
              "    }\n",
              "</style>\n",
              "<table border=\"1\" class=\"dataframe\">\n",
              "  <thead>\n",
              "    <tr style=\"text-align: right;\">\n",
              "      <th></th>\n",
              "      <th>id</th>\n",
              "      <th>sentiment</th>\n",
              "      <th>review</th>\n",
              "    </tr>\n",
              "  </thead>\n",
              "  <tbody>\n",
              "    <tr>\n",
              "      <th>0</th>\n",
              "      <td>\"5814_8\"</td>\n",
              "      <td>1</td>\n",
              "      <td>\"With all this stuff going down at the moment ...</td>\n",
              "    </tr>\n",
              "    <tr>\n",
              "      <th>1</th>\n",
              "      <td>\"2381_9\"</td>\n",
              "      <td>1</td>\n",
              "      <td>\"\\\"The Classic War of the Worlds\\\" by Timothy ...</td>\n",
              "    </tr>\n",
              "    <tr>\n",
              "      <th>2</th>\n",
              "      <td>\"7759_3\"</td>\n",
              "      <td>0</td>\n",
              "      <td>\"The film starts with a manager (Nicholas Bell...</td>\n",
              "    </tr>\n",
              "  </tbody>\n",
              "</table>\n",
              "</div>\n",
              "    <div class=\"colab-df-buttons\">\n",
              "\n",
              "  <div class=\"colab-df-container\">\n",
              "    <button class=\"colab-df-convert\" onclick=\"convertToInteractive('df-696e2a2a-d3b2-4b1c-8493-f3c2324f5b6e')\"\n",
              "            title=\"Convert this dataframe to an interactive table.\"\n",
              "            style=\"display:none;\">\n",
              "\n",
              "  <svg xmlns=\"http://www.w3.org/2000/svg\" height=\"24px\" viewBox=\"0 -960 960 960\">\n",
              "    <path d=\"M120-120v-720h720v720H120Zm60-500h600v-160H180v160Zm220 220h160v-160H400v160Zm0 220h160v-160H400v160ZM180-400h160v-160H180v160Zm440 0h160v-160H620v160ZM180-180h160v-160H180v160Zm440 0h160v-160H620v160Z\"/>\n",
              "  </svg>\n",
              "    </button>\n",
              "\n",
              "  <style>\n",
              "    .colab-df-container {\n",
              "      display:flex;\n",
              "      gap: 12px;\n",
              "    }\n",
              "\n",
              "    .colab-df-convert {\n",
              "      background-color: #E8F0FE;\n",
              "      border: none;\n",
              "      border-radius: 50%;\n",
              "      cursor: pointer;\n",
              "      display: none;\n",
              "      fill: #1967D2;\n",
              "      height: 32px;\n",
              "      padding: 0 0 0 0;\n",
              "      width: 32px;\n",
              "    }\n",
              "\n",
              "    .colab-df-convert:hover {\n",
              "      background-color: #E2EBFA;\n",
              "      box-shadow: 0px 1px 2px rgba(60, 64, 67, 0.3), 0px 1px 3px 1px rgba(60, 64, 67, 0.15);\n",
              "      fill: #174EA6;\n",
              "    }\n",
              "\n",
              "    .colab-df-buttons div {\n",
              "      margin-bottom: 4px;\n",
              "    }\n",
              "\n",
              "    [theme=dark] .colab-df-convert {\n",
              "      background-color: #3B4455;\n",
              "      fill: #D2E3FC;\n",
              "    }\n",
              "\n",
              "    [theme=dark] .colab-df-convert:hover {\n",
              "      background-color: #434B5C;\n",
              "      box-shadow: 0px 1px 3px 1px rgba(0, 0, 0, 0.15);\n",
              "      filter: drop-shadow(0px 1px 2px rgba(0, 0, 0, 0.3));\n",
              "      fill: #FFFFFF;\n",
              "    }\n",
              "  </style>\n",
              "\n",
              "    <script>\n",
              "      const buttonEl =\n",
              "        document.querySelector('#df-696e2a2a-d3b2-4b1c-8493-f3c2324f5b6e button.colab-df-convert');\n",
              "      buttonEl.style.display =\n",
              "        google.colab.kernel.accessAllowed ? 'block' : 'none';\n",
              "\n",
              "      async function convertToInteractive(key) {\n",
              "        const element = document.querySelector('#df-696e2a2a-d3b2-4b1c-8493-f3c2324f5b6e');\n",
              "        const dataTable =\n",
              "          await google.colab.kernel.invokeFunction('convertToInteractive',\n",
              "                                                    [key], {});\n",
              "        if (!dataTable) return;\n",
              "\n",
              "        const docLinkHtml = 'Like what you see? Visit the ' +\n",
              "          '<a target=\"_blank\" href=https://colab.research.google.com/notebooks/data_table.ipynb>data table notebook</a>'\n",
              "          + ' to learn more about interactive tables.';\n",
              "        element.innerHTML = '';\n",
              "        dataTable['output_type'] = 'display_data';\n",
              "        await google.colab.output.renderOutput(dataTable, element);\n",
              "        const docLink = document.createElement('div');\n",
              "        docLink.innerHTML = docLinkHtml;\n",
              "        element.appendChild(docLink);\n",
              "      }\n",
              "    </script>\n",
              "  </div>\n",
              "\n",
              "\n",
              "<div id=\"df-4ddc9ef8-efa1-4d2a-86fd-e353e6e730eb\">\n",
              "  <button class=\"colab-df-quickchart\" onclick=\"quickchart('df-4ddc9ef8-efa1-4d2a-86fd-e353e6e730eb')\"\n",
              "            title=\"Suggest charts\"\n",
              "            style=\"display:none;\">\n",
              "\n",
              "<svg xmlns=\"http://www.w3.org/2000/svg\" height=\"24px\"viewBox=\"0 0 24 24\"\n",
              "     width=\"24px\">\n",
              "    <g>\n",
              "        <path d=\"M19 3H5c-1.1 0-2 .9-2 2v14c0 1.1.9 2 2 2h14c1.1 0 2-.9 2-2V5c0-1.1-.9-2-2-2zM9 17H7v-7h2v7zm4 0h-2V7h2v10zm4 0h-2v-4h2v4z\"/>\n",
              "    </g>\n",
              "</svg>\n",
              "  </button>\n",
              "\n",
              "<style>\n",
              "  .colab-df-quickchart {\n",
              "      --bg-color: #E8F0FE;\n",
              "      --fill-color: #1967D2;\n",
              "      --hover-bg-color: #E2EBFA;\n",
              "      --hover-fill-color: #174EA6;\n",
              "      --disabled-fill-color: #AAA;\n",
              "      --disabled-bg-color: #DDD;\n",
              "  }\n",
              "\n",
              "  [theme=dark] .colab-df-quickchart {\n",
              "      --bg-color: #3B4455;\n",
              "      --fill-color: #D2E3FC;\n",
              "      --hover-bg-color: #434B5C;\n",
              "      --hover-fill-color: #FFFFFF;\n",
              "      --disabled-bg-color: #3B4455;\n",
              "      --disabled-fill-color: #666;\n",
              "  }\n",
              "\n",
              "  .colab-df-quickchart {\n",
              "    background-color: var(--bg-color);\n",
              "    border: none;\n",
              "    border-radius: 50%;\n",
              "    cursor: pointer;\n",
              "    display: none;\n",
              "    fill: var(--fill-color);\n",
              "    height: 32px;\n",
              "    padding: 0;\n",
              "    width: 32px;\n",
              "  }\n",
              "\n",
              "  .colab-df-quickchart:hover {\n",
              "    background-color: var(--hover-bg-color);\n",
              "    box-shadow: 0 1px 2px rgba(60, 64, 67, 0.3), 0 1px 3px 1px rgba(60, 64, 67, 0.15);\n",
              "    fill: var(--button-hover-fill-color);\n",
              "  }\n",
              "\n",
              "  .colab-df-quickchart-complete:disabled,\n",
              "  .colab-df-quickchart-complete:disabled:hover {\n",
              "    background-color: var(--disabled-bg-color);\n",
              "    fill: var(--disabled-fill-color);\n",
              "    box-shadow: none;\n",
              "  }\n",
              "\n",
              "  .colab-df-spinner {\n",
              "    border: 2px solid var(--fill-color);\n",
              "    border-color: transparent;\n",
              "    border-bottom-color: var(--fill-color);\n",
              "    animation:\n",
              "      spin 1s steps(1) infinite;\n",
              "  }\n",
              "\n",
              "  @keyframes spin {\n",
              "    0% {\n",
              "      border-color: transparent;\n",
              "      border-bottom-color: var(--fill-color);\n",
              "      border-left-color: var(--fill-color);\n",
              "    }\n",
              "    20% {\n",
              "      border-color: transparent;\n",
              "      border-left-color: var(--fill-color);\n",
              "      border-top-color: var(--fill-color);\n",
              "    }\n",
              "    30% {\n",
              "      border-color: transparent;\n",
              "      border-left-color: var(--fill-color);\n",
              "      border-top-color: var(--fill-color);\n",
              "      border-right-color: var(--fill-color);\n",
              "    }\n",
              "    40% {\n",
              "      border-color: transparent;\n",
              "      border-right-color: var(--fill-color);\n",
              "      border-top-color: var(--fill-color);\n",
              "    }\n",
              "    60% {\n",
              "      border-color: transparent;\n",
              "      border-right-color: var(--fill-color);\n",
              "    }\n",
              "    80% {\n",
              "      border-color: transparent;\n",
              "      border-right-color: var(--fill-color);\n",
              "      border-bottom-color: var(--fill-color);\n",
              "    }\n",
              "    90% {\n",
              "      border-color: transparent;\n",
              "      border-bottom-color: var(--fill-color);\n",
              "    }\n",
              "  }\n",
              "</style>\n",
              "\n",
              "  <script>\n",
              "    async function quickchart(key) {\n",
              "      const quickchartButtonEl =\n",
              "        document.querySelector('#' + key + ' button');\n",
              "      quickchartButtonEl.disabled = true;  // To prevent multiple clicks.\n",
              "      quickchartButtonEl.classList.add('colab-df-spinner');\n",
              "      try {\n",
              "        const charts = await google.colab.kernel.invokeFunction(\n",
              "            'suggestCharts', [key], {});\n",
              "      } catch (error) {\n",
              "        console.error('Error during call to suggestCharts:', error);\n",
              "      }\n",
              "      quickchartButtonEl.classList.remove('colab-df-spinner');\n",
              "      quickchartButtonEl.classList.add('colab-df-quickchart-complete');\n",
              "    }\n",
              "    (() => {\n",
              "      let quickchartButtonEl =\n",
              "        document.querySelector('#df-4ddc9ef8-efa1-4d2a-86fd-e353e6e730eb button');\n",
              "      quickchartButtonEl.style.display =\n",
              "        google.colab.kernel.accessAllowed ? 'block' : 'none';\n",
              "    })();\n",
              "  </script>\n",
              "</div>\n",
              "\n",
              "    </div>\n",
              "  </div>\n"
            ],
            "application/vnd.google.colaboratory.intrinsic+json": {
              "type": "dataframe",
              "variable_name": "review_df",
              "summary": "{\n  \"name\": \"review_df\",\n  \"rows\": 25000,\n  \"fields\": [\n    {\n      \"column\": \"id\",\n      \"properties\": {\n        \"dtype\": \"string\",\n        \"num_unique_values\": 25000,\n        \"samples\": [\n          \"\\\"2570_3\\\"\",\n          \"\\\"4897_8\\\"\",\n          \"\\\"8485_3\\\"\"\n        ],\n        \"semantic_type\": \"\",\n        \"description\": \"\"\n      }\n    },\n    {\n      \"column\": \"sentiment\",\n      \"properties\": {\n        \"dtype\": \"number\",\n        \"std\": 0,\n        \"min\": 0,\n        \"max\": 1,\n        \"num_unique_values\": 2,\n        \"samples\": [\n          0,\n          1\n        ],\n        \"semantic_type\": \"\",\n        \"description\": \"\"\n      }\n    },\n    {\n      \"column\": \"review\",\n      \"properties\": {\n        \"dtype\": \"string\",\n        \"num_unique_values\": 24904,\n        \"samples\": [\n          \"\\\"This is not my favorite WIP (\\\\\\\"Women in Prison\\\\\\\"), but it is one of the most famous films in the sub-genre. It is was produced by Roger Corman, who at this point had already produced a few WIPs. It is obvious that the film tries to play with the established formula. The movie takes place in an USA prison, not in a \\\\\\\"banana republic\\\\\\\" like most WIP films. I'm not sure if that was a wise move, but it is an acceptable change of pace. Writer-director Demme really gets into his job, always digging for new ways to present a familiar scenario. In fact, he is a little too ambitious for his own good. The filmmaker creates a few surreal dream sequences that are borderline pretentious but it is fun to see how hard he tries to put this film above your average chicks-in-chains flick. But do not worry, Demme still operates within the parameters of the sub-genre. There is plenty of nudity and violence, something that will satisfy hardcore fans. The film is a little slow, but it is very entertaining. The cast is good. Roberta Collins is a WIP veteran, so she does not need an introduction, and Barbara Steel is a hoot as the wheelchair-bound crazy warden. Pam Grier is sorely missed, though.\\\"\",\n          \"\\\"In 1972, after his wife left to go her own way, Elvis Presley began dating Linda Thompson. Miss Thompson, a good-humored, long haired, lovely, statuesque beauty queen, is charted to fill a void in Elvis' life. When Elvis' divorce became final, Linda was already in place as the legendary performer's live-in girlfriend and travel companion until 1976.<br /><br />This is a gaudy look at their love affair and companionship. Linda whole-heartedly tending to her lover's needs and desires. And even putting up with his swallowing medications by the handful and introducing her to her own love affair with valium. At times this movie is harsh and dark of heart; a very unattractive look at the 'King' and his queen.<br /><br />Don Johnson is absolutely awful as Elvis. Over acting to the hilt is not attractive. Stephanie Zimbalist lacks the classiness of Linda, but does the job pretty well. Supporting cast includes: John Crawford, Ruta Lee, and Rick Lenz. Watching this twice is more than enough for me, but don't let this review stop you from checking it out. For most Elvis fans that I have conferred with, this is not a favored presentation.\\\"\"\n        ],\n        \"semantic_type\": \"\",\n        \"description\": \"\"\n      }\n    }\n  ]\n}"
            }
          },
          "metadata": {},
          "execution_count": 33
        }
      ]
    },
    {
      "cell_type": "code",
      "source": [
        "print(review_df['review'][0])"
      ],
      "metadata": {
        "colab": {
          "base_uri": "https://localhost:8080/"
        },
        "id": "GKG6kWHBP6-Q",
        "outputId": "27a706f7-a507-4665-abfc-14486e279665"
      },
      "execution_count": 34,
      "outputs": [
        {
          "output_type": "stream",
          "name": "stdout",
          "text": [
            "\"With all this stuff going down at the moment with MJ i've started listening to his music, watching the odd documentary here and there, watched The Wiz and watched Moonwalker again. Maybe i just want to get a certain insight into this guy who i thought was really cool in the eighties just to maybe make up my mind whether he is guilty or innocent. Moonwalker is part biography, part feature film which i remember going to see at the cinema when it was originally released. Some of it has subtle messages about MJ's feeling towards the press and also the obvious message of drugs are bad m'kay.<br /><br />Visually impressive but of course this is all about Michael Jackson so unless you remotely like MJ in anyway then you are going to hate this and find it boring. Some may call MJ an egotist for consenting to the making of this movie BUT MJ and most of his fans would say that he made it for the fans which if true is really nice of him.<br /><br />The actual feature film bit when it finally starts is only on for 20 minutes or so excluding the Smooth Criminal sequence and Joe Pesci is convincing as a psychopathic all powerful drug lord. Why he wants MJ dead so bad is beyond me. Because MJ overheard his plans? Nah, Joe Pesci's character ranted that he wanted people to know it is he who is supplying drugs etc so i dunno, maybe he just hates MJ's music.<br /><br />Lots of cool things in this like MJ turning into a car and a robot and the whole Speed Demon sequence. Also, the director must have had the patience of a saint when it came to filming the kiddy Bad sequence as usually directors hate working with one kid let alone a whole bunch of them performing a complex dance scene.<br /><br />Bottom line, this movie is for people who like MJ on one level or another (which i think is most people). If not, then stay away. It does try and give off a wholesome message and ironically MJ's bestest buddy in this movie is a girl! Michael Jackson is truly one of the most talented people ever to grace this planet but is he guilty? Well, with all the attention i've gave this subject....hmmm well i don't know because people can be different behind closed doors, i know this for a fact. He is either an extremely nice but stupid guy or one of the most sickest liars. I hope he is not the latter.\"\n"
          ]
        }
      ]
    },
    {
      "cell_type": "markdown",
      "source": [
        "HTML 형식에서 추출해〈br /> 태그가 여전히 존재.〈br /> 문자열은 피처로 만들 필요가 없으니 삭제.\n",
        "\n",
        "파이썬의 `re` 모듈은 편리하게 정규 표현식을 지원. 정규 표현식 `[^a-zA-Z]`의 의미는 영어 대/소문자가 아닌 모든 문자를 찾는 것"
      ],
      "metadata": {
        "id": "hIUSkwhTQwGV"
      }
    },
    {
      "cell_type": "code",
      "source": [
        "import re\n",
        "\n",
        "# <br> html 태그는 replace 함수로 공백으로 변환\n",
        "review_df['review'] = review_df['review'].str.replace('<br />',' ')\n",
        "\n",
        "# 파이썬의 정규 표현식 모듈인 re를 이용해 영어 문자열이 아닌 문자는 모두 공백으로 변환\n",
        "review_df['review'] = review_df['review'].apply(lambda x : re.sub('[^a-zA-Z]',' ',x))"
      ],
      "metadata": {
        "id": "xwuv6j8pRK-s"
      },
      "execution_count": 35,
      "outputs": []
    },
    {
      "cell_type": "code",
      "source": [
        "from sklearn.model_selection import train_test_split\n",
        "\n",
        "class_df = review_df['sentiment']\n",
        "feature_df = review_df.drop(['id','sentiment'],axis = 1, inplace = False)\n",
        "\n",
        "X_train, X_test, y_train, y_test = train_test_split(feature_df,class_df, test_size = 0.3, random_state = 156)\n",
        "X_train.shape, X_test.shape"
      ],
      "metadata": {
        "colab": {
          "base_uri": "https://localhost:8080/"
        },
        "id": "rPpNrzSCR5_0",
        "outputId": "f1657e4d-c68b-4b40-b259-fa4c09fdeeb1"
      },
      "execution_count": 36,
      "outputs": [
        {
          "output_type": "execute_result",
          "data": {
            "text/plain": [
              "((17500, 1), (7500, 1))"
            ]
          },
          "metadata": {},
          "execution_count": 36
        }
      ]
    },
    {
      "cell_type": "markdown",
      "source": [
        "`CountVectorizer` 벡터화를 적용해 예측 성능 측정\n",
        "\n",
        "예측 성능 평가는 이진 분류임을 고려하여 테스트 데이터 세트의 정확도와 ROC-AUC를 모두 측정"
      ],
      "metadata": {
        "id": "wh3mgBRvUbWF"
      }
    },
    {
      "cell_type": "code",
      "source": [
        "from sklearn.feature_extraction.text import CountVectorizer, TfidfVectorizer\n",
        "from sklearn.pipeline import Pipeline\n",
        "from sklearn.linear_model import LogisticRegression\n",
        "from sklearn.metrics import accuracy_score, roc_auc_score\n",
        "\n",
        "# 스톱 워드는 English, ngram은 (1, 2)로 설정해 CountVectorization 수행.\n",
        "# LogisticRegression의 C는 10으로 설정.\n",
        "pipeline = Pipeline([\n",
        "    ('cnt_vect', CountVectorizer(stop_words='english', ngram_range=(1, 2))),\n",
        "    ('lr_clf', LogisticRegression(solver='liblinear', C=10))])\n",
        "\n",
        "# Pipeline 객체를 이용해 fit(), predict()로 학습/예측 수행. predict_proba()는 roc_auc 때문에 수행.\n",
        "pipeline.fit(X_train['review'], y_train)\n",
        "pred = pipeline.predict(X_test['review'])\n",
        "pred_probs = pipeline.predict_proba(X_test['review'])[:,1]\n",
        "\n",
        "print('예측 정확도는 {0:.4f}, ROC-AUC는 {1:.4f}'.format(accuracy_score(y_test, pred), roc_auc_score(y_test, pred_probs)))"
      ],
      "metadata": {
        "colab": {
          "base_uri": "https://localhost:8080/"
        },
        "id": "smVFpa49SecF",
        "outputId": "813e516c-d422-4c94-ebdc-98e56acb5f08"
      },
      "execution_count": 39,
      "outputs": [
        {
          "output_type": "stream",
          "name": "stdout",
          "text": [
            "예측 정확도는 0.8861, ROC-AUC는 0.9503\n"
          ]
        }
      ]
    },
    {
      "cell_type": "markdown",
      "source": [
        "`TfidfVectorizer` 벡터화를 적용해 다시 예측 성능을 측정"
      ],
      "metadata": {
        "id": "eWQgJk_ZUj33"
      }
    },
    {
      "cell_type": "code",
      "source": [
        "# 스톱 워드는 english, filtering, ngram은 (1, 2)로 설정해 TF-IDF 벡터화 수행.\n",
        "# LogisticRegression의 C는 10으로 설정.\n",
        "pipeline = Pipeline([\n",
        "    ('tfidf_vect', TfidfVectorizer(stop_words='english', ngram_range=(1, 2))),\n",
        "    ('lr_clf', LogisticRegression(solver='liblinear', C=10))])\n",
        "\n",
        "pipeline.fit(X_train['review'], y_train)\n",
        "pred = pipeline.predict(X_test['review'])\n",
        "pred_probs = pipeline.predict_proba(X_test['review'])[:,1]\n",
        "print('예측 정확도는 {0:.4f}, ROC-AUC는 {1:.4f}'.format(accuracy_score(y_test, pred), roc_auc_score(y_test, pred_probs)))"
      ],
      "metadata": {
        "colab": {
          "base_uri": "https://localhost:8080/"
        },
        "id": "zlM-wCLqUqGK",
        "outputId": "8bad9faa-0df8-4b82-ade4-dc60e4491aec"
      },
      "execution_count": 41,
      "outputs": [
        {
          "output_type": "stream",
          "name": "stdout",
          "text": [
            "예측 정확도는 0.8936, ROC-AUC는 0.9598\n"
          ]
        }
      ]
    },
    {
      "cell_type": "markdown",
      "source": [
        "tf-idf 기반 피처 벡터화의 예측 성능이 조금 더 나아짐"
      ],
      "metadata": {
        "id": "-xMPZbPTU87A"
      }
    },
    {
      "cell_type": "markdown",
      "source": [
        "### 비지도학습 기반 감성 분석 소개\n",
        "비지도 감성 분석은 Lexicon을 기반으로 함.\n",
        "\n",
        "Lexicon : 감성만을 분석하기 위해 지원하는 **감성 어휘 사전**\n",
        "\n",
        "감성 지수(Polarity score) : 감성 사전이 가지고 있는, 긍정(Positive) 감성, 부정(Negative) 감성 정도를 의미하는 수치. 단어의 위치, 주변 단어, 문맥, POS(Part of Speech) 등을 참고해 결정됨.\n",
        "\n",
        "감성 사전을 구현한 대표격은 NLTK 패키지. NLTK는 많은 서브 모듈을 가지고 있음.\n",
        "\n",
        "* Lexicon 모듈\n",
        "\n",
        "* WordNet 모듈 : 방대한 영어 어휘 사전. 시멘틱 정보 제공. 각각의 품사로 구성된 개별 단어를 Synset이라는 개념을 이용해 표현.\n",
        "\n",
        "* 시멘틱(semantic) : 문맥상 의미.\n",
        "\n",
        "  ex. Present : 선물, 현재\n",
        "\n",
        "  ex. 밥 먹었어? : 단순 식사했는지, 안부 묻기\n",
        "\n",
        "* Synset : 단어가 가지는 문맥, 시멘틱 정보를 제공하는 WordNet의 핵심 개념\n",
        "\n",
        "NLP 패키지는 시멘틱을 프로그램적으로 인터페이스할 수 있는 다양한 방법을 제공한다. 하지만 예측 성능은 그리 좋지 못하다."
      ],
      "metadata": {
        "id": "uGCWr6maU_4o"
      }
    },
    {
      "cell_type": "markdown",
      "source": [
        "#### SentWordNet을 이용한 감성 분석\n",
        "\n",
        "SentiWordNet은 WordNet 기반의 synset을 이용.\n",
        "\n",
        "NLTK 패키지의 WordNet과 유사하게 감성 단어 전용의 WordNet을 구현한 것. WordNet의 Synset 개념을 감성 분석에 적용한 것.\n",
        "\n",
        "Synset 별로 3가지 감성 점수를 할당\n",
        "\n",
        "* 긍정 감성 지수 : 해당 단어가 감성적으로 얼마나 긍정적인가를 수치로 나타낸 것\n",
        "* 부정 감성 지수 : 얼마나 감성적으로 부정적인가를 수치로 나타낸 것\n",
        "* 객관성 지수 : 긍정/부정 감성 지수와 완전히 반대되는 개념으로, 단어가 감성과 관계없이 얼마나 객관적인지를 수치로 나타낸 것\n",
        "\n",
        "문장별로 단어들의 긍정 감성 지수와 부정 감성 지수를 합산하여 최종 감성 지수를 계산하고 이에 기반해 감성이 긍정인지 부정인지 결정"
      ],
      "metadata": {
        "id": "zOmw5qJFX-0S"
      }
    },
    {
      "cell_type": "code",
      "source": [
        "import nltk\n",
        "nltk.download('all')"
      ],
      "metadata": {
        "colab": {
          "base_uri": "https://localhost:8080/"
        },
        "id": "J471QDu_U-Pq",
        "outputId": "01280a79-458e-4c31-a238-83e0ee06be60"
      },
      "execution_count": 42,
      "outputs": [
        {
          "output_type": "stream",
          "name": "stderr",
          "text": [
            "[nltk_data] Downloading collection 'all'\n",
            "[nltk_data]    | \n",
            "[nltk_data]    | Downloading package abc to /root/nltk_data...\n",
            "[nltk_data]    |   Unzipping corpora/abc.zip.\n",
            "[nltk_data]    | Downloading package alpino to /root/nltk_data...\n",
            "[nltk_data]    |   Unzipping corpora/alpino.zip.\n",
            "[nltk_data]    | Downloading package averaged_perceptron_tagger to\n",
            "[nltk_data]    |     /root/nltk_data...\n",
            "[nltk_data]    |   Unzipping taggers/averaged_perceptron_tagger.zip.\n",
            "[nltk_data]    | Downloading package averaged_perceptron_tagger_eng to\n",
            "[nltk_data]    |     /root/nltk_data...\n",
            "[nltk_data]    |   Unzipping\n",
            "[nltk_data]    |       taggers/averaged_perceptron_tagger_eng.zip.\n",
            "[nltk_data]    | Downloading package averaged_perceptron_tagger_ru to\n",
            "[nltk_data]    |     /root/nltk_data...\n",
            "[nltk_data]    |   Unzipping\n",
            "[nltk_data]    |       taggers/averaged_perceptron_tagger_ru.zip.\n",
            "[nltk_data]    | Downloading package averaged_perceptron_tagger_rus to\n",
            "[nltk_data]    |     /root/nltk_data...\n",
            "[nltk_data]    |   Unzipping\n",
            "[nltk_data]    |       taggers/averaged_perceptron_tagger_rus.zip.\n",
            "[nltk_data]    | Downloading package basque_grammars to\n",
            "[nltk_data]    |     /root/nltk_data...\n",
            "[nltk_data]    |   Unzipping grammars/basque_grammars.zip.\n",
            "[nltk_data]    | Downloading package bcp47 to /root/nltk_data...\n",
            "[nltk_data]    | Downloading package biocreative_ppi to\n",
            "[nltk_data]    |     /root/nltk_data...\n",
            "[nltk_data]    |   Unzipping corpora/biocreative_ppi.zip.\n",
            "[nltk_data]    | Downloading package bllip_wsj_no_aux to\n",
            "[nltk_data]    |     /root/nltk_data...\n",
            "[nltk_data]    |   Unzipping models/bllip_wsj_no_aux.zip.\n",
            "[nltk_data]    | Downloading package book_grammars to\n",
            "[nltk_data]    |     /root/nltk_data...\n",
            "[nltk_data]    |   Unzipping grammars/book_grammars.zip.\n",
            "[nltk_data]    | Downloading package brown to /root/nltk_data...\n",
            "[nltk_data]    |   Unzipping corpora/brown.zip.\n",
            "[nltk_data]    | Downloading package brown_tei to /root/nltk_data...\n",
            "[nltk_data]    |   Unzipping corpora/brown_tei.zip.\n",
            "[nltk_data]    | Downloading package cess_cat to /root/nltk_data...\n",
            "[nltk_data]    |   Unzipping corpora/cess_cat.zip.\n",
            "[nltk_data]    | Downloading package cess_esp to /root/nltk_data...\n",
            "[nltk_data]    |   Unzipping corpora/cess_esp.zip.\n",
            "[nltk_data]    | Downloading package chat80 to /root/nltk_data...\n",
            "[nltk_data]    |   Unzipping corpora/chat80.zip.\n",
            "[nltk_data]    | Downloading package city_database to\n",
            "[nltk_data]    |     /root/nltk_data...\n",
            "[nltk_data]    |   Unzipping corpora/city_database.zip.\n",
            "[nltk_data]    | Downloading package cmudict to /root/nltk_data...\n",
            "[nltk_data]    |   Unzipping corpora/cmudict.zip.\n",
            "[nltk_data]    | Downloading package comparative_sentences to\n",
            "[nltk_data]    |     /root/nltk_data...\n",
            "[nltk_data]    |   Unzipping corpora/comparative_sentences.zip.\n",
            "[nltk_data]    | Downloading package comtrans to /root/nltk_data...\n",
            "[nltk_data]    | Downloading package conll2000 to /root/nltk_data...\n",
            "[nltk_data]    |   Unzipping corpora/conll2000.zip.\n",
            "[nltk_data]    | Downloading package conll2002 to /root/nltk_data...\n",
            "[nltk_data]    |   Unzipping corpora/conll2002.zip.\n",
            "[nltk_data]    | Downloading package conll2007 to /root/nltk_data...\n",
            "[nltk_data]    | Downloading package crubadan to /root/nltk_data...\n",
            "[nltk_data]    |   Unzipping corpora/crubadan.zip.\n",
            "[nltk_data]    | Downloading package dependency_treebank to\n",
            "[nltk_data]    |     /root/nltk_data...\n",
            "[nltk_data]    |   Unzipping corpora/dependency_treebank.zip.\n",
            "[nltk_data]    | Downloading package dolch to /root/nltk_data...\n",
            "[nltk_data]    |   Unzipping corpora/dolch.zip.\n",
            "[nltk_data]    | Downloading package english_wordnet to\n",
            "[nltk_data]    |     /root/nltk_data...\n",
            "[nltk_data]    |   Unzipping corpora/english_wordnet.zip.\n",
            "[nltk_data]    | Downloading package europarl_raw to\n",
            "[nltk_data]    |     /root/nltk_data...\n",
            "[nltk_data]    |   Unzipping corpora/europarl_raw.zip.\n",
            "[nltk_data]    | Downloading package extended_omw to\n",
            "[nltk_data]    |     /root/nltk_data...\n",
            "[nltk_data]    | Downloading package floresta to /root/nltk_data...\n",
            "[nltk_data]    |   Unzipping corpora/floresta.zip.\n",
            "[nltk_data]    | Downloading package framenet_v15 to\n",
            "[nltk_data]    |     /root/nltk_data...\n",
            "[nltk_data]    |   Unzipping corpora/framenet_v15.zip.\n",
            "[nltk_data]    | Downloading package framenet_v17 to\n",
            "[nltk_data]    |     /root/nltk_data...\n",
            "[nltk_data]    |   Unzipping corpora/framenet_v17.zip.\n",
            "[nltk_data]    | Downloading package gazetteers to /root/nltk_data...\n",
            "[nltk_data]    |   Unzipping corpora/gazetteers.zip.\n",
            "[nltk_data]    | Downloading package genesis to /root/nltk_data...\n",
            "[nltk_data]    |   Unzipping corpora/genesis.zip.\n",
            "[nltk_data]    | Downloading package gutenberg to /root/nltk_data...\n",
            "[nltk_data]    |   Unzipping corpora/gutenberg.zip.\n",
            "[nltk_data]    | Downloading package ieer to /root/nltk_data...\n",
            "[nltk_data]    |   Unzipping corpora/ieer.zip.\n",
            "[nltk_data]    | Downloading package inaugural to /root/nltk_data...\n",
            "[nltk_data]    |   Unzipping corpora/inaugural.zip.\n",
            "[nltk_data]    | Downloading package indian to /root/nltk_data...\n",
            "[nltk_data]    |   Unzipping corpora/indian.zip.\n",
            "[nltk_data]    | Downloading package jeita to /root/nltk_data...\n",
            "[nltk_data]    | Downloading package kimmo to /root/nltk_data...\n",
            "[nltk_data]    |   Unzipping corpora/kimmo.zip.\n",
            "[nltk_data]    | Downloading package knbc to /root/nltk_data...\n",
            "[nltk_data]    | Downloading package large_grammars to\n",
            "[nltk_data]    |     /root/nltk_data...\n",
            "[nltk_data]    |   Unzipping grammars/large_grammars.zip.\n",
            "[nltk_data]    | Downloading package lin_thesaurus to\n",
            "[nltk_data]    |     /root/nltk_data...\n",
            "[nltk_data]    |   Unzipping corpora/lin_thesaurus.zip.\n",
            "[nltk_data]    | Downloading package mac_morpho to /root/nltk_data...\n",
            "[nltk_data]    |   Unzipping corpora/mac_morpho.zip.\n",
            "[nltk_data]    | Downloading package machado to /root/nltk_data...\n",
            "[nltk_data]    | Downloading package masc_tagged to /root/nltk_data...\n",
            "[nltk_data]    | Downloading package maxent_ne_chunker to\n",
            "[nltk_data]    |     /root/nltk_data...\n",
            "[nltk_data]    |   Unzipping chunkers/maxent_ne_chunker.zip.\n",
            "[nltk_data]    | Downloading package maxent_ne_chunker_tab to\n",
            "[nltk_data]    |     /root/nltk_data...\n",
            "[nltk_data]    |   Unzipping chunkers/maxent_ne_chunker_tab.zip.\n",
            "[nltk_data]    | Downloading package maxent_treebank_pos_tagger to\n",
            "[nltk_data]    |     /root/nltk_data...\n",
            "[nltk_data]    |   Unzipping taggers/maxent_treebank_pos_tagger.zip.\n",
            "[nltk_data]    | Downloading package maxent_treebank_pos_tagger_tab to\n",
            "[nltk_data]    |     /root/nltk_data...\n",
            "[nltk_data]    |   Unzipping\n",
            "[nltk_data]    |       taggers/maxent_treebank_pos_tagger_tab.zip.\n",
            "[nltk_data]    | Downloading package moses_sample to\n",
            "[nltk_data]    |     /root/nltk_data...\n",
            "[nltk_data]    |   Unzipping models/moses_sample.zip.\n",
            "[nltk_data]    | Downloading package movie_reviews to\n",
            "[nltk_data]    |     /root/nltk_data...\n",
            "[nltk_data]    |   Unzipping corpora/movie_reviews.zip.\n",
            "[nltk_data]    | Downloading package mte_teip5 to /root/nltk_data...\n",
            "[nltk_data]    |   Unzipping corpora/mte_teip5.zip.\n",
            "[nltk_data]    | Downloading package mwa_ppdb to /root/nltk_data...\n",
            "[nltk_data]    |   Unzipping misc/mwa_ppdb.zip.\n",
            "[nltk_data]    | Downloading package names to /root/nltk_data...\n",
            "[nltk_data]    |   Unzipping corpora/names.zip.\n",
            "[nltk_data]    | Downloading package nombank.1.0 to /root/nltk_data...\n",
            "[nltk_data]    | Downloading package nonbreaking_prefixes to\n",
            "[nltk_data]    |     /root/nltk_data...\n",
            "[nltk_data]    |   Unzipping corpora/nonbreaking_prefixes.zip.\n",
            "[nltk_data]    | Downloading package nps_chat to /root/nltk_data...\n",
            "[nltk_data]    |   Unzipping corpora/nps_chat.zip.\n",
            "[nltk_data]    | Downloading package omw to /root/nltk_data...\n",
            "[nltk_data]    | Downloading package omw-1.4 to /root/nltk_data...\n",
            "[nltk_data]    | Downloading package opinion_lexicon to\n",
            "[nltk_data]    |     /root/nltk_data...\n",
            "[nltk_data]    |   Unzipping corpora/opinion_lexicon.zip.\n",
            "[nltk_data]    | Downloading package panlex_swadesh to\n",
            "[nltk_data]    |     /root/nltk_data...\n",
            "[nltk_data]    | Downloading package paradigms to /root/nltk_data...\n",
            "[nltk_data]    |   Unzipping corpora/paradigms.zip.\n",
            "[nltk_data]    | Downloading package pe08 to /root/nltk_data...\n",
            "[nltk_data]    |   Unzipping corpora/pe08.zip.\n",
            "[nltk_data]    | Downloading package perluniprops to\n",
            "[nltk_data]    |     /root/nltk_data...\n",
            "[nltk_data]    |   Unzipping misc/perluniprops.zip.\n",
            "[nltk_data]    | Downloading package pil to /root/nltk_data...\n",
            "[nltk_data]    |   Unzipping corpora/pil.zip.\n",
            "[nltk_data]    | Downloading package pl196x to /root/nltk_data...\n",
            "[nltk_data]    |   Unzipping corpora/pl196x.zip.\n",
            "[nltk_data]    | Downloading package porter_test to /root/nltk_data...\n",
            "[nltk_data]    |   Unzipping stemmers/porter_test.zip.\n",
            "[nltk_data]    | Downloading package ppattach to /root/nltk_data...\n",
            "[nltk_data]    |   Unzipping corpora/ppattach.zip.\n",
            "[nltk_data]    | Downloading package problem_reports to\n",
            "[nltk_data]    |     /root/nltk_data...\n",
            "[nltk_data]    |   Unzipping corpora/problem_reports.zip.\n",
            "[nltk_data]    | Downloading package product_reviews_1 to\n",
            "[nltk_data]    |     /root/nltk_data...\n",
            "[nltk_data]    |   Unzipping corpora/product_reviews_1.zip.\n",
            "[nltk_data]    | Downloading package product_reviews_2 to\n",
            "[nltk_data]    |     /root/nltk_data...\n",
            "[nltk_data]    |   Unzipping corpora/product_reviews_2.zip.\n",
            "[nltk_data]    | Downloading package propbank to /root/nltk_data...\n",
            "[nltk_data]    | Downloading package pros_cons to /root/nltk_data...\n",
            "[nltk_data]    |   Unzipping corpora/pros_cons.zip.\n",
            "[nltk_data]    | Downloading package ptb to /root/nltk_data...\n",
            "[nltk_data]    |   Unzipping corpora/ptb.zip.\n",
            "[nltk_data]    | Downloading package punkt to /root/nltk_data...\n",
            "[nltk_data]    |   Unzipping tokenizers/punkt.zip.\n",
            "[nltk_data]    | Downloading package punkt_tab to /root/nltk_data...\n",
            "[nltk_data]    |   Unzipping tokenizers/punkt_tab.zip.\n",
            "[nltk_data]    | Downloading package qc to /root/nltk_data...\n",
            "[nltk_data]    |   Unzipping corpora/qc.zip.\n",
            "[nltk_data]    | Downloading package reuters to /root/nltk_data...\n",
            "[nltk_data]    | Downloading package rslp to /root/nltk_data...\n",
            "[nltk_data]    |   Unzipping stemmers/rslp.zip.\n",
            "[nltk_data]    | Downloading package rte to /root/nltk_data...\n",
            "[nltk_data]    |   Unzipping corpora/rte.zip.\n",
            "[nltk_data]    | Downloading package sample_grammars to\n",
            "[nltk_data]    |     /root/nltk_data...\n",
            "[nltk_data]    |   Unzipping grammars/sample_grammars.zip.\n",
            "[nltk_data]    | Downloading package semcor to /root/nltk_data...\n",
            "[nltk_data]    | Downloading package senseval to /root/nltk_data...\n",
            "[nltk_data]    |   Unzipping corpora/senseval.zip.\n",
            "[nltk_data]    | Downloading package sentence_polarity to\n",
            "[nltk_data]    |     /root/nltk_data...\n",
            "[nltk_data]    |   Unzipping corpora/sentence_polarity.zip.\n",
            "[nltk_data]    | Downloading package sentiwordnet to\n",
            "[nltk_data]    |     /root/nltk_data...\n",
            "[nltk_data]    |   Unzipping corpora/sentiwordnet.zip.\n",
            "[nltk_data]    | Downloading package shakespeare to /root/nltk_data...\n",
            "[nltk_data]    |   Unzipping corpora/shakespeare.zip.\n",
            "[nltk_data]    | Downloading package sinica_treebank to\n",
            "[nltk_data]    |     /root/nltk_data...\n",
            "[nltk_data]    |   Unzipping corpora/sinica_treebank.zip.\n",
            "[nltk_data]    | Downloading package smultron to /root/nltk_data...\n",
            "[nltk_data]    |   Unzipping corpora/smultron.zip.\n",
            "[nltk_data]    | Downloading package snowball_data to\n",
            "[nltk_data]    |     /root/nltk_data...\n",
            "[nltk_data]    | Downloading package spanish_grammars to\n",
            "[nltk_data]    |     /root/nltk_data...\n",
            "[nltk_data]    |   Unzipping grammars/spanish_grammars.zip.\n",
            "[nltk_data]    | Downloading package state_union to /root/nltk_data...\n",
            "[nltk_data]    |   Unzipping corpora/state_union.zip.\n",
            "[nltk_data]    | Downloading package stopwords to /root/nltk_data...\n",
            "[nltk_data]    |   Unzipping corpora/stopwords.zip.\n",
            "[nltk_data]    | Downloading package subjectivity to\n",
            "[nltk_data]    |     /root/nltk_data...\n",
            "[nltk_data]    |   Unzipping corpora/subjectivity.zip.\n",
            "[nltk_data]    | Downloading package swadesh to /root/nltk_data...\n",
            "[nltk_data]    |   Unzipping corpora/swadesh.zip.\n",
            "[nltk_data]    | Downloading package switchboard to /root/nltk_data...\n",
            "[nltk_data]    |   Unzipping corpora/switchboard.zip.\n",
            "[nltk_data]    | Downloading package tagsets to /root/nltk_data...\n",
            "[nltk_data]    |   Unzipping help/tagsets.zip.\n",
            "[nltk_data]    | Downloading package tagsets_json to\n",
            "[nltk_data]    |     /root/nltk_data...\n",
            "[nltk_data]    |   Unzipping help/tagsets_json.zip.\n",
            "[nltk_data]    | Downloading package timit to /root/nltk_data...\n",
            "[nltk_data]    |   Unzipping corpora/timit.zip.\n",
            "[nltk_data]    | Downloading package toolbox to /root/nltk_data...\n",
            "[nltk_data]    |   Unzipping corpora/toolbox.zip.\n",
            "[nltk_data]    | Downloading package treebank to /root/nltk_data...\n",
            "[nltk_data]    |   Unzipping corpora/treebank.zip.\n",
            "[nltk_data]    | Downloading package twitter_samples to\n",
            "[nltk_data]    |     /root/nltk_data...\n",
            "[nltk_data]    |   Unzipping corpora/twitter_samples.zip.\n",
            "[nltk_data]    | Downloading package udhr to /root/nltk_data...\n",
            "[nltk_data]    |   Unzipping corpora/udhr.zip.\n",
            "[nltk_data]    | Downloading package udhr2 to /root/nltk_data...\n",
            "[nltk_data]    |   Unzipping corpora/udhr2.zip.\n",
            "[nltk_data]    | Downloading package unicode_samples to\n",
            "[nltk_data]    |     /root/nltk_data...\n",
            "[nltk_data]    |   Unzipping corpora/unicode_samples.zip.\n",
            "[nltk_data]    | Downloading package universal_tagset to\n",
            "[nltk_data]    |     /root/nltk_data...\n",
            "[nltk_data]    |   Unzipping taggers/universal_tagset.zip.\n",
            "[nltk_data]    | Downloading package universal_treebanks_v20 to\n",
            "[nltk_data]    |     /root/nltk_data...\n",
            "[nltk_data]    | Downloading package vader_lexicon to\n",
            "[nltk_data]    |     /root/nltk_data...\n",
            "[nltk_data]    | Downloading package verbnet to /root/nltk_data...\n",
            "[nltk_data]    |   Unzipping corpora/verbnet.zip.\n",
            "[nltk_data]    | Downloading package verbnet3 to /root/nltk_data...\n",
            "[nltk_data]    |   Unzipping corpora/verbnet3.zip.\n",
            "[nltk_data]    | Downloading package webtext to /root/nltk_data...\n",
            "[nltk_data]    |   Unzipping corpora/webtext.zip.\n",
            "[nltk_data]    | Downloading package wmt15_eval to /root/nltk_data...\n",
            "[nltk_data]    |   Unzipping models/wmt15_eval.zip.\n",
            "[nltk_data]    | Downloading package word2vec_sample to\n",
            "[nltk_data]    |     /root/nltk_data...\n",
            "[nltk_data]    |   Unzipping models/word2vec_sample.zip.\n",
            "[nltk_data]    | Downloading package wordnet to /root/nltk_data...\n",
            "[nltk_data]    | Downloading package wordnet2021 to /root/nltk_data...\n",
            "[nltk_data]    | Downloading package wordnet2022 to /root/nltk_data...\n",
            "[nltk_data]    |   Unzipping corpora/wordnet2022.zip.\n",
            "[nltk_data]    | Downloading package wordnet31 to /root/nltk_data...\n",
            "[nltk_data]    | Downloading package wordnet_ic to /root/nltk_data...\n",
            "[nltk_data]    |   Unzipping corpora/wordnet_ic.zip.\n",
            "[nltk_data]    | Downloading package words to /root/nltk_data...\n",
            "[nltk_data]    |   Unzipping corpora/words.zip.\n",
            "[nltk_data]    | Downloading package ycoe to /root/nltk_data...\n",
            "[nltk_data]    |   Unzipping corpora/ycoe.zip.\n",
            "[nltk_data]    | \n",
            "[nltk_data]  Done downloading collection all\n"
          ]
        },
        {
          "output_type": "execute_result",
          "data": {
            "text/plain": [
              "True"
            ]
          },
          "metadata": {},
          "execution_count": 42
        }
      ]
    },
    {
      "cell_type": "code",
      "source": [
        "from nltk.corpus import wordnet as wn\n",
        "\n",
        "term = 'present'\n",
        "\n",
        "# 'present'라는 단어로 wordnet의 synsets 생성.\n",
        "synsets = wn.synsets(term)\n",
        "print('synsets() 반환 type :', type(synsets))\n",
        "print('synsets() 반환 값 개수:', len(synsets)) # 총 18개의 서로 다른 semantic을 가지는 synset 객체가 반환\n",
        "print('synsets() 반환 값 :', synsets)"
      ],
      "metadata": {
        "colab": {
          "base_uri": "https://localhost:8080/"
        },
        "id": "d3Y2XyJbYRB7",
        "outputId": "ff6e3d9e-deba-4a97-e8c5-30a5834196cd"
      },
      "execution_count": 43,
      "outputs": [
        {
          "output_type": "stream",
          "name": "stdout",
          "text": [
            "synsets() 반환 type : <class 'list'>\n",
            "synsets() 반환 값 개수: 18\n",
            "synsets() 반환 값 : [Synset('present.n.01'), Synset('present.n.02'), Synset('present.n.03'), Synset('show.v.01'), Synset('present.v.02'), Synset('stage.v.01'), Synset('present.v.04'), Synset('present.v.05'), Synset('award.v.01'), Synset('give.v.08'), Synset('deliver.v.01'), Synset('introduce.v.01'), Synset('portray.v.04'), Synset('confront.v.03'), Synset('present.v.12'), Synset('salute.v.06'), Synset('present.a.01'), Synset('present.a.02')]\n"
          ]
        }
      ]
    },
    {
      "cell_type": "markdown",
      "source": [
        "Synset('present.n.01')와 같이 Synset 객체의 파라미터 'present.n.01'은 POS 태그를 나타냄.\n",
        "* present : 의미\n",
        "* n : 명사 품사\n",
        "* 01 : present가 명사로서 가지는 의미가 여러 가지 있어서 이를 구분하는 인덱스"
      ],
      "metadata": {
        "id": "zBX9nJJVcAIL"
      }
    },
    {
      "cell_type": "code",
      "source": [
        "for synset in synsets:\n",
        "  print('#### Synset name :',synset.name(),'####')\n",
        "  print('POS :',synset.lexname()) # POS(Part of Speech: 품사)\n",
        "  print('Definition:',synset.definition()) # 정의\n",
        "  print('Lemmas:',synset.lemma_names()) # 부명제"
      ],
      "metadata": {
        "colab": {
          "base_uri": "https://localhost:8080/"
        },
        "id": "moapIOaKcMLY",
        "outputId": "914322c6-698c-4955-9d72-2e14c5cbf824"
      },
      "execution_count": 44,
      "outputs": [
        {
          "output_type": "stream",
          "name": "stdout",
          "text": [
            "#### Synset name : present.n.01 ####\n",
            "POS : noun.time\n",
            "Definition: the period of time that is happening now; any continuous stretch of time including the moment of speech\n",
            "Lemmas: ['present', 'nowadays']\n",
            "#### Synset name : present.n.02 ####\n",
            "POS : noun.possession\n",
            "Definition: something presented as a gift\n",
            "Lemmas: ['present']\n",
            "#### Synset name : present.n.03 ####\n",
            "POS : noun.communication\n",
            "Definition: a verb tense that expresses actions or states at the time of speaking\n",
            "Lemmas: ['present', 'present_tense']\n",
            "#### Synset name : show.v.01 ####\n",
            "POS : verb.perception\n",
            "Definition: give an exhibition of to an interested audience\n",
            "Lemmas: ['show', 'demo', 'exhibit', 'present', 'demonstrate']\n",
            "#### Synset name : present.v.02 ####\n",
            "POS : verb.communication\n",
            "Definition: bring forward and present to the mind\n",
            "Lemmas: ['present', 'represent', 'lay_out']\n",
            "#### Synset name : stage.v.01 ####\n",
            "POS : verb.creation\n",
            "Definition: perform (a play), especially on a stage\n",
            "Lemmas: ['stage', 'present', 'represent']\n",
            "#### Synset name : present.v.04 ####\n",
            "POS : verb.possession\n",
            "Definition: hand over formally\n",
            "Lemmas: ['present', 'submit']\n",
            "#### Synset name : present.v.05 ####\n",
            "POS : verb.stative\n",
            "Definition: introduce\n",
            "Lemmas: ['present', 'pose']\n",
            "#### Synset name : award.v.01 ####\n",
            "POS : verb.possession\n",
            "Definition: give, especially as an honor or reward\n",
            "Lemmas: ['award', 'present']\n",
            "#### Synset name : give.v.08 ####\n",
            "POS : verb.possession\n",
            "Definition: give as a present; make a gift of\n",
            "Lemmas: ['give', 'gift', 'present']\n",
            "#### Synset name : deliver.v.01 ####\n",
            "POS : verb.communication\n",
            "Definition: deliver (a speech, oration, or idea)\n",
            "Lemmas: ['deliver', 'present']\n",
            "#### Synset name : introduce.v.01 ####\n",
            "POS : verb.communication\n",
            "Definition: cause to come to know personally\n",
            "Lemmas: ['introduce', 'present', 'acquaint']\n",
            "#### Synset name : portray.v.04 ####\n",
            "POS : verb.creation\n",
            "Definition: represent abstractly, for example in a painting, drawing, or sculpture\n",
            "Lemmas: ['portray', 'present']\n",
            "#### Synset name : confront.v.03 ####\n",
            "POS : verb.communication\n",
            "Definition: present somebody with something, usually to accuse or criticize\n",
            "Lemmas: ['confront', 'face', 'present']\n",
            "#### Synset name : present.v.12 ####\n",
            "POS : verb.communication\n",
            "Definition: formally present a debutante, a representative of a country, etc.\n",
            "Lemmas: ['present']\n",
            "#### Synset name : salute.v.06 ####\n",
            "POS : verb.communication\n",
            "Definition: recognize with a gesture prescribed by a military regulation; assume a prescribed position\n",
            "Lemmas: ['salute', 'present']\n",
            "#### Synset name : present.a.01 ####\n",
            "POS : adj.all\n",
            "Definition: temporal sense; intermediate between past and future; now existing or happening or in consideration\n",
            "Lemmas: ['present']\n",
            "#### Synset name : present.a.02 ####\n",
            "POS : adj.all\n",
            "Definition: being or existing in a specified place\n",
            "Lemmas: ['present']\n"
          ]
        }
      ]
    },
    {
      "cell_type": "markdown",
      "source": [
        "WordNet은 어떤 어휘와 다른 어휘 간의 관계를 유사도로 나타낼 수 있음. `path_similarity()`메서드 활용."
      ],
      "metadata": {
        "id": "Lo2o-swec1U8"
      }
    },
    {
      "cell_type": "code",
      "source": [
        "# synset 객체를 단어별로 생성\n",
        "tree = wn.synset('tree.n.01')\n",
        "lion = wn.synset('lion.n.01')\n",
        "tiger = wn.synset('tiger.n.02')\n",
        "cat = wn.synset('cat.n.01')\n",
        "dog = wn.synset('dog.n.01')\n",
        "\n",
        "entities = [tree, lion, tiger, cat, dog]\n",
        "similarities = []\n",
        "entity_names = [entity.name().split('.')[0] for entity in entities]\n",
        "\n",
        "# 단어별 synset을 반복하면서 다른 단어의 synset과 유사도를 측정합니다\n",
        "for entity in entities:\n",
        "  similarity = [round(entity.path_similarity(compared_entity),2) for compared_entity in entities]\n",
        "  similarities.append(similarity)\n",
        "\n",
        "# 개별 단어별 synset과 다른 단어의 synset과의 유사도를 DataFrame 형태로 저장합니다.\n",
        "similarity_df = pd.DataFrame(similarities, columns = entity_names, index=entity_names)\n",
        "similarity_df"
      ],
      "metadata": {
        "colab": {
          "base_uri": "https://localhost:8080/",
          "height": 206
        },
        "id": "DbqTpzHkc1mm",
        "outputId": "8fb95ac6-bd50-4fa2-d9ab-a874c907c59f"
      },
      "execution_count": 47,
      "outputs": [
        {
          "output_type": "execute_result",
          "data": {
            "text/plain": [
              "       tree  lion  tiger   cat   dog\n",
              "tree   1.00  0.07   0.07  0.08  0.12\n",
              "lion   0.07  1.00   0.33  0.25  0.17\n",
              "tiger  0.07  0.33   1.00  0.25  0.17\n",
              "cat    0.08  0.25   0.25  1.00  0.20\n",
              "dog    0.12  0.17   0.17  0.20  1.00"
            ],
            "text/html": [
              "\n",
              "  <div id=\"df-245fad21-8996-447c-9bbc-2160ef7754fb\" class=\"colab-df-container\">\n",
              "    <div>\n",
              "<style scoped>\n",
              "    .dataframe tbody tr th:only-of-type {\n",
              "        vertical-align: middle;\n",
              "    }\n",
              "\n",
              "    .dataframe tbody tr th {\n",
              "        vertical-align: top;\n",
              "    }\n",
              "\n",
              "    .dataframe thead th {\n",
              "        text-align: right;\n",
              "    }\n",
              "</style>\n",
              "<table border=\"1\" class=\"dataframe\">\n",
              "  <thead>\n",
              "    <tr style=\"text-align: right;\">\n",
              "      <th></th>\n",
              "      <th>tree</th>\n",
              "      <th>lion</th>\n",
              "      <th>tiger</th>\n",
              "      <th>cat</th>\n",
              "      <th>dog</th>\n",
              "    </tr>\n",
              "  </thead>\n",
              "  <tbody>\n",
              "    <tr>\n",
              "      <th>tree</th>\n",
              "      <td>1.00</td>\n",
              "      <td>0.07</td>\n",
              "      <td>0.07</td>\n",
              "      <td>0.08</td>\n",
              "      <td>0.12</td>\n",
              "    </tr>\n",
              "    <tr>\n",
              "      <th>lion</th>\n",
              "      <td>0.07</td>\n",
              "      <td>1.00</td>\n",
              "      <td>0.33</td>\n",
              "      <td>0.25</td>\n",
              "      <td>0.17</td>\n",
              "    </tr>\n",
              "    <tr>\n",
              "      <th>tiger</th>\n",
              "      <td>0.07</td>\n",
              "      <td>0.33</td>\n",
              "      <td>1.00</td>\n",
              "      <td>0.25</td>\n",
              "      <td>0.17</td>\n",
              "    </tr>\n",
              "    <tr>\n",
              "      <th>cat</th>\n",
              "      <td>0.08</td>\n",
              "      <td>0.25</td>\n",
              "      <td>0.25</td>\n",
              "      <td>1.00</td>\n",
              "      <td>0.20</td>\n",
              "    </tr>\n",
              "    <tr>\n",
              "      <th>dog</th>\n",
              "      <td>0.12</td>\n",
              "      <td>0.17</td>\n",
              "      <td>0.17</td>\n",
              "      <td>0.20</td>\n",
              "      <td>1.00</td>\n",
              "    </tr>\n",
              "  </tbody>\n",
              "</table>\n",
              "</div>\n",
              "    <div class=\"colab-df-buttons\">\n",
              "\n",
              "  <div class=\"colab-df-container\">\n",
              "    <button class=\"colab-df-convert\" onclick=\"convertToInteractive('df-245fad21-8996-447c-9bbc-2160ef7754fb')\"\n",
              "            title=\"Convert this dataframe to an interactive table.\"\n",
              "            style=\"display:none;\">\n",
              "\n",
              "  <svg xmlns=\"http://www.w3.org/2000/svg\" height=\"24px\" viewBox=\"0 -960 960 960\">\n",
              "    <path d=\"M120-120v-720h720v720H120Zm60-500h600v-160H180v160Zm220 220h160v-160H400v160Zm0 220h160v-160H400v160ZM180-400h160v-160H180v160Zm440 0h160v-160H620v160ZM180-180h160v-160H180v160Zm440 0h160v-160H620v160Z\"/>\n",
              "  </svg>\n",
              "    </button>\n",
              "\n",
              "  <style>\n",
              "    .colab-df-container {\n",
              "      display:flex;\n",
              "      gap: 12px;\n",
              "    }\n",
              "\n",
              "    .colab-df-convert {\n",
              "      background-color: #E8F0FE;\n",
              "      border: none;\n",
              "      border-radius: 50%;\n",
              "      cursor: pointer;\n",
              "      display: none;\n",
              "      fill: #1967D2;\n",
              "      height: 32px;\n",
              "      padding: 0 0 0 0;\n",
              "      width: 32px;\n",
              "    }\n",
              "\n",
              "    .colab-df-convert:hover {\n",
              "      background-color: #E2EBFA;\n",
              "      box-shadow: 0px 1px 2px rgba(60, 64, 67, 0.3), 0px 1px 3px 1px rgba(60, 64, 67, 0.15);\n",
              "      fill: #174EA6;\n",
              "    }\n",
              "\n",
              "    .colab-df-buttons div {\n",
              "      margin-bottom: 4px;\n",
              "    }\n",
              "\n",
              "    [theme=dark] .colab-df-convert {\n",
              "      background-color: #3B4455;\n",
              "      fill: #D2E3FC;\n",
              "    }\n",
              "\n",
              "    [theme=dark] .colab-df-convert:hover {\n",
              "      background-color: #434B5C;\n",
              "      box-shadow: 0px 1px 3px 1px rgba(0, 0, 0, 0.15);\n",
              "      filter: drop-shadow(0px 1px 2px rgba(0, 0, 0, 0.3));\n",
              "      fill: #FFFFFF;\n",
              "    }\n",
              "  </style>\n",
              "\n",
              "    <script>\n",
              "      const buttonEl =\n",
              "        document.querySelector('#df-245fad21-8996-447c-9bbc-2160ef7754fb button.colab-df-convert');\n",
              "      buttonEl.style.display =\n",
              "        google.colab.kernel.accessAllowed ? 'block' : 'none';\n",
              "\n",
              "      async function convertToInteractive(key) {\n",
              "        const element = document.querySelector('#df-245fad21-8996-447c-9bbc-2160ef7754fb');\n",
              "        const dataTable =\n",
              "          await google.colab.kernel.invokeFunction('convertToInteractive',\n",
              "                                                    [key], {});\n",
              "        if (!dataTable) return;\n",
              "\n",
              "        const docLinkHtml = 'Like what you see? Visit the ' +\n",
              "          '<a target=\"_blank\" href=https://colab.research.google.com/notebooks/data_table.ipynb>data table notebook</a>'\n",
              "          + ' to learn more about interactive tables.';\n",
              "        element.innerHTML = '';\n",
              "        dataTable['output_type'] = 'display_data';\n",
              "        await google.colab.output.renderOutput(dataTable, element);\n",
              "        const docLink = document.createElement('div');\n",
              "        docLink.innerHTML = docLinkHtml;\n",
              "        element.appendChild(docLink);\n",
              "      }\n",
              "    </script>\n",
              "  </div>\n",
              "\n",
              "\n",
              "<div id=\"df-246dc428-ce2c-4de1-a668-87dc8103ca67\">\n",
              "  <button class=\"colab-df-quickchart\" onclick=\"quickchart('df-246dc428-ce2c-4de1-a668-87dc8103ca67')\"\n",
              "            title=\"Suggest charts\"\n",
              "            style=\"display:none;\">\n",
              "\n",
              "<svg xmlns=\"http://www.w3.org/2000/svg\" height=\"24px\"viewBox=\"0 0 24 24\"\n",
              "     width=\"24px\">\n",
              "    <g>\n",
              "        <path d=\"M19 3H5c-1.1 0-2 .9-2 2v14c0 1.1.9 2 2 2h14c1.1 0 2-.9 2-2V5c0-1.1-.9-2-2-2zM9 17H7v-7h2v7zm4 0h-2V7h2v10zm4 0h-2v-4h2v4z\"/>\n",
              "    </g>\n",
              "</svg>\n",
              "  </button>\n",
              "\n",
              "<style>\n",
              "  .colab-df-quickchart {\n",
              "      --bg-color: #E8F0FE;\n",
              "      --fill-color: #1967D2;\n",
              "      --hover-bg-color: #E2EBFA;\n",
              "      --hover-fill-color: #174EA6;\n",
              "      --disabled-fill-color: #AAA;\n",
              "      --disabled-bg-color: #DDD;\n",
              "  }\n",
              "\n",
              "  [theme=dark] .colab-df-quickchart {\n",
              "      --bg-color: #3B4455;\n",
              "      --fill-color: #D2E3FC;\n",
              "      --hover-bg-color: #434B5C;\n",
              "      --hover-fill-color: #FFFFFF;\n",
              "      --disabled-bg-color: #3B4455;\n",
              "      --disabled-fill-color: #666;\n",
              "  }\n",
              "\n",
              "  .colab-df-quickchart {\n",
              "    background-color: var(--bg-color);\n",
              "    border: none;\n",
              "    border-radius: 50%;\n",
              "    cursor: pointer;\n",
              "    display: none;\n",
              "    fill: var(--fill-color);\n",
              "    height: 32px;\n",
              "    padding: 0;\n",
              "    width: 32px;\n",
              "  }\n",
              "\n",
              "  .colab-df-quickchart:hover {\n",
              "    background-color: var(--hover-bg-color);\n",
              "    box-shadow: 0 1px 2px rgba(60, 64, 67, 0.3), 0 1px 3px 1px rgba(60, 64, 67, 0.15);\n",
              "    fill: var(--button-hover-fill-color);\n",
              "  }\n",
              "\n",
              "  .colab-df-quickchart-complete:disabled,\n",
              "  .colab-df-quickchart-complete:disabled:hover {\n",
              "    background-color: var(--disabled-bg-color);\n",
              "    fill: var(--disabled-fill-color);\n",
              "    box-shadow: none;\n",
              "  }\n",
              "\n",
              "  .colab-df-spinner {\n",
              "    border: 2px solid var(--fill-color);\n",
              "    border-color: transparent;\n",
              "    border-bottom-color: var(--fill-color);\n",
              "    animation:\n",
              "      spin 1s steps(1) infinite;\n",
              "  }\n",
              "\n",
              "  @keyframes spin {\n",
              "    0% {\n",
              "      border-color: transparent;\n",
              "      border-bottom-color: var(--fill-color);\n",
              "      border-left-color: var(--fill-color);\n",
              "    }\n",
              "    20% {\n",
              "      border-color: transparent;\n",
              "      border-left-color: var(--fill-color);\n",
              "      border-top-color: var(--fill-color);\n",
              "    }\n",
              "    30% {\n",
              "      border-color: transparent;\n",
              "      border-left-color: var(--fill-color);\n",
              "      border-top-color: var(--fill-color);\n",
              "      border-right-color: var(--fill-color);\n",
              "    }\n",
              "    40% {\n",
              "      border-color: transparent;\n",
              "      border-right-color: var(--fill-color);\n",
              "      border-top-color: var(--fill-color);\n",
              "    }\n",
              "    60% {\n",
              "      border-color: transparent;\n",
              "      border-right-color: var(--fill-color);\n",
              "    }\n",
              "    80% {\n",
              "      border-color: transparent;\n",
              "      border-right-color: var(--fill-color);\n",
              "      border-bottom-color: var(--fill-color);\n",
              "    }\n",
              "    90% {\n",
              "      border-color: transparent;\n",
              "      border-bottom-color: var(--fill-color);\n",
              "    }\n",
              "  }\n",
              "</style>\n",
              "\n",
              "  <script>\n",
              "    async function quickchart(key) {\n",
              "      const quickchartButtonEl =\n",
              "        document.querySelector('#' + key + ' button');\n",
              "      quickchartButtonEl.disabled = true;  // To prevent multiple clicks.\n",
              "      quickchartButtonEl.classList.add('colab-df-spinner');\n",
              "      try {\n",
              "        const charts = await google.colab.kernel.invokeFunction(\n",
              "            'suggestCharts', [key], {});\n",
              "      } catch (error) {\n",
              "        console.error('Error during call to suggestCharts:', error);\n",
              "      }\n",
              "      quickchartButtonEl.classList.remove('colab-df-spinner');\n",
              "      quickchartButtonEl.classList.add('colab-df-quickchart-complete');\n",
              "    }\n",
              "    (() => {\n",
              "      let quickchartButtonEl =\n",
              "        document.querySelector('#df-246dc428-ce2c-4de1-a668-87dc8103ca67 button');\n",
              "      quickchartButtonEl.style.display =\n",
              "        google.colab.kernel.accessAllowed ? 'block' : 'none';\n",
              "    })();\n",
              "  </script>\n",
              "</div>\n",
              "\n",
              "  <div id=\"id_acc062cf-cffd-48e9-83a3-a6e440b28fc9\">\n",
              "    <style>\n",
              "      .colab-df-generate {\n",
              "        background-color: #E8F0FE;\n",
              "        border: none;\n",
              "        border-radius: 50%;\n",
              "        cursor: pointer;\n",
              "        display: none;\n",
              "        fill: #1967D2;\n",
              "        height: 32px;\n",
              "        padding: 0 0 0 0;\n",
              "        width: 32px;\n",
              "      }\n",
              "\n",
              "      .colab-df-generate:hover {\n",
              "        background-color: #E2EBFA;\n",
              "        box-shadow: 0px 1px 2px rgba(60, 64, 67, 0.3), 0px 1px 3px 1px rgba(60, 64, 67, 0.15);\n",
              "        fill: #174EA6;\n",
              "      }\n",
              "\n",
              "      [theme=dark] .colab-df-generate {\n",
              "        background-color: #3B4455;\n",
              "        fill: #D2E3FC;\n",
              "      }\n",
              "\n",
              "      [theme=dark] .colab-df-generate:hover {\n",
              "        background-color: #434B5C;\n",
              "        box-shadow: 0px 1px 3px 1px rgba(0, 0, 0, 0.15);\n",
              "        filter: drop-shadow(0px 1px 2px rgba(0, 0, 0, 0.3));\n",
              "        fill: #FFFFFF;\n",
              "      }\n",
              "    </style>\n",
              "    <button class=\"colab-df-generate\" onclick=\"generateWithVariable('similarity_df')\"\n",
              "            title=\"Generate code using this dataframe.\"\n",
              "            style=\"display:none;\">\n",
              "\n",
              "  <svg xmlns=\"http://www.w3.org/2000/svg\" height=\"24px\"viewBox=\"0 0 24 24\"\n",
              "       width=\"24px\">\n",
              "    <path d=\"M7,19H8.4L18.45,9,17,7.55,7,17.6ZM5,21V16.75L18.45,3.32a2,2,0,0,1,2.83,0l1.4,1.43a1.91,1.91,0,0,1,.58,1.4,1.91,1.91,0,0,1-.58,1.4L9.25,21ZM18.45,9,17,7.55Zm-12,3A5.31,5.31,0,0,0,4.9,8.1,5.31,5.31,0,0,0,1,6.5,5.31,5.31,0,0,0,4.9,4.9,5.31,5.31,0,0,0,6.5,1,5.31,5.31,0,0,0,8.1,4.9,5.31,5.31,0,0,0,12,6.5,5.46,5.46,0,0,0,6.5,12Z\"/>\n",
              "  </svg>\n",
              "    </button>\n",
              "    <script>\n",
              "      (() => {\n",
              "      const buttonEl =\n",
              "        document.querySelector('#id_acc062cf-cffd-48e9-83a3-a6e440b28fc9 button.colab-df-generate');\n",
              "      buttonEl.style.display =\n",
              "        google.colab.kernel.accessAllowed ? 'block' : 'none';\n",
              "\n",
              "      buttonEl.onclick = () => {\n",
              "        google.colab.notebook.generateWithVariable('similarity_df');\n",
              "      }\n",
              "      })();\n",
              "    </script>\n",
              "  </div>\n",
              "\n",
              "    </div>\n",
              "  </div>\n"
            ],
            "application/vnd.google.colaboratory.intrinsic+json": {
              "type": "dataframe",
              "variable_name": "similarity_df",
              "summary": "{\n  \"name\": \"similarity_df\",\n  \"rows\": 5,\n  \"fields\": [\n    {\n      \"column\": \"tree\",\n      \"properties\": {\n        \"dtype\": \"number\",\n        \"std\": 0.40971941618624813,\n        \"min\": 0.07,\n        \"max\": 1.0,\n        \"num_unique_values\": 4,\n        \"samples\": [\n          0.07,\n          0.12,\n          1.0\n        ],\n        \"semantic_type\": \"\",\n        \"description\": \"\"\n      }\n    },\n    {\n      \"column\": \"lion\",\n      \"properties\": {\n        \"dtype\": \"number\",\n        \"std\": 0.3683476618630828,\n        \"min\": 0.07,\n        \"max\": 1.0,\n        \"num_unique_values\": 5,\n        \"samples\": [\n          1.0,\n          0.17,\n          0.33\n        ],\n        \"semantic_type\": \"\",\n        \"description\": \"\"\n      }\n    },\n    {\n      \"column\": \"tiger\",\n      \"properties\": {\n        \"dtype\": \"number\",\n        \"std\": 0.3683476618630828,\n        \"min\": 0.07,\n        \"max\": 1.0,\n        \"num_unique_values\": 5,\n        \"samples\": [\n          0.33,\n          0.17,\n          1.0\n        ],\n        \"semantic_type\": \"\",\n        \"description\": \"\"\n      }\n    },\n    {\n      \"column\": \"cat\",\n      \"properties\": {\n        \"dtype\": \"number\",\n        \"std\": 0.36664696916789047,\n        \"min\": 0.08,\n        \"max\": 1.0,\n        \"num_unique_values\": 4,\n        \"samples\": [\n          0.25,\n          0.2,\n          0.08\n        ],\n        \"semantic_type\": \"\",\n        \"description\": \"\"\n      }\n    },\n    {\n      \"column\": \"dog\",\n      \"properties\": {\n        \"dtype\": \"number\",\n        \"std\": 0.3745263675630862,\n        \"min\": 0.12,\n        \"max\": 1.0,\n        \"num_unique_values\": 4,\n        \"samples\": [\n          0.17,\n          1.0,\n          0.12\n        ],\n        \"semantic_type\": \"\",\n        \"description\": \"\"\n      }\n    }\n  ]\n}"
            }
          },
          "metadata": {},
          "execution_count": 47
        }
      ]
    },
    {
      "cell_type": "markdown",
      "source": [
        "SentiWordNet은 WbrdNet의 Synset과 유사한 Senti_Synset 클래스를 가지고 있음. `senti_synset`"
      ],
      "metadata": {
        "id": "wcYQaY9fichi"
      }
    },
    {
      "cell_type": "code",
      "source": [
        "import nltk\n",
        "from nltk.corpus import sentiwordnet as swn\n",
        "\n",
        "senti_synsets = list(swn.senti_synsets('slow'))\n",
        "print('senti_synsets() 반환 type:', type(senti_synsets))\n",
        "print('senti_synsets() 반환 값 개수:', len(senti_synsets))\n",
        "print('senti_synsets() 반환 값:', senti_synsets)"
      ],
      "metadata": {
        "colab": {
          "base_uri": "https://localhost:8080/"
        },
        "id": "5pPg7JisiP82",
        "outputId": "5ab2a58c-c56e-4455-92ca-f64fb5623933"
      },
      "execution_count": 48,
      "outputs": [
        {
          "output_type": "stream",
          "name": "stdout",
          "text": [
            "senti_synsets() 반환 type: <class 'list'>\n",
            "senti_synsets() 반환 값 개수: 11\n",
            "senti_synsets() 반환 값: [SentiSynset('decelerate.v.01'), SentiSynset('slow.v.02'), SentiSynset('slow.v.03'), SentiSynset('slow.a.01'), SentiSynset('slow.a.02'), SentiSynset('dense.s.04'), SentiSynset('slow.a.04'), SentiSynset('boring.s.01'), SentiSynset('dull.s.08'), SentiSynset('slowly.r.01'), SentiSynset('behind.r.03')]\n"
          ]
        }
      ]
    },
    {
      "cell_type": "markdown",
      "source": [
        "SentiSynset 객체는 단어의 감성을 나타내는 감성 지수와 객관성을(감성과 반대) 나타내는 객관성 지수를 가지고 있음.\n",
        "\n",
        "어떤 단어가 전혀 감성적이지 않으면 객관성 지수는 1이 되고, 감성 지수는 모두 0이 됨."
      ],
      "metadata": {
        "id": "wlHbX4jrjG7J"
      }
    },
    {
      "cell_type": "code",
      "source": [
        "import nltk\n",
        "from nltk.corpus import sentiwordnet as swn\n",
        "\n",
        "father = swn.senti_synset('father.n.01')\n",
        "print('father 긍정감성 지수:',father.pos_score())\n",
        "print('father 부정감성 지수:',father.neg_score())\n",
        "print('father 객관성지수:',father.obj_score())\n",
        "print('\\n')\n",
        "fabulous = swn.senti_synset('fabulous.a.01')\n",
        "print('fabulous 긍정감성 지수:', fabulous.pos_score())\n",
        "print('fabulous 부정감성 지수:', fabulous.neg_score())"
      ],
      "metadata": {
        "colab": {
          "base_uri": "https://localhost:8080/"
        },
        "id": "f7ROBaAZi-5C",
        "outputId": "b2d2aa7c-6614-4772-fa3f-86567a9e2506"
      },
      "execution_count": 51,
      "outputs": [
        {
          "output_type": "stream",
          "name": "stdout",
          "text": [
            "father 긍정감성 지수: 0.0\n",
            "father 부정감성 지수: 0.0\n",
            "father 객관성지수: 1.0\n",
            "\n",
            "\n",
            "fabulous 긍정감성 지수: 0.875\n",
            "fabulous 부정감성 지수: 0.125\n"
          ]
        }
      ]
    },
    {
      "cell_type": "markdown",
      "source": [
        "#### SentWordNet을 이용한 감상평 감성 분석\n",
        "1. 문서(Document)를 문장(Sentence) 단위로 분해\n",
        "2. 다시 문장을 단어(Word) 단위로 토큰화하고 품사 태깅\n",
        "3. 품사 태깅된 단어 기반으로 synset 객체와 senti_synset 객체를 생성\n",
        "4. senti_synset 객체에서 긍정 감성/부정 감성 지수를 구하고 이를 모두 합산해 특정 임계치 값 이상일 때 긍정 감성으로, 그렇지 않을 때는 부정 감성으로 결정"
      ],
      "metadata": {
        "id": "XQGP2PdDkTPh"
      }
    },
    {
      "cell_type": "markdown",
      "source": [
        "품사 태깅 내부 함수 생성"
      ],
      "metadata": {
        "id": "aPZWblYbsZ97"
      }
    },
    {
      "cell_type": "code",
      "source": [
        "from nltk.corpus import wordnet as wn\n",
        "\n",
        "# 간단한 NTLK PennTreebank Tag를 기반으로 WordNet기반의 품사 Tag로 변환\n",
        "def penn_to_wn(tag):\n",
        "    if tag.startswith('J'):\n",
        "        return wn.ADJ\n",
        "    elif tag.startswith('N'):\n",
        "        return wn.NOUN\n",
        "    elif tag.startswith('R'):\n",
        "        return wn.ADV\n",
        "    elif tag.startswith('V'):\n",
        "        return wn.VERB\n",
        "    return"
      ],
      "metadata": {
        "id": "s02QzmRqm4wy"
      },
      "execution_count": 55,
      "outputs": []
    },
    {
      "cell_type": "code",
      "source": [
        "from nltk.stem import WordNetLemmatizer\n",
        "from nltk.corpus import sentiwordnet as swn\n",
        "from nltk import sent_tokenize, word_tokenize, pos_tag\n",
        "\n",
        "def swn_polarity(text):\n",
        "    # 감성 지수 초기화\n",
        "    sentiment = 0.0\n",
        "    tokens_count = 0\n",
        "\n",
        "    lemmatizer = WordNetLemmatizer()\n",
        "    raw_sentences = sent_tokenize(text)\n",
        "    # 분해된 문장별로 단어 토큰 -> 품사 태깅 후에 SentiSynset 생성 -> 감성 지수 합산\n",
        "    for raw_sentence in raw_sentences:\n",
        "        # NTLK 기반의 품사 태깅 문장 추출\n",
        "        tagged_sentence = pos_tag(word_tokenize(raw_sentence))\n",
        "        for word , tag in tagged_sentence:\n",
        "\n",
        "            # WordNet 기반 품사 태깅과 어근 추출\n",
        "            wn_tag = penn_to_wn(tag)\n",
        "            if wn_tag not in (wn.NOUN , wn.ADJ, wn.ADV):\n",
        "                continue\n",
        "            lemma = lemmatizer.lemmatize(word, pos=wn_tag)\n",
        "            if not lemma:\n",
        "                continue\n",
        "            # 어근을 추출한 단어와 WordNet 기반 품사 태깅을 입력해 Synset 객체를 생성.\n",
        "            synsets = wn.synsets(lemma , pos=wn_tag)\n",
        "            if not synsets:\n",
        "                continue\n",
        "            # sentiwordnet의 감성 단어 분석으로 감성 synset 추출\n",
        "            # 모든 단어에 대해 긍정 감성 지수는 +로 부정 감성 지수는 -로 합산해 감성 지수 계산.\n",
        "            synset = synsets[0]\n",
        "            swn_synset = swn.senti_synset(synset.name())\n",
        "            sentiment += (swn_synset.pos_score() - swn_synset.neg_score())\n",
        "            tokens_count += 1\n",
        "\n",
        "    if not tokens_count:\n",
        "        return 0\n",
        "\n",
        "    # 총 score가 0 이상일 경우 긍정(Positive) 1, 그렇지 않을 경우 부정(Negative) 0 반환\n",
        "    if sentiment >= 0 :\n",
        "        return 1\n",
        "\n",
        "    return 0"
      ],
      "metadata": {
        "id": "9zt904CejvJ1"
      },
      "execution_count": 56,
      "outputs": []
    },
    {
      "cell_type": "code",
      "source": [
        "review_df['preds'] = review_df['review'].apply( lambda x : swn_polarity(x) )\n",
        "y_target = review_df['sentiment'].values\n",
        "preds = review_df['preds'].values"
      ],
      "metadata": {
        "id": "ZLy0AZUeluj0"
      },
      "execution_count": 57,
      "outputs": []
    },
    {
      "cell_type": "code",
      "source": [
        "from sklearn.metrics import accuracy_score, confusion_matrix, precision_score\n",
        "from sklearn.metrics import recall_score, f1_score, roc_auc_score\n",
        "import numpy as np\n",
        "\n",
        "print(confusion_matrix( y_target, preds))\n",
        "print(\"정확도:\", np.round(accuracy_score(y_target , preds), 4))\n",
        "print(\"정밀도:\", np.round(precision_score(y_target , preds),4))\n",
        "print(\"재현율:\", np.round(recall_score(y_target, preds), 4))"
      ],
      "metadata": {
        "colab": {
          "base_uri": "https://localhost:8080/"
        },
        "id": "3gvbxMxOmxOa",
        "outputId": "a36a2e27-51da-477b-91b3-9bd62a8f9095"
      },
      "execution_count": 58,
      "outputs": [
        {
          "output_type": "stream",
          "name": "stdout",
          "text": [
            "[[7669 4831]\n",
            " [3635 8865]]\n",
            "정확도: 0.6614\n",
            "정밀도: 0.6473\n",
            "재현율: 0.7092\n"
          ]
        }
      ]
    },
    {
      "cell_type": "markdown",
      "source": [
        "#### VADER을 이용한 감성 분석\n",
        "VADER는 소셜 미디어의 감성 분석 용도로 만들어진 룰 기반의 Lexicon. VADER는 SentimentlntensityAnalyzer 클래스를 이용해 쉽게 감성 분석을 제공"
      ],
      "metadata": {
        "id": "2weGrTJ5m93h"
      }
    },
    {
      "cell_type": "markdown",
      "source": [
        "`polarity_scores()` 메서드를 통해 감성 점수를 구함.\n",
        "\n",
        "딕셔너리 형태의 감성 점수를 반환.\n",
        "\n",
        "'neg'는 부정 감성 지수, 'neu'는 중립적인 감성 지수, 'pos'는 긍정 감성 지수, 'compound'는 neg, neu, pos score를 적절히 조합해 —1에서 1 사이의 감성 지수를 표현한 값.\n",
        "\n",
        "compound score를 기반으로 부정 감성 또는 긍정 감성 여부를 결정. 보통 0.1 이상이면 긍정 감성, 그 이하이면 부정 감성으로 판단하나 상황에 따라 이 임계값을 적절히 조정해 예측 성능을 조절."
      ],
      "metadata": {
        "id": "5Fxxw3Hyne-h"
      }
    },
    {
      "cell_type": "code",
      "source": [
        "from nltk.sentiment.vader import SentimentIntensityAnalyzer\n",
        "senti_analyzer = SentimentIntensityAnalyzer()\n",
        "senti_scores = senti_analyzer.polarity_scores(review_df['review'][0])\n",
        "print(senti_scores)"
      ],
      "metadata": {
        "colab": {
          "base_uri": "https://localhost:8080/"
        },
        "id": "jBcjoSnam_ql",
        "outputId": "d72c95cd-0ab9-4231-eb01-701e32af26fc"
      },
      "execution_count": 59,
      "outputs": [
        {
          "output_type": "stream",
          "name": "stdout",
          "text": [
            "{'neg': 0.13, 'neu': 0.743, 'pos': 0.127, 'compound': -0.7943}\n"
          ]
        }
      ]
    },
    {
      "cell_type": "code",
      "source": [
        "def vader_polarity(review,threshold=0.1):\n",
        "    analyzer = SentimentIntensityAnalyzer()\n",
        "    scores = analyzer.polarity_scores(review)\n",
        "\n",
        "    # compound 값에 기반하여 threshold 입력값보다 크면 1, 그렇지 않으면 0을 반환\n",
        "    agg_score = scores['compound']\n",
        "    final_sentiment = 1 if agg_score >= threshold else 0\n",
        "    return final_sentiment\n",
        "\n",
        "# apply lambda 식을 이용하여 레코드별로 vader_polarity( )를 수행하고 결과를 'vader_preds'에 저장\n",
        "review_df['vader_preds'] = review_df['review'].apply( lambda x : vader_polarity(x, 0.1) )\n",
        "y_target = review_df['sentiment'].values\n",
        "vader_preds = review_df['vader_preds'].values\n",
        "\n",
        "print(confusion_matrix( y_target, vader_preds))\n",
        "print(\"정확도:\", np.round(accuracy_score(y_target , vader_preds),4))\n",
        "print(\"정밀도:\", np.round(precision_score(y_target , vader_preds),4))\n",
        "print(\"재현율:\", np.round(recall_score(y_target, vader_preds),4))"
      ],
      "metadata": {
        "colab": {
          "base_uri": "https://localhost:8080/"
        },
        "id": "TG75qpMLoB_-",
        "outputId": "b166ec94-654c-4116-d90d-3f855e4e84f1"
      },
      "execution_count": 60,
      "outputs": [
        {
          "output_type": "stream",
          "name": "stdout",
          "text": [
            "[[ 6747  5753]\n",
            " [ 1858 10642]]\n",
            "정확도: 0.6956\n",
            "정밀도: 0.6491\n",
            "재현율: 0.8514\n"
          ]
        }
      ]
    },
    {
      "cell_type": "markdown",
      "source": [
        "![Screen Shot 2025-03-29 at 8.20.07 PM.png](data:image/png;base64,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)"
      ],
      "metadata": {
        "id": "rnaTUDzooXst"
      }
    }
  ]
}
