{
  "nbformat": 4,
  "nbformat_minor": 0,
  "metadata": {
    "colab": {
      "provenance": [],
      "authorship_tag": "ABX9TyPS76tPZ3smio/uQeCzJE10",
      "include_colab_link": true
    },
    "kernelspec": {
      "name": "python3",
      "display_name": "Python 3"
    },
    "language_info": {
      "name": "python"
    }
  },
  "cells": [
    {
      "cell_type": "markdown",
      "metadata": {
        "id": "view-in-github",
        "colab_type": "text"
      },
      "source": [
        "<a href=\"https://colab.research.google.com/github/soyeunju/ESAA/blob/main/25-1/Assignments/0530_Week13_HW_DLWP_RNN_2.ipynb\" target=\"_parent\"><img src=\"https://colab.research.google.com/assets/colab-badge.svg\" alt=\"Open In Colab\"/></a>"
      ]
    },
    {
      "cell_type": "markdown",
      "source": [
        "📊딥러닝 파이토치 교과서 ch 7.5\n",
        "\n",
        "p.393~417"
      ],
      "metadata": {
        "id": "Hydl59sWmm9p"
      }
    },
    {
      "cell_type": "markdown",
      "source": [
        "## 7.5 LSTM\n",
        "RNN의 기울기 소멸 문제를 해결하기 위해 LSTM/GRU 같이 확장된 RNNv방식 활용."
      ],
      "metadata": {
        "id": "puQbGLKeoXUw"
      }
    },
    {
      "cell_type": "markdown",
      "source": [
        "### 7.5.1\n",
        "**LSTM 순전파**\n",
        "* 기울기 소멸 문제를 해결하기 위해 망각 게이트, 입력 게이트, 출력 게이트라는 새로운 요소를 은닉층의 각 뉴런에 추가\n",
        "  * 망각 게이트\n",
        "    * 과거 정보를 어느 정도 기억할지 결정.\n",
        "    * 과거 정보($h_{t-1}$)와 현재 데이터를 입력받아 시그모이드를 취한 후 그 값을 과거 정보에 곱해줌\n",
        "    * 시그모이드 출력값이 0: 과거 정보 버림\n",
        "\n",
        "  $$\n",
        "  f_t = \\sigma(W_f [h_{t-1}, x_t]) \\\\\n",
        "  c_t = f_t \\cdot c_{t-1}\n",
        "  $$\n",
        "  * 입력 게이트\n",
        "    * 현재 메모리에 새로운 정보를 반영할지 결정하는 역할.\n",
        "    * 과거 정보와 현재 데이터를 입력받아 시그모이드, 하이퍼볼릭 탄젠트 함수를 기반으로 현재 정보에 대한 보존량을 결정함.\n",
        "\n",
        "  $$\n",
        "  i_t = \\sigma(W_i [h_{t-1}, x_t]) \\\\\n",
        "  \\tilde{c}_t = \\tanh(W_c [h_{t-1}, x_t]) \\\\\n",
        "  c_t = c_{t-1} + i_t \\cdot \\tilde{c}_t\n",
        "  $$\n",
        "  * 셀\n",
        "    * 각 단계에 대한 은닉 노드를 메모리 셀이라고 함.\n",
        "    * 총합을 사용하여 셀 값을 반영하며, 이것으로 기울기 소멸 문제가 해결됨.\n",
        "    * 셀을 업데이트하는 방법: 망각 게이트와 입력 게이트의 이전 단계 셀 정보를 계산하여 현재 단계의 셀 상태를 업데이트\n",
        "\n",
        "  $$\n",
        "  f_t = \\sigma(W_f [h_{t-1}, x_t]) \\\\\n",
        "  c_t = c_{t-1} + i_t ⋅ \\tilde{c}_t\n",
        "  $$\n",
        "  \n",
        "  * 출력 게이트\n",
        "    * 과거 정보와 현재 데이터를 사용하여 뉴런의 출력을 결정함.\n",
        "    * 즉, 갱신된 메모리의 출력 값을 제어하는 역할.\n",
        "    * 이전 은닉 상태와 t번째 입력을 고려해서 다음 은닉 상태를 계산함. 그리고 LSTM에서는 이 은닉 상태가 그 시점에서의 출력이 됨.\n",
        "      * 계산한 값이 1: 의미 있는 결과로 최종 출력\n",
        "      * 계산한 값이 0: 해당 연산 출력을 하지 않음\n",
        "\n",
        "  $$\n",
        "  o_t = \\sigma(W_o [h_{t-1}, x_t]) \\\\\n",
        "  h_t = o_t \\cdot \\tanh(C_{t-1})\n",
        "  $$\n",
        "\n",
        "**LSTM 역전파**\n",
        "* 셀 상태를 통해 역전파를 수행 → **\"중단 없는 기울기 (Uninterrupted Gradient Flow)\"**\n",
        "* 오차가 모든 시점의 셀에 연속적으로 전파됨\n",
        "* 입력 방향으로도 오차가 전파됨 → $x_t$ 까지도 영향\n",
        "* 출력값에 대한 활성화 함수:\n",
        "\n",
        "  $$\n",
        "  t_t = \\tanh(w_{hh}h_{t-1} + w_{xh}x_t)\n",
        "  $$"
      ],
      "metadata": {
        "id": "MMSkXtzComt-"
      }
    },
    {
      "cell_type": "markdown",
      "source": [
        "### 7.5.2 LSTM 셀 구현"
      ],
      "metadata": {
        "id": "baOtjY0Srqo9"
      }
    },
    {
      "cell_type": "code",
      "source": [
        "# 코드 7-29 라이브러리 호출\n",
        "\n",
        "import torch\n",
        "import torch.nn as nn\n",
        "import torchvision.transforms as transforms\n",
        "import torchvision.datasets as dataset\n",
        "from torch.autograd import Variable\n",
        "from torch.nn import Parameter # ------ 파라미터 목록을 갖고 있는 라이브러리(패키지)\n",
        "from torch import Tensor\n",
        "import torch.nn.functional as F\n",
        "from torch.utils.data import DataLoader\n",
        "import math # ------ 수학과 관련되어 다양한 함수들과 상수들이 정의되어 있는 라이브러리\n",
        "\n",
        "device = torch.device('cuda:0' if torch.cuda.is_available() else 'cpu')\n",
        "cuda = True if torch.cuda.is_available() else False # GPU 사용에 필요\n",
        "\n",
        "Tensor = torch.cuda.FloatTensor if cuda else torch.FloatTensor # GPU 사용에 필요\n",
        "\n",
        "torch.manual_seed(125) # ------ 랜덤 시드 고정\n",
        "if torch.cuda.is_available():\n",
        "    torch.cuda.manual_seed_all(125)"
      ],
      "metadata": {
        "id": "wHe-BCIbrqAE"
      },
      "execution_count": 1,
      "outputs": []
    },
    {
      "cell_type": "code",
      "source": [
        "# 코드 7-30 데이터 전처리\n",
        "\n",
        "import torchvision.transforms as transforms\n",
        "\n",
        "mnist_transform = transforms.Compose([\n",
        "    transforms.ToTensor(),\n",
        "    transforms.Normalize((0.5,), (1.0,)) # ------평균을 0.5, 표준편차를 1.0으로 데이터 정규화\n",
        "])"
      ],
      "metadata": {
        "id": "WT71BqDkrpT0"
      },
      "execution_count": 3,
      "outputs": []
    },
    {
      "cell_type": "code",
      "execution_count": 4,
      "metadata": {
        "colab": {
          "base_uri": "https://localhost:8080/"
        },
        "id": "pxqjyOUYmLu1",
        "outputId": "6d6d8aa0-e9a8-4083-a9f0-13002e311426"
      },
      "outputs": [
        {
          "output_type": "stream",
          "name": "stderr",
          "text": [
            "100%|██████████| 9.91M/9.91M [00:00<00:00, 47.0MB/s]\n",
            "100%|██████████| 28.9k/28.9k [00:00<00:00, 26.0MB/s]\n",
            "100%|██████████| 1.65M/1.65M [00:00<00:00, 76.8MB/s]\n",
            "100%|██████████| 4.54k/4.54k [00:00<00:00, 4.17MB/s]\n"
          ]
        }
      ],
      "source": [
        "# 코드 7-31 데이터셋 내려받기\n",
        "\n",
        "from torchvision.datasets import MNIST\n",
        "download_root = '../chap07/MNIST_DATASET' # •••••. MNIST를 내려받을 경로\n",
        "train_dataset = MNIST(download_root, transform=mnist_transform, train=True, download=True)\n",
        "valid_dataset = MNIST( download_root, transform=mnist_transform, train=False, download=True)\n",
        "test_dataset = MNIST( download_root, transform=mnist_transform, train=False, download=True)"
      ]
    },
    {
      "cell_type": "code",
      "source": [
        "# 코드 7-32 데이터셋을 메모리로 가져오기\n",
        "\n",
        "batch_size = 64\n",
        "train_loader = DataLoader(dataset=train_dataset, batch_size=batch_size, shuffle=True)\n",
        "valid_loader = DataLoader(dataset=test_dataset, batch_size=batch_size, shuffle=True)\n",
        "test_loader = DataLoader(dataset=test_dataset, batch_size=batch_size, shuffle=True)"
      ],
      "metadata": {
        "id": "QUKzi6bhmrKy"
      },
      "execution_count": 5,
      "outputs": []
    },
    {
      "cell_type": "code",
      "source": [
        "# 코드 7-33 변수 값 지정\n",
        "\n",
        "batch_size = 100\n",
        "n_iters = 6000\n",
        "num_epochs = n_iters / (len(train_dataset) / batch_size)\n",
        "num_epochs = int(num_epochs)"
      ],
      "metadata": {
        "id": "ZzH0mj47r-2-"
      },
      "execution_count": 6,
      "outputs": []
    },
    {
      "cell_type": "code",
      "source": [
        "# 코드 7-34 LSTM 셀 네트워크 구축\n",
        "\n",
        "class LSTMCell(nn.Module):\n",
        "    def __init__(self, input_size, hidden_size, bias=True):\n",
        "        super(LSTMCell, self).__init__()\n",
        "        self.input_size = input_size\n",
        "        self.hidden_size = hidden_size\n",
        "        self.bias = bias\n",
        "        self.x2h = nn.Linear(input_size, 4 * hidden_size, bias=bias)  # (1)\n",
        "        self.h2h = nn.Linear(hidden_size, 4 * hidden_size, bias=bias) # (1)'\n",
        "        self.reset_parameters()\n",
        "\n",
        "    def reset_parameters(self):\n",
        "        std = 1.0 / math.sqrt(self.hidden_size)\n",
        "        for w in self.parameters():\n",
        "            w.data.uniform_(-std, std)                                # (2)\n",
        "\n",
        "    def forward(self, x, hidden):\n",
        "        hx, cx = hidden\n",
        "        x = x.view(-1, x.size(1))\n",
        "\n",
        "        gates = self.x2h(x) + self.h2h(hx)                            # (1)''\n",
        "        gates = gates.squeeze()                                       # (3)\n",
        "        ingate, forgetgate, cellgate, outgate = gates.chunk(4, 1)     # (1)'''\n",
        "\n",
        "        ingate = F.sigmoid(ingate)\n",
        "        forgetgate = F.sigmoid(forgetgate)\n",
        "        cellgate = F.tanh(cellgate)\n",
        "        outgate = F.sigmoid(outgate)\n",
        "\n",
        "        cy = torch.mul(cx, forgetgate) + torch.mul(ingate, cellgate)  # (4)\n",
        "        hy = torch.mul(outgate, F.tanh(cy))                           # (4)'\n",
        "\n",
        "        return (hy, cy)"
      ],
      "metadata": {
        "id": "-ZhqrDEZsCTS"
      },
      "execution_count": 7,
      "outputs": []
    },
    {
      "cell_type": "markdown",
      "source": [
        "LSTMCell(input_dim, hidden dim, layer_dim): 입력 특성, 은닉층 뉴런 개수, 은닉층 계층 개수"
      ],
      "metadata": {
        "id": "FIZAPYZisVEY"
      }
    },
    {
      "cell_type": "code",
      "source": [
        "\n",
        "# 코드 7-35 LSTM 셀의 전반적인 네트워크\n",
        "\n",
        "class LSTMModel(nn.Module):\n",
        "    def __init__(self, input_dim, hidden_dim, layer_dim, output_dim, bias=True):\n",
        "        super(LSTMModel, self).__init__()\n",
        "        self.hidden_dim = hidden_dim # ------ 은닉층의 뉴런/유닛 개수\n",
        "\n",
        "        self.layer_dim = layer_dim\n",
        "        self.lstm = LSTMCell(input_dim, hidden_dim, layer_dim)  # (1)\n",
        "        self.fc = nn.Linear(hidden_dim, output_dim)\n",
        "\n",
        "    def forward(self, x):\n",
        "        if torch.cuda.is_available():\n",
        "            h0 = Variable(torch.zeros(self.layer_dim, x.size(0), self.hidden_dim).cuda())\n",
        "        else:\n",
        "            h0 = Variable(torch.zeros(self.layer_dim, x.size(0), self.hidden_dim))\n",
        "\n",
        "        if torch.cuda.is_available():\n",
        "            c0 = Variable(torch.zeros(self.layer_dim, x.size(0), self.hidden_dim).cuda())\n",
        "        else:\n",
        "            c0 = Variable(torch.zeros(self.layer_dim, x.size(0), hidden_dim))\n",
        "\n",
        "        outs = []\n",
        "        cn = c0[0, :, :]\n",
        "        hn = h0[0, :, :]\n",
        "\n",
        "        for seq in range(x.size(1)):\n",
        "            hn, cn = self.lstm(x[:, seq, :], (hn, cn))\n",
        "            outs.append(hn)\n",
        "\n",
        "        out = outs[-1].squeeze()\n",
        "        out = self.fc(out)\n",
        "        return out"
      ],
      "metadata": {
        "id": "DGk61sGAsH1Y"
      },
      "execution_count": 8,
      "outputs": []
    },
    {
      "cell_type": "code",
      "source": [
        "# 코드 7-36 옵티마이저와 손실 함수 지정\n",
        "\n",
        "input_dim = 28\n",
        "hidden_dim = 128\n",
        "layer_dim = 1\n",
        "output_dim = 10\n",
        "\n",
        "model = LSTMModel(input_dim, hidden_dim, layer_dim, output_dim)\n",
        "if torch.cuda.is_available():\n",
        "    model.cuda()\n",
        "\n",
        "criterion = nn.CrossEntropyLoss()\n",
        "learning_rate = 0.1\n",
        "optimizer = torch.optim.SGD(model.parameters(), lr=learning_rate)"
      ],
      "metadata": {
        "id": "zOHha7t9scmf"
      },
      "execution_count": 9,
      "outputs": []
    },
    {
      "cell_type": "code",
      "source": [
        "# 코드 7-37 모델 학습 및 성능 확인\n",
        "\n",
        "seq_dim=28\n",
        "loss_list = []\n",
        "iter = 0\n",
        "for epoch in range(num_epochs) :\n",
        "   for i, (images ,labels) in enumerate(train_loader) :\n",
        "       if torch.cuda.is_available() :\n",
        "           images = Variable(images.view(-1, seq_dim, input_dim).cuda())\n",
        "           labels = Variable(labels.cuda())\n",
        "\n",
        "       else :\n",
        "           images = Variable(images.view(-1, seq_dim, input_dim))\n",
        "           labels = Variable(labels)\n",
        "\n",
        "       optimizer.zero_grad()\n",
        "       outputs = model(images)\n",
        "       loss = criterion(outputs, labels)\n",
        "\n",
        "       if torch.cuda.is_available() :\n",
        "           loss.cuda()\n",
        "\n",
        "       loss.backward()\n",
        "       optimizer.step()\n",
        "       loss_list.append(loss.item())\n",
        "       iter += 1\n",
        "\n",
        "\n",
        "       if iter % 500 == 0 :\n",
        "           correct = 0\n",
        "           total = 0\n",
        "\n",
        "           for images, labels in valid_loader :\n",
        "\n",
        "               if torch.cuda.is_available() :\n",
        "                   images = Variable(images.view(-1, seq_dim, input_dim).cuda())\n",
        "               else :\n",
        "                   images = Variable(images.view(-1, seq_dim, input_dim))\n",
        "\n",
        "               outputs = model(images)\n",
        "               _, predicted = torch.max(outputs.data, 1)\n",
        "\n",
        "               total += labels.size(0)\n",
        "               if torch.cuda.is_available() :\n",
        "                   correct += (predicted.cpu() == labels.cpu()).sum()\n",
        "\n",
        "               else :\n",
        "                   correct += (predicted == labels).sum()\n",
        "\n",
        "           accuracy = 100 * correct / total\n",
        "           print(f'Iteration : {iter} Loss : {loss.item()} Accuracy : {accuracy}')"
      ],
      "metadata": {
        "colab": {
          "base_uri": "https://localhost:8080/"
        },
        "id": "sPOPDFkFser1",
        "outputId": "8adb75b4-cb0d-4b7a-889b-7e5aa53859b5"
      },
      "execution_count": 10,
      "outputs": [
        {
          "output_type": "stream",
          "name": "stdout",
          "text": [
            "Iteration : 500 Loss : 2.237457513809204 Accuracy : 21.420000076293945\n",
            "Iteration : 1000 Loss : 0.8865489363670349 Accuracy : 75.66000366210938\n",
            "Iteration : 1500 Loss : 0.36925092339515686 Accuracy : 89.68000030517578\n",
            "Iteration : 2000 Loss : 0.22741778194904327 Accuracy : 93.22000122070312\n",
            "Iteration : 2500 Loss : 0.04691021144390106 Accuracy : 95.62999725341797\n",
            "Iteration : 3000 Loss : 0.05541188269853592 Accuracy : 95.95999908447266\n",
            "Iteration : 3500 Loss : 0.08951079845428467 Accuracy : 96.51000213623047\n",
            "Iteration : 4000 Loss : 0.02204427309334278 Accuracy : 96.95999908447266\n",
            "Iteration : 4500 Loss : 0.07599193602800369 Accuracy : 96.76000213623047\n",
            "Iteration : 5000 Loss : 0.05491260439157486 Accuracy : 97.11000061035156\n",
            "Iteration : 5500 Loss : 0.16436734795570374 Accuracy : 96.5199966430664\n",
            "Iteration : 6000 Loss : 0.01572381891310215 Accuracy : 97.20999908447266\n",
            "Iteration : 6500 Loss : 0.01401564758270979 Accuracy : 97.88999938964844\n",
            "Iteration : 7000 Loss : 0.01943875104188919 Accuracy : 97.91999816894531\n",
            "Iteration : 7500 Loss : 0.016851885244250298 Accuracy : 97.9800033569336\n",
            "Iteration : 8000 Loss : 0.11844594776630402 Accuracy : 97.83999633789062\n",
            "Iteration : 8500 Loss : 0.00998073909431696 Accuracy : 98.05000305175781\n",
            "Iteration : 9000 Loss : 0.035114556550979614 Accuracy : 97.83999633789062\n"
          ]
        }
      ]
    },
    {
      "cell_type": "code",
      "source": [
        "# 코드 7-38 테스트 데이터셋을 이용한 모델 예측 성능 확인\n",
        "\n",
        "def evaluate(model, val_iter):\n",
        "    corrects, total, total_loss = 0, 0, 0\n",
        "    model.eval()\n",
        "    for images, labels in val_iter:\n",
        "        if torch.cuda.is_available():\n",
        "            images = Variable(images.view(-1, seq_dim, input_dim).cuda())\n",
        "        else:\n",
        "            images = Variable(images.view(-1, seq_dim, input_dim)).to(device)\n",
        "\n",
        "        logit = model(images).to(device)\n",
        "        loss = F.cross_entropy(logit, labels, reduction='sum')\n",
        "        _, predicted = torch.max(logit.data, 1)\n",
        "        total += labels.size(0)\n",
        "        total_loss += loss.item()\n",
        "        corrects += (predicted == labels).sum()\n",
        "\n",
        "    avg_loss = total_loss / len(val_iter.dataset)\n",
        "    avg_accuracy = corrects / len(val_iter.dataset)\n",
        "    return avg_loss, avg_accuracy"
      ],
      "metadata": {
        "id": "ppZOdluHsm6J"
      },
      "execution_count": 11,
      "outputs": []
    },
    {
      "cell_type": "code",
      "source": [
        "# 코드 7-39 모델 예측 성능 확인\n",
        "\n",
        "test_loss, test_acc = evaluate(model, test_loader)\n",
        "print('Test Loss: %5.2f | Test Accuracy: %5.2f' % (test_loss, test_acc))"
      ],
      "metadata": {
        "colab": {
          "base_uri": "https://localhost:8080/"
        },
        "id": "GUNXGIOnsqJy",
        "outputId": "ea13f1fe-5aa9-41bc-84e9-443220dfa334"
      },
      "execution_count": 12,
      "outputs": [
        {
          "output_type": "stream",
          "name": "stdout",
          "text": [
            "Test Loss:  0.07 | Test Accuracy:  0.98\n"
          ]
        }
      ]
    },
    {
      "cell_type": "markdown",
      "source": [
        "### 7.5.3 LSTM 계층 구현\n",
        "* 스타벅스 주가 데이터셋-모델이 얼마나 주가 예측을 잘 하는지"
      ],
      "metadata": {
        "id": "UcOiB0yosuw1"
      }
    },
    {
      "cell_type": "code",
      "source": [
        "# 코드 7-40 라이브러리 호출\n",
        "\n",
        "import os\n",
        "import time\n",
        "\n",
        "import numpy as np\n",
        "import pandas as pd\n",
        "import matplotlib.pyplot as plt\n",
        "\n",
        "import torch\n",
        "import torch.nn as nn\n",
        "from torch.utils.data import TensorDataset, DataLoader\n",
        "from torch.autograd import Variable\n",
        "from tqdm import tqdm_notebook\n",
        "from sklearn.preprocessing import StandardScaler, MinMaxScaler\n",
        "from sklearn.model_selection import train_test_split\n",
        "\n",
        "device = torch.device('cuda' if torch.cuda.is_available() else 'cpu')"
      ],
      "metadata": {
        "id": "EHPPwNN-svP2"
      },
      "execution_count": 13,
      "outputs": []
    },
    {
      "cell_type": "code",
      "source": [
        "# 코드 7-41 데이터셋 가져오기\n",
        "\n",
        "# 1) raw.githubusercontent.com 주소로 변경\n",
        "url = 'https://raw.githubusercontent.com/gilbutITbook/080289/main/chap07/data/SBUX.csv'\n",
        "\n",
        "# 2) pandas로 읽어서 변수 data에 저장\n",
        "data = pd.read_csv(url)\n",
        "\n",
        "print(data .dtypes)"
      ],
      "metadata": {
        "colab": {
          "base_uri": "https://localhost:8080/"
        },
        "id": "bHMvKc8Usz_t",
        "outputId": "53c36617-55b0-4b8b-f7bb-177a202419f1"
      },
      "execution_count": 14,
      "outputs": [
        {
          "output_type": "stream",
          "name": "stdout",
          "text": [
            "Date          object\n",
            "Open         float64\n",
            "High         float64\n",
            "Low          float64\n",
            "Close        float64\n",
            "Adj Close    float64\n",
            "Volume         int64\n",
            "dtype: object\n"
          ]
        }
      ]
    },
    {
      "cell_type": "code",
      "source": [
        "# 코드 7-42 날짜 칼럼을 인덱스로 사용\n",
        "\n",
        "data['Date'] = pd.to_datetime(data['Date'])\n",
        "data.set_index('Date', inplace=True)"
      ],
      "metadata": {
        "id": "yU1Xg43Qs3EH"
      },
      "execution_count": 15,
      "outputs": []
    },
    {
      "cell_type": "code",
      "source": [
        "# 코드 7-43 데이터 형식 변경 (정수->실수)\n",
        "\n",
        "data['Volume'] = data['Volume'].astype(float)"
      ],
      "metadata": {
        "id": "06VOSXahtLOK"
      },
      "execution_count": 16,
      "outputs": []
    },
    {
      "cell_type": "code",
      "source": [
        "# 코드 7-44 훈련과 레이블 분리\n",
        "\n",
        "X = data.iloc[:, :-1]\n",
        "y = data.iloc[:, 5:6]\n",
        "print(X)\n",
        "print(y)"
      ],
      "metadata": {
        "colab": {
          "base_uri": "https://localhost:8080/"
        },
        "id": "APOY35ZltMxZ",
        "outputId": "ece9a323-6a96-4264-d233-8fd209049d50"
      },
      "execution_count": 17,
      "outputs": [
        {
          "output_type": "stream",
          "name": "stdout",
          "text": [
            "                  Open        High         Low       Close   Adj Close\n",
            "Date                                                                  \n",
            "2019-12-11   86.260002   86.870003   85.849998   86.589996   84.145752\n",
            "2019-12-12   88.000000   88.889999   87.540001   88.209999   85.720032\n",
            "2019-12-13   88.019997   88.790001   87.580002   88.669998   86.167046\n",
            "2019-12-16   89.139999   89.300003   88.430000   88.779999   86.273941\n",
            "2019-12-17   88.870003   88.970001   87.470001   88.129997   85.642288\n",
            "...                ...         ...         ...         ...         ...\n",
            "2020-12-04  101.349998  102.940002  101.070000  102.279999  101.442787\n",
            "2020-12-07  102.010002  102.220001  100.690002  101.410004  100.579918\n",
            "2020-12-08  100.370003  101.570000  100.010002  101.209999  100.381554\n",
            "2020-12-09  101.940002  102.209999  100.099998  100.400002   99.578186\n",
            "2020-12-10  103.510002  106.089996  102.750000  105.389999  104.527336\n",
            "\n",
            "[253 rows x 5 columns]\n",
            "                Volume\n",
            "Date                  \n",
            "2019-12-11   4921900.0\n",
            "2019-12-12  10282100.0\n",
            "2019-12-13   6714100.0\n",
            "2019-12-16   6705600.0\n",
            "2019-12-17   7296900.0\n",
            "...                ...\n",
            "2020-12-04   6952700.0\n",
            "2020-12-07   4514800.0\n",
            "2020-12-08   3911300.0\n",
            "2020-12-09   6629900.0\n",
            "2020-12-10  12939200.0\n",
            "\n",
            "[253 rows x 1 columns]\n"
          ]
        }
      ]
    },
    {
      "cell_type": "markdown",
      "source": [
        "분포를 고르게 맞추기 위해 스케일링을 수행. `MinMaxScaler()`, `StandardScaler()`로 분산 조정"
      ],
      "metadata": {
        "id": "O5_jjyoCtn3x"
      }
    },
    {
      "cell_type": "code",
      "source": [
        "# 코드 7-45 데이터 분포 조정\n",
        "\n",
        "ms = MinMaxScaler()\n",
        "ss = StandardScaler()\n",
        "\n",
        "X_ss = ss.fit_transform(X)\n",
        "y_ms = ms.fit_transform(y)\n",
        "\n",
        "X_train = X_ss[:200, :]\n",
        "X_test = X_ss[200:, :]\n",
        "\n",
        "y_train = y_ms[:200, :]\n",
        "y_test = y_ms[200:, :]\n",
        "\n",
        "print(\"Training Shape\", X_train.shape, y_train.shape)\n",
        "print(\"Testing Shape\", X_test.shape, y_test.shape)"
      ],
      "metadata": {
        "colab": {
          "base_uri": "https://localhost:8080/"
        },
        "id": "_ac7kgPztOP7",
        "outputId": "fa10b88d-c7a0-42d4-d09e-07729b7e5c9b"
      },
      "execution_count": 18,
      "outputs": [
        {
          "output_type": "stream",
          "name": "stdout",
          "text": [
            "Training Shape (200, 5) (200, 1)\n",
            "Testing Shape (53, 5) (53, 1)\n"
          ]
        }
      ]
    },
    {
      "cell_type": "code",
      "source": [
        "# 코드 7-46 데이터셋의 형태 및 크기 조정\n",
        "\n",
        "X_train_tensors = Variable(torch.Tensor(X_train))\n",
        "X_test_tensors = Variable(torch.Tensor(X_test))\n",
        "\n",
        "y_train_tensors = Variable(torch.Tensor(y_train))\n",
        "y_test_tensors = Variable(torch.Tensor(y_test))\n",
        "\n",
        "X_train_tensors_f = torch.reshape(X_train_tensors,   (X_train_tensors.shape[0], 1, X_train_tensors.shape[1]))\n",
        "X_test_tensors_f = torch.reshape(X_test_tensors,  (X_test_tensors.shape[0], 1, X_test_tensors.shape[1]))\n",
        "\n",
        "print(\"Training Shape\", X_train_tensors_f.shape, y_train_tensors.shape)\n",
        "print(\"Testing Shape\", X_test_tensors_f.shape, y_test_tensors.shape)"
      ],
      "metadata": {
        "colab": {
          "base_uri": "https://localhost:8080/"
        },
        "id": "alObIBautSYg",
        "outputId": "b4fa16b7-eb59-4889-e055-bdf664c236e6"
      },
      "execution_count": 19,
      "outputs": [
        {
          "output_type": "stream",
          "name": "stdout",
          "text": [
            "Training Shape torch.Size([200, 1, 5]) torch.Size([200, 1])\n",
            "Testing Shape torch.Size([53, 1, 5]) torch.Size([53, 1])\n"
          ]
        }
      ]
    },
    {
      "cell_type": "code",
      "source": [
        "# 코드 7-47 LSTM 네트워크\n",
        "\n",
        "class LSTM(nn.Module):\n",
        "    def __init__(self, num_classes, input_size, hidden_size, num_layers, seq_length):\n",
        "        super(LSTM, self).__init__()\n",
        "        self.num_classes = num_classes # 클래스 개수\n",
        "        self.num_layers = num_layers # LSTM 계층의 개수\n",
        "        self.input_size = input_size # 입력 크기로 훈련 데이터셋의 칼럼 개수 의미\n",
        "        self.hidden_size = hidden_size # 은닉층의 뉴런 개수\n",
        "        self.seq_length = seq_length # 시퀀스 길이\n",
        "\n",
        "        self.lstm = nn.LSTM(input_size=input_size, hidden_size=hidden_size,\n",
        "                          num_layers=num_layers, batch_first=True)\n",
        "        self.fc_1 =  nn.Linear(hidden_size, 128) # 완전연결층\n",
        "        self.fc = nn.Linear(128, num_classes) # 출력층\n",
        "\n",
        "        self.relu = nn.ReLU()\n",
        "\n",
        "    def forward(self,x):\n",
        "        h_0 = Variable(torch.zeros(self.num_layers, x.size(0), self.hidden_size)) # 은닉 상태를 0으로 초기화\n",
        "        c_0 = Variable(torch.zeros(self.num_layers, x.size(0), self.hidden_size)) # 셀 상태를 0으로 초기화\n",
        "\n",
        "        output, (hn, cn) = self.lstm(x, (h_0, c_0)) # LSTM 계층에 은닉 상태와 셀 상태 적용\n",
        "        hn = hn.view(-1, self.hidden_size) # 완전연결층 적용을 위해 데이터의 형태 조정\n",
        "        out = self.relu(hn)\n",
        "        out = self.fc_1(out)\n",
        "        out = self.relu(out)\n",
        "        out = self.fc(out)\n",
        "        return out"
      ],
      "metadata": {
        "id": "FqmUa360tUgM"
      },
      "execution_count": 20,
      "outputs": []
    },
    {
      "cell_type": "code",
      "source": [
        "# 코드 7-48 변수 값 설정\n",
        "\n",
        "num_epochs = 1000 # 1000번의 에포크\n",
        "learning_rate = 0.0001 # 학습률을 0.0001로 지정\n",
        "\n",
        "input_size = 5 # 입력 데이터셋의 칼럼 개수\n",
        "hidden_size = 2 # 은닉층의 뉴런/유닛 개수\n",
        "num_layers = 1 # LSTM 계층의 개수\n",
        "\n",
        "num_classes = 1 # 클래스 개수\n",
        "model = LSTM(num_classes, input_size, hidden_size, num_layers, X_train_tensors_f.shape[1]) # 앞에서 정의한 값들을 이용하여 LSTM 모델 학습\n",
        "\n",
        "criterion = torch.nn.MSELoss()\n",
        "optimizer = torch.optim.Adam(model.parameters(), lr = learning_rate)"
      ],
      "metadata": {
        "id": "uqqpX246tU9X"
      },
      "execution_count": 21,
      "outputs": []
    },
    {
      "cell_type": "code",
      "source": [
        "# 코드 7-49 모델 학습\n",
        "\n",
        "for epoch in range(num_epochs):\n",
        "    outputs = model.forward(X_train_tensors_f)\n",
        "    optimizer.zero_grad()\n",
        "    loss = criterion(outputs, y_train_tensors)\n",
        "    loss.backward()\n",
        "\n",
        "    optimizer.step()\n",
        "    if epoch % 100 == 0:\n",
        "        print('Epoch : %d, loss : %1.5f' % (epoch, loss.item()))"
      ],
      "metadata": {
        "colab": {
          "base_uri": "https://localhost:8080/"
        },
        "id": "KH6TEK-UtZB0",
        "outputId": "ae9c5bee-10e6-4022-d3fc-51356802c6e1"
      },
      "execution_count": 22,
      "outputs": [
        {
          "output_type": "stream",
          "name": "stdout",
          "text": [
            "Epoch : 0, loss : 0.18287\n",
            "Epoch : 100, loss : 0.05713\n",
            "Epoch : 200, loss : 0.03855\n",
            "Epoch : 300, loss : 0.03717\n",
            "Epoch : 400, loss : 0.03599\n",
            "Epoch : 500, loss : 0.03326\n",
            "Epoch : 600, loss : 0.02937\n",
            "Epoch : 700, loss : 0.02517\n",
            "Epoch : 800, loss : 0.02214\n",
            "Epoch : 900, loss : 0.02038\n"
          ]
        }
      ]
    },
    {
      "cell_type": "code",
      "source": [
        "# 코드 7-50 모델 예측 결과를 출력하기 위한 데이터 크기 재구성\n",
        "\n",
        "df_x_ss = ss.transform(data.iloc[:, :-1])\n",
        "df_y_ms = ms.transform(data.iloc[:, -1:])\n",
        "\n",
        "df_x_ss = Variable(torch.Tensor(df_x_ss))\n",
        "df_y_ms = Variable(torch.Tensor(df_y_ms))\n",
        "df_x_ss = torch.reshape(df_x_ss, (df_x_ss.shape[0], 1, df_x_ss.shape[1]))"
      ],
      "metadata": {
        "id": "64BjTPHrta3A"
      },
      "execution_count": 23,
      "outputs": []
    },
    {
      "cell_type": "code",
      "source": [
        "# 코드 7-51 모델 예측 결과 출력\n",
        "\n",
        "train_predict = model(df_x_ss)\n",
        "predicted = train_predict.data.numpy()\n",
        "label_y = df_y_ms.data.numpy()\n",
        "\n",
        "predicted= ms.inverse_transform(predicted)\n",
        "label_y = ms.inverse_transform(label_y)\n",
        "plt.figure(figsize=(10,6))\n",
        "plt.axvline(x=200, c='r', linestyle='--')    # (1)\n",
        "\n",
        "plt.plot(label_y, label='Actual Data')\n",
        "plt.plot(predicted, label='Predicted Data')\n",
        "plt.title('Time-Series Prediction')\n",
        "plt.legend()\n",
        "plt.show()"
      ],
      "metadata": {
        "colab": {
          "base_uri": "https://localhost:8080/",
          "height": 545
        },
        "id": "6DD_sy6EtdRI",
        "outputId": "613af62d-b328-45f7-d910-2f45426edd13"
      },
      "execution_count": 24,
      "outputs": [
        {
          "output_type": "display_data",
          "data": {
            "text/plain": [
              "<Figure size 1000x600 with 1 Axes>"
            ],
            "image/png": "[encoded data removed]"
          },
          "metadata": {}
        }
      ]
    },
    {
      "cell_type": "code",
      "source": [],
      "metadata": {
        "id": "2T9yeuWjvlyO"
      },
      "execution_count": 24,
      "outputs": []
    }
  ]
}