{
  "nbformat": 4,
  "nbformat_minor": 0,
  "metadata": {
    "colab": {
      "provenance": [],
      "include_colab_link": true
    },
    "kernelspec": {
      "name": "python3",
      "display_name": "Python 3"
    },
    "language_info": {
      "name": "python"
    }
  },
  "cells": [
    {
      "cell_type": "markdown",
      "metadata": {
        "id": "view-in-github",
        "colab_type": "text"
      },
      "source": [
        "<a href=\"https://colab.research.google.com/github/soyeunju/ESAA/blob/main/25-1/Exercises/0620_Week16_exercise.ipynb\" target=\"_parent\"><img src=\"https://colab.research.google.com/assets/colab-badge.svg\" alt=\"Open In Colab\"/></a>"
      ]
    },
    {
      "cell_type": "markdown",
      "source": [
        "# **OB 시계열 연습문제**\n",
        "\n",
        "\n",
        "AAPL(Apple Inc.)의 주가 데이터를 이용하여, 과거 60일의 종가 데이터를 입력으로 받아 다음 날의 주가를 예측하는 LSTM 모델을 구현하고 예측 결과를 시각화해봅시다.🚀"
      ],
      "metadata": {
        "id": "2Kjs3keRkQtr"
      }
    },
    {
      "cell_type": "markdown",
      "source": [
        "### 0. 필요 라이브러리 임포트"
      ],
      "metadata": {
        "id": "21iBPZ3Xk_ZR"
      }
    },
    {
      "cell_type": "code",
      "source": [
        "import numpy as np\n",
        "import pandas as pd\n",
        "import matplotlib.pyplot as plt\n",
        "import yfinance as yf\n",
        "import torch\n",
        "import torch.nn as nn\n",
        "from sklearn.preprocessing import MinMaxScaler\n",
        "\n",
        "# device 설정: 가능하면 GPU 사용\n",
        "device = torch.device('cuda' if torch.cuda.is_available() else 'cpu')"
      ],
      "metadata": {
        "id": "4It26bjzk1QH"
      },
      "execution_count": 1,
      "outputs": []
    },
    {
      "cell_type": "markdown",
      "source": [
        "### 1. 데이터 다운로드 및 전처리\n",
        "\n",
        "1-a. yfinance 라이브러리를 사용해 AAPL(Apple Inc.)의 주가 데이터를 2010년 1월 1일부터 2023년 1월 1일까지 다운로드하세요. 다운로드한 데이터에서 'Close' 컬럼만 선택하고, 결측치를 제거하세요.\n",
        "\n",
        "힌트: yf.download(ticker, start, end) 함수를 사용합니다.\n"
      ],
      "metadata": {
        "id": "JdExG3WLlGm1"
      }
    },
    {
      "cell_type": "code",
      "execution_count": 2,
      "metadata": {
        "id": "DjylG8dQftCm",
        "colab": {
          "base_uri": "https://localhost:8080/"
        },
        "outputId": "fe6b0634-dae3-4d26-fb43-4f25cbe5fa28"
      },
      "outputs": [
        {
          "output_type": "stream",
          "name": "stderr",
          "text": [
            "/tmp/ipython-input-2-1054005927.py:2: FutureWarning: YF.download() has changed argument auto_adjust default to True\n",
            "  data = yf.download('AAPL', '2010-01-01', '2023-01-01')\n",
            "[*********************100%***********************]  1 of 1 completed\n"
          ]
        }
      ],
      "source": [
        "# 데이터 로드\n",
        "data = yf.download('AAPL', '2010-01-01', '2023-01-01')\n",
        "# Close 칼럼만 선택\n",
        "data = data['Close']\n",
        "# 결측치 제거\n",
        "data = data.dropna()"
      ]
    },
    {
      "cell_type": "markdown",
      "source": [
        "1-b. MinMaxScaler를 이용해 데이터를 0~1 범위로 정규화하세요."
      ],
      "metadata": {
        "id": "EIg_d86VmaxP"
      }
    },
    {
      "cell_type": "code",
      "source": [
        "# 데이터 정규화\n",
        "mm = MinMaxScaler()\n",
        "\n",
        "data = mm.fit_transform(data)"
      ],
      "metadata": {
        "id": "uNfym0cflKny"
      },
      "execution_count": 3,
      "outputs": []
    },
    {
      "cell_type": "markdown",
      "source": [
        "### 2. 시퀀스 데이터 생성\n",
        "\n",
        "정규화된 데이터를 바탕으로, 슬라이딩 윈도우 기법을 사용하여 지난 60일의 데이터를 입력 시퀀스로, 61번째 날의 데이터를 타깃으로 하는 시퀀스 데이터셋을 생성하세요.\n",
        "\n",
        "힌트: for 루프를 활용해 인덱스를 이동하면서 각 시퀀스를 구성합니다. 시퀀스 데이터 생성 함수를 정의해 사용할 수 있습니다."
      ],
      "metadata": {
        "id": "YqsIYinmm60w"
      }
    },
    {
      "cell_type": "code",
      "source": [
        "# 2. 시퀀스 데이터 생성 함수 (예: 지난 60일을 보고 다음 날 예측)\n",
        "X = []\n",
        "y = []\n",
        "\n",
        "for i in range(60, len(data)):\n",
        "  X.append(data[i - 60:i])\n",
        "  y.append(data[i])"
      ],
      "metadata": {
        "id": "_JjACKlTlL68"
      },
      "execution_count": 4,
      "outputs": []
    },
    {
      "cell_type": "markdown",
      "source": [
        "### 3. 데이터셋 분할 및 Pytorch 텐서로 변환\n",
        "\n",
        "3-a. 생성한 시퀀스 데이터를 학습용(80%)과 테스트용(20%)으로 분리하세요."
      ],
      "metadata": {
        "id": "DrdjQN4Hnlab"
      }
    },
    {
      "cell_type": "code",
      "source": [
        "# 데이터셋을 학습용과 테스트용으로 분리 (80% 학습, 20% 테스트)\n",
        "\n",
        "X = np.array(X)\n",
        "y = np.array(y)\n",
        "\n",
        "len_train = int(len(X)*0.8)\n",
        "\n",
        "X_train = X[:len_train]\n",
        "X_test = X[len_train:]\n",
        "y_train = y[:len_train]\n",
        "y_test = y[len_train:]\n",
        "\n",
        "print(X_train.shape, X_test.shape, y_train.shape, y_test.shape)"
      ],
      "metadata": {
        "id": "zYWHYTsRlO0K",
        "colab": {
          "base_uri": "https://localhost:8080/"
        },
        "outputId": "30635a59-16b3-4178-af8b-56a24b112176"
      },
      "execution_count": 5,
      "outputs": [
        {
          "output_type": "stream",
          "name": "stdout",
          "text": [
            "(2569, 60, 1) (643, 60, 1) (2569, 1) (643, 1)\n"
          ]
        }
      ]
    },
    {
      "cell_type": "markdown",
      "source": [
        "3-b. 분리한 데이터를 PyTorch 텐서(torch.FloatTensor)로 변환하고, 타깃 데이터의 차원도 (batch_size, 1)로 맞추세요."
      ],
      "metadata": {
        "id": "HY2SwcCIn1uS"
      }
    },
    {
      "cell_type": "code",
      "source": [
        "# 3. PyTorch 텐서로 변환\n",
        "X_train_tensor = torch.tensor(X_train, dtype=torch.float32)\n",
        "X_test_tensor = torch.tensor(X_test, dtype=torch.float32)\n",
        "y_train_tensor = torch.tensor(y_train, dtype=torch.float32)\n",
        "y_test_tensor = torch.tensor(y_test, dtype=torch.float32)\n",
        "\n",
        "print(X_train_tensor.shape, X_test_tensor.shape, y_train_tensor.shape, y_test_tensor.shape)"
      ],
      "metadata": {
        "id": "fTo3DP0ElSKE",
        "colab": {
          "base_uri": "https://localhost:8080/"
        },
        "outputId": "b349c612-d3fa-4f9f-83ce-0f3cbb48a96b"
      },
      "execution_count": 6,
      "outputs": [
        {
          "output_type": "stream",
          "name": "stdout",
          "text": [
            "torch.Size([2569, 60, 1]) torch.Size([643, 60, 1]) torch.Size([2569, 1]) torch.Size([643, 1])\n"
          ]
        }
      ]
    },
    {
      "cell_type": "code",
      "source": [
        "# 타깃 텐서의 차원 변경: (batch_size, 1)\n",
        "y_train_tensor = y_train_tensor.unsqueeze(1)\n",
        "y_test_tensor = y_test_tensor.unsqueeze(1)\n",
        "\n",
        "print(y_train_tensor.shape, y_test_tensor.shape)"
      ],
      "metadata": {
        "id": "ExRI20G6lTRO",
        "colab": {
          "base_uri": "https://localhost:8080/"
        },
        "outputId": "2fabb21c-7f25-430d-8c36-09e8569447d0"
      },
      "execution_count": 7,
      "outputs": [
        {
          "output_type": "stream",
          "name": "stdout",
          "text": [
            "torch.Size([2569, 1, 1]) torch.Size([643, 1, 1])\n"
          ]
        }
      ]
    },
    {
      "cell_type": "markdown",
      "source": [
        "### 4. LSTM 모델 정의\n",
        "\n",
        "PyTorch를 이용해 LSTM 모델을 구현하세요.\n",
        "모델은 하나 이상의 LSTM 레이어와 최종 출력을 위한 Fully Connected(FC) 레이어로 구성되어야 합니다.\n",
        "순전파(forward) 함수에서 초기 hidden state와 cell state를 올바르게 초기화하세요.\n",
        "\n",
        "힌트: 교재 p.414 내용 참고"
      ],
      "metadata": {
        "id": "4hQm-aPfoFq1"
      }
    },
    {
      "cell_type": "code",
      "source": [
        "# 4. LSTM 모델 정의\n",
        "class LSTM(nn.Module):\n",
        "  def __init__(self, input_size, hidden_size, num_layers, output_size):\n",
        "    super(LSTM, self).__init__()\n",
        "\n",
        "    self.hidden_size = hidden_size\n",
        "    self.num_layers = num_layers\n",
        "\n",
        "    self.lstm = nn.LSTM(input_size, hidden_size, num_layers, batch_first=True)\n",
        "    self.fc = nn.Linear(hidden_size, output_size)\n",
        "\n",
        "  def forward(self, x):\n",
        "    h0 = torch.zeros(self.num_layers, x.size(0), self.hidden_size).to(x.device)\n",
        "    c0 = torch.zeros(self.num_layers, x.size(0), self.hidden_size).to(x.device)\n",
        "\n",
        "    out, _ = self.lstm(x, (h0, c0))\n",
        "    out = out[:, -1, :]\n",
        "    out = self.fc(out)\n",
        "    return out"
      ],
      "metadata": {
        "id": "iNR37WSplVHK"
      },
      "execution_count": 8,
      "outputs": []
    },
    {
      "cell_type": "markdown",
      "source": [
        "### 5. 모델학습"
      ],
      "metadata": {
        "id": "2Io669WOpT0U"
      }
    },
    {
      "cell_type": "markdown",
      "source": [
        "5-a. 모델학습에 필요한 변수 값들(criterion, optimizer, num_epochs 등)을 정의하세요. (시간 상 epoch수는 30으로 하는 것을 추천합니다.)"
      ],
      "metadata": {
        "id": "ZlDXJ0j5o4wh"
      }
    },
    {
      "cell_type": "code",
      "source": [
        "# 손실함수와 옵티마이저 정의\n",
        "input_size = 1\n",
        "hidden_size = 2\n",
        "num_layers = 1\n",
        "output_size = 1\n",
        "learning_rate = 0.01\n",
        "\n",
        "model = LSTM(input_size, hidden_size, num_layers, output_size)\n",
        "\n",
        "criterion = nn.MSELoss()\n",
        "optimizer = torch.optim.SGD(model.parameters(), lr=learning_rate)\n",
        "num_epochs = 30"
      ],
      "metadata": {
        "id": "CifGEYGllWpE"
      },
      "execution_count": 10,
      "outputs": []
    },
    {
      "cell_type": "markdown",
      "source": [
        "5-b. 정의한 LSTM 모델을 사용해 학습을 진행하세요.학습 과정에서 MSELoss를 손실함수로, Adam Optimizer를 최적화 도구로 사용하세요."
      ],
      "metadata": {
        "id": "LP9kmdHwprlo"
      }
    },
    {
      "cell_type": "code",
      "source": [
        "# 모델 학습\n",
        "for epoch in range(num_epochs):\n",
        "  model.train()\n",
        "\n",
        "  outputs = model(X_train_tensor)\n",
        "\n",
        "  loss = criterion(outputs, y_train_tensor)\n",
        "\n",
        "  optimizer.zero_grad()\n",
        "  loss.backward()\n",
        "  optimizer.step()\n",
        "\n",
        "  if epoch % 10 == 0:\n",
        "    print('Epoch: %d | loss: %1.5f' % (epoch, loss.item()))"
      ],
      "metadata": {
        "id": "6TDaRGsulYF-",
        "colab": {
          "base_uri": "https://localhost:8080/"
        },
        "outputId": "54518896-6ab4-4ae1-934b-d2e445db8f99"
      },
      "execution_count": 11,
      "outputs": [
        {
          "output_type": "stream",
          "name": "stderr",
          "text": [
            "/usr/local/lib/python3.11/dist-packages/torch/nn/modules/loss.py:610: UserWarning: Using a target size (torch.Size([2569, 1, 1])) that is different to the input size (torch.Size([2569, 1])). This will likely lead to incorrect results due to broadcasting. Please ensure they have the same size.\n",
            "  return F.mse_loss(input, target, reduction=self.reduction)\n"
          ]
        },
        {
          "output_type": "stream",
          "name": "stdout",
          "text": [
            "Epoch: 0 | loss: 0.54430\n",
            "Epoch: 10 | loss: 0.31137\n",
            "Epoch: 20 | loss: 0.17759\n"
          ]
        }
      ]
    },
    {
      "cell_type": "markdown",
      "source": [
        "### 6. 예측 결과 시각화\n",
        "\n",
        "테스트 데이터를 활용하여 모델의 예측을 수행한 후, 예측 결과와 실제 주가를 비교하는 그래프를 작성하세요.\n",
        "예측 결과와 실제 값은 정규화된 값이므로, scaler.inverse_transform을 사용해 원래 주가 값으로 복원해야 합니다.\n",
        "\n",
        "힌트: 모델 예측 시 GPU를 사용했다면 .cpu().detach().numpy()를 통해 NumPy 배열로 변환하세요.\n"
      ],
      "metadata": {
        "id": "yTG4BCc4pY0c"
      }
    },
    {
      "cell_type": "code",
      "source": [
        "# 테스트 데이터에 대한 예측\n",
        "model.eval()\n",
        "predicted = model(X_test_tensor)\n",
        "# 텐서를 numpy 배열로 변환 (GPU 사용 시 .cpu() 필요)\n",
        "predicted = predicted.cpu().detach().numpy()\n",
        "y_test_tensor_np = y_test_tensor.cpu().detach().numpy()"
      ],
      "metadata": {
        "id": "BnF-AvDdlZeS"
      },
      "execution_count": 15,
      "outputs": []
    },
    {
      "cell_type": "code",
      "source": [
        "# 정규화 복원: 실제 주가로 변환\n",
        "predicted_prices = mm.inverse_transform(predicted)\n",
        "actual_prices = mm.inverse_transform(y_test_tensor_np.reshape(-1, 1))"
      ],
      "metadata": {
        "id": "BNg0h9IRlafi"
      },
      "execution_count": 21,
      "outputs": []
    },
    {
      "cell_type": "code",
      "source": [
        "# 결과 시각화\n",
        "plt.figure(figsize=(12, 6))\n",
        "plt.plot(actual_prices, label='Actual Price')\n",
        "plt.plot(predicted_prices, label='Predicted Price')\n",
        "plt.title('Stock Price Prediction using LSTM')\n",
        "plt.xlabel('Time')\n",
        "plt.ylabel('Price')\n",
        "plt.legend()\n",
        "plt.show()"
      ],
      "metadata": {
        "id": "hB6ecF1plbtg",
        "colab": {
          "base_uri": "https://localhost:8080/",
          "height": 564
        },
        "outputId": "36437bff-d7c9-4e31-8b0d-b33afea5ec47"
      },
      "execution_count": 23,
      "outputs": [
        {
          "output_type": "display_data",
          "data": {
            "text/plain": [
              "<Figure size 1200x600 with 1 Axes>"
            ],
            "image/png": "[encoded data removed]"
          },
          "metadata": {}
        }
      ]
    },
    {
      "cell_type": "code",
      "source": [],
      "metadata": {
        "id": "4lmMp8350625"
      },
      "execution_count": null,
      "outputs": []
    }
  ]
}