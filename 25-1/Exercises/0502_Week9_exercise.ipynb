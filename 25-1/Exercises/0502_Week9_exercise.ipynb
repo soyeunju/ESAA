{
  "nbformat": 4,
  "nbformat_minor": 0,
  "metadata": {
    "colab": {
      "provenance": [],
      "include_colab_link": true
    },
    "kernelspec": {
      "name": "python3",
      "display_name": "Python 3"
    },
    "language_info": {
      "name": "python"
    }
  },
  "cells": [
    {
      "cell_type": "markdown",
      "metadata": {
        "id": "view-in-github",
        "colab_type": "text"
      },
      "source": [
        "<a href=\"https://colab.research.google.com/github/soyeunju/ESAA/blob/main/25-1/Exercises/0502_Week9_exercise.ipynb\" target=\"_parent\"><img src=\"https://colab.research.google.com/assets/colab-badge.svg\" alt=\"Open In Colab\"/></a>"
      ]
    },
    {
      "cell_type": "markdown",
      "source": [
        "#### **Step 1: 필요한 라이브러리 불러오기**"
      ],
      "metadata": {
        "id": "vA-dStiQaoCw"
      }
    },
    {
      "cell_type": "code",
      "source": [
        "import pandas as pd\n",
        "import numpy as np\n",
        "from sklearn.metrics.pairwise import cosine_similarity"
      ],
      "metadata": {
        "id": "WtLhTZG-Yh9R"
      },
      "execution_count": 1,
      "outputs": []
    },
    {
      "cell_type": "markdown",
      "source": [
        "#### **Step 2: 데이터 생성 (사용자-아이템 행렬 만들기)**"
      ],
      "metadata": {
        "id": "IyENZxTKaqGw"
      }
    },
    {
      "cell_type": "code",
      "source": [
        "data = {\n",
        "    \"사용자\": [\"A\", \"A\", \"B\", \"B\", \"C\", \"C\", \"D\", \"D\"],\n",
        "    \"아이템\": [\"영화1\", \"영화2\", \"영화1\", \"영화3\", \"영화2\", \"영화3\", \"영화1\", \"영화3\"],\n",
        "    \"평점\": [5, 3, 4, 2, 4, 5, 3, 4]\n",
        "}\n",
        "df = pd.DataFrame(data)\n",
        "print(\"데이터프레임:\")\n",
        "print(df)"
      ],
      "metadata": {
        "colab": {
          "base_uri": "https://localhost:8080/"
        },
        "id": "9Z4OKMnWYjky",
        "outputId": "203d0910-9dcb-4ff7-a81d-f694b5e91dac"
      },
      "execution_count": 2,
      "outputs": [
        {
          "output_type": "stream",
          "name": "stdout",
          "text": [
            "데이터프레임:\n",
            "  사용자  아이템  평점\n",
            "0   A  영화1   5\n",
            "1   A  영화2   3\n",
            "2   B  영화1   4\n",
            "3   B  영화3   2\n",
            "4   C  영화2   4\n",
            "5   C  영화3   5\n",
            "6   D  영화1   3\n",
            "7   D  영화3   4\n"
          ]
        }
      ]
    },
    {
      "cell_type": "markdown",
      "source": [
        "#### **Step 3: 사용자-아이템 행렬로 변환**"
      ],
      "metadata": {
        "id": "FanWysJhars5"
      }
    },
    {
      "cell_type": "code",
      "source": [
        "pivot_table = df.pivot(index=\"사용자\", columns=\"아이템\", values=\"평점\").fillna(0)\n",
        "print(\"\\n사용자-아이템 행렬:\")\n",
        "print(pivot_table)"
      ],
      "metadata": {
        "colab": {
          "base_uri": "https://localhost:8080/"
        },
        "id": "YO5xCv9oYk06",
        "outputId": "c730b167-b679-4721-ab8a-1f6e0ecd9b46"
      },
      "execution_count": 3,
      "outputs": [
        {
          "output_type": "stream",
          "name": "stdout",
          "text": [
            "\n",
            "사용자-아이템 행렬:\n",
            "아이템  영화1  영화2  영화3\n",
            "사용자               \n",
            "A    5.0  3.0  0.0\n",
            "B    4.0  0.0  2.0\n",
            "C    0.0  4.0  5.0\n",
            "D    3.0  0.0  4.0\n"
          ]
        }
      ]
    },
    {
      "cell_type": "markdown",
      "source": [
        "#### **Step 4: 아이템 기반 협업 필터링 - 코사인 유사도 계산**"
      ],
      "metadata": {
        "id": "mPtbTVo2at0p"
      }
    },
    {
      "cell_type": "code",
      "source": [
        "similarity_matrix = cosine_similarity(pivot_table.T, pivot_table.T)                          # 아이템 기반이므로 Transpose 적용\n",
        "similarity_df = pd.DataFrame(similarity_matrix, index = pivot_table.columns, columns = pivot_table.columns)                               # 데이터프레임으로 변환, 유사도행렬 생성\n",
        "print(\"\\n아이템 간 유사도 행렬:\")\n",
        "print(similarity_df)"
      ],
      "metadata": {
        "colab": {
          "base_uri": "https://localhost:8080/"
        },
        "id": "FGmPJphGYmJl",
        "outputId": "e0f51061-1ece-459b-ed54-dd672a46022c"
      },
      "execution_count": 5,
      "outputs": [
        {
          "output_type": "stream",
          "name": "stdout",
          "text": [
            "\n",
            "아이템 간 유사도 행렬:\n",
            "아이템       영화1       영화2       영화3\n",
            "아이템                              \n",
            "영화1  1.000000  0.424264  0.421637\n",
            "영화2  0.424264  1.000000  0.596285\n",
            "영화3  0.421637  0.596285  1.000000\n"
          ]
        }
      ]
    },
    {
      "cell_type": "markdown",
      "source": [
        "#### **Step 5: 특정 아이템과 가장 유사한 상위 2개 아이템 찾기**"
      ],
      "metadata": {
        "id": "Adj_oJoBau4X"
      }
    },
    {
      "cell_type": "code",
      "source": [
        "item_name = \"영화1\"  # 예제 아이템\n",
        "most_similar_items = similarity_df[item_name].sort_values(ascending=False)[1:3]\n",
        "print(f\"\\n'영화1'과 가장 유사한 아이템:\")\n",
        "print(most_similar_items)"
      ],
      "metadata": {
        "colab": {
          "base_uri": "https://localhost:8080/"
        },
        "id": "UpojKSG2Ynqj",
        "outputId": "220ca719-60d8-47ac-98d9-03a51c9e0243"
      },
      "execution_count": 6,
      "outputs": [
        {
          "output_type": "stream",
          "name": "stdout",
          "text": [
            "\n",
            "'영화1'과 가장 유사한 아이템:\n",
            "아이템\n",
            "영화2    0.424264\n",
            "영화3    0.421637\n",
            "Name: 영화1, dtype: float64\n"
          ]
        }
      ]
    },
    {
      "cell_type": "markdown",
      "source": [
        "#### **Step 6: 사용자 기반 협업 필터링 - 유사도 행렬 계산 (빈칸 채우기)**"
      ],
      "metadata": {
        "id": "nZhJJ0NXaw7s"
      }
    },
    {
      "cell_type": "code",
      "source": [
        "user_similarity_matrix = cosine_similarity(pivot_table, pivot_table)  # 사용자 기반이므로 pivot_table 그대로 사용\n",
        "user_similarity_df =  pd.DataFrame(user_similarity_matrix, index = pivot_table.index, columns = pivot_table.index)  # 데이터프레임으로 변환, 유사도행렬 생성\n",
        "print(\"\\n사용자 간 유사도 행렬:\")\n",
        "print(user_similarity_df)"
      ],
      "metadata": {
        "colab": {
          "base_uri": "https://localhost:8080/"
        },
        "id": "zN3i2l4lYpsn",
        "outputId": "7536bf74-9d94-4617-d663-1b57dd1c4788"
      },
      "execution_count": 8,
      "outputs": [
        {
          "output_type": "stream",
          "name": "stdout",
          "text": [
            "\n",
            "사용자 간 유사도 행렬:\n",
            "사용자         A         B         C         D\n",
            "사용자                                        \n",
            "A    1.000000  0.766965  0.321403  0.514496\n",
            "B    0.766965  1.000000  0.349215  0.894427\n",
            "C    0.321403  0.349215  1.000000  0.624695\n",
            "D    0.514496  0.894427  0.624695  1.000000\n"
          ]
        }
      ]
    },
    {
      "cell_type": "markdown",
      "source": [
        "#### **Step 7: 특정 사용자와 가장 유사한 상위 2명의 사용자 찾기 (빈칸 채우기)**"
      ],
      "metadata": {
        "id": "QkTs9VP0ayXO"
      }
    },
    {
      "cell_type": "code",
      "source": [
        "user_name = \"A\"\n",
        "most_similar_users = user_similarity_df.loc[user_name].sort_values(ascending=False)[1:3]                                                 # 사용자 user_name과 가장 유사한 상위 2명의 사용자 찾기\n",
        "print(f\"\\n사용자 '{user_name}'과 가장 유사한 사용자:\")\n",
        "print(most_similar_users)"
      ],
      "metadata": {
        "colab": {
          "base_uri": "https://localhost:8080/"
        },
        "id": "N8pZYc8gYq8Y",
        "outputId": "65cdbd33-fbac-4360-9b60-de9ecc497e47"
      },
      "execution_count": 10,
      "outputs": [
        {
          "output_type": "stream",
          "name": "stdout",
          "text": [
            "\n",
            "사용자 'A'과 가장 유사한 사용자:\n",
            "사용자\n",
            "B    0.766965\n",
            "D    0.514496\n",
            "Name: A, dtype: float64\n"
          ]
        }
      ]
    },
    {
      "cell_type": "markdown",
      "source": [
        "#### **Step 8: 협업 필터링을 적용하여 추천 (빈칸 채우기)**"
      ],
      "metadata": {
        "id": "vgkJonAHazgu"
      }
    },
    {
      "cell_type": "code",
      "source": [
        "def recommend_items(user, user_similarity_df, pivot_table, top_n=2):\n",
        "    \"\"\" 주어진 사용자와 유사한 사용자의 선호도를 기반으로 아이템 추천 \"\"\"\n",
        "    similar_users = user_similarity_df.loc[user].sort_values(ascending=False)[1:top_n+1].index  # 사용자 user와 가장 유사한 상위 top_n명의 사용자 리스트 반환\n",
        "    recommended_items = pivot_table.loc[similar_users].mean().sort_values(ascending=False)[:top_n] # 선택된 유사한 사용자들의 평균값 계산, 내림차순 정렬 후 상위 top_n개 항목을 반환\n",
        "    return recommended_items\n",
        "\n",
        "recommended_movies = recommend_items(\"A\", user_similarity_df, pivot_table, top_n=2)\n",
        "print(\"\\n사용자 A에게 추천되는 아이템:\")\n",
        "print(recommended_movies)\n"
      ],
      "metadata": {
        "colab": {
          "base_uri": "https://localhost:8080/"
        },
        "id": "hsu3mBuWXtS6",
        "outputId": "cc2de3d1-df34-48bf-b4db-ba0ff740f461"
      },
      "execution_count": 13,
      "outputs": [
        {
          "output_type": "stream",
          "name": "stdout",
          "text": [
            "\n",
            "사용자 A에게 추천되는 아이템:\n",
            "아이템\n",
            "영화1    3.5\n",
            "영화3    3.0\n",
            "dtype: float64\n"
          ]
        }
      ]
    }
  ]
}